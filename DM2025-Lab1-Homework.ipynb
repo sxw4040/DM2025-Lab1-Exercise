{
 "cells": [
  {
   "cell_type": "markdown",
   "metadata": {},
   "source": [
    "### Student Information\n",
    "Name:張家豪\n",
    "\n",
    "Student ID:81373001H\n",
    "\n",
    "GitHub ID:sxw4040"
   ]
  },
  {
   "cell_type": "markdown",
   "metadata": {},
   "source": [
    "---"
   ]
  },
  {
   "cell_type": "markdown",
   "metadata": {},
   "source": [
    "### Instructions"
   ]
  },
  {
   "cell_type": "markdown",
   "metadata": {},
   "source": [
    "### First Phase Submission"
   ]
  },
  {
   "cell_type": "markdown",
   "metadata": {},
   "source": [
    "1. First: do the **take home** exercises in the [DM2025-Lab1-Master](https://github.com/leoson-wu/DM2025-Lab1-Exercise/blob/main/DM2025-Lab1-Master.ipynb) that considered as **phase 1 (from exercise 1 to exercise 15)**. You can answer in the master file. __This part is worth 10% of your grade.__\n",
    "\n",
    "\n",
    "2. Second: follow the same process from the [DM2025-Lab1-Master](https://github.com/leoson-wu/DM2025-Lab1-Exercise/blob/main/DM2025-Lab1-Master.ipynb) on **the new dataset** up **until phase 1**. You can skip some exercises if you think some steps are not necessary. However main exercises should be completed. You don't need to explain all details as we did (some **minimal comments** explaining your code are useful though).  __This part is worth 15% of your grade.__\n",
    "    -  Use [the new dataset](https://github.com/leoson-wu/DM2025-Lab1-Exercise/blob/main/newdataset/Reddit-stock-sentiment.csv). The dataset contains a 16 columns including 'text' and 'label', with the sentiment labels being: 1.0 is positive, 0.0 is neutral and -1.0 is negative. You can simplify the dataset and use only the columns that you think are necessary. \n",
    "    \n",
    "    - You are allowed to use and modify the `helper` functions in the folder of the first lab session (notice they may need modification) or create your own.\n",
    "    - Use this file to complete the homework from the second part. Make sure the code can be run from the beginning till the end and has all the needed output.\n",
    "\n",
    "\n",
    "3. Third: please attempt the following tasks on **the new dataset**. __This part is worth 10% of your grade.__\n",
    "    - Generate meaningful **new data visualizations**. Refer to online resources and the Data Mining textbook for inspiration and ideas. \n",
    "    \n",
    "\n",
    "\n",
    "4. Fourth: It's hard for us to follow if your code is messy, so please **tidy up your notebook** and **add minimal comments where needed**. __This part is worth 5% of your grade.__\n",
    "\n",
    "You can submit your homework following these guidelines: [DM2025-Lab1-announcement](https://github.com/leoson-wu/DM2025-Lab1-Announcement/blob/main/README.md). Make sure to commit and save your changes to your repository __BEFORE the deadline (September 28th 11:59 pm, Sunday)__. "
   ]
  },
  {
   "cell_type": "markdown",
   "metadata": {},
   "source": [
    "### Second Phase Submission "
   ]
  },
  {
   "cell_type": "markdown",
   "metadata": {},
   "source": [
    "**You can keep the answer for phase 1 for easier running and update the phase 2 on the same page.**\n",
    "\n",
    "1. First: Continue doing the **take home** exercises in the [DM2025-Lab1-Master](https://github.com/leoson-wu/DM2025-Lab1-Exercise/blob/main/DM2025-Lab1-Master.ipynb) for **phase 2, starting from Finding frequent patterns**. Use the same master(.ipynb) file. Answer from phase 1 will not be considered at this stage. You can answer in the master file. __This part is worth 10% of your grade.__\n",
    "\n",
    "\n",
    "2. Second: Continue from first phase and do the same process from the [DM2025-Lab1-Master](https://github.com/leoson-wu/DM2025-Lab1-Exercise/blob/main/DM2025-Lab1-Master.ipynb) on **the new dataset** for phase 2, starting from Finding frequent pattern. You can skip some exercises if you think some steps are not necessary. However main exercises should be completed. You don't need to explain all details as we did (some **minimal comments** explaining your code are useful though).  __This part is worth 15% of your grade.__\n",
    "    - Continue using this file to complete the homework from the second part. Make sure the code can be run from the beginning till the end and has all the needed output. Use the same new dataset as in phase 1.\n",
    "    \n",
    "    - You are allowed to use and modify the `helper` functions in the folder of the first lab session (notice they may need modification) or create your own.\n",
    "\n",
    "3. Third: please attempt the following tasks on **the new dataset**. __This part is worth 20% of your grade.__\n",
    "    - Use this file to answer.\n",
    "    - Generate **TF-IDF features** from the tokens of each text. This will generating a document matrix, however, the weights will be computed differently (using the TF-IDF value of each word per document as opposed to the word frequency).  Refer to this Scikit-learn [guide](http://scikit-learn.org/stable/modules/generated/sklearn.feature_extraction.text.TfidfVectorizer.html) .\n",
    "    - Implement a simple **Naive Bayes classifier** that automatically classifies the records into their categories. Use both the TF-IDF features and word frequency features to build two seperate classifiers. Note that for the TF-IDF features you might need to use other type of NB classifier different than the one in the Master Notebook. Comment on the differences and when using augmentation with feature pattern.  Refer to this [article](https://hub.packtpub.com/implementing-3-naive-bayes-classifiers-in-scikit-learn/).\n",
    "\n",
    "\n",
    "4. Fourth: In the lab, we applied each step really quickly just to illustrate how to work with your dataset. There are somethings that are not ideal or the most efficient/meaningful. Each dataset can be handled differently as well. What are those inefficent parts you noticed? How can you improve the Data preprocessing for these specific datasets? __This part is worth 10% of your grade.__\n",
    "\n",
    "\n",
    "5. Fifth: It's hard for us to follow if your code is messy, so please **tidy up your notebook** and **add minimal comments where needed**. __This part is worth 5% of your grade.__\n",
    "\n",
    "\n",
    "You can submit your homework following these guidelines: [DM2025-Lab1-announcement](https://github.com/leoson-wu/DM2025-Lab1-Announcement/blob/main/README.md). Make sure to commit and save your changes to your repository __BEFORE the deadline (October 19th 11:59 pm, Sunday)__. "
   ]
  },
  {
   "cell_type": "markdown",
   "metadata": {},
   "source": [
    "# Phase 1"
   ]
  },
  {
   "cell_type": "code",
   "execution_count": 1,
   "metadata": {},
   "outputs": [
    {
     "name": "stderr",
     "output_type": "stream",
     "text": [
      "[nltk_data] Downloading package punkt to\n",
      "[nltk_data]     C:\\Users\\Jack\\AppData\\Roaming\\nltk_data...\n",
      "[nltk_data]   Package punkt is already up-to-date!\n"
     ]
    }
   ],
   "source": [
    "### Begin Assignment Here\n",
    "\n",
    "# test code for environment setup\n",
    "import pandas as pd\n",
    "import numpy as np\n",
    "import nltk\n",
    "nltk.download('punkt') # download the NLTK datasets\n",
    "from sklearn.datasets import fetch_20newsgroups\n",
    "from sklearn.feature_extraction.text import CountVectorizer\n",
    "import plotly as py\n",
    "import math\n",
    "import PAMI\n",
    "import umap"
   ]
  },
  {
   "cell_type": "code",
   "execution_count": 2,
   "metadata": {},
   "outputs": [],
   "source": [
    "# TEST necessary for when working with external scripts\n",
    "%load_ext autoreload\n",
    "%autoreload 2"
   ]
  },
  {
   "cell_type": "code",
   "execution_count": 3,
   "metadata": {},
   "outputs": [
    {
     "name": "stdout",
     "output_type": "stream",
     "text": [
      "c:\\Users\\Jack\\Documents\\DataM\\DM2025Labs\\DM2025-Lab1-Exercise\\.venv\\Scripts\\python.exe\n",
      "3.11.0 (main, Oct 24 2022, 18:26:48) [MSC v.1933 64 bit (AMD64)]\n"
     ]
    }
   ],
   "source": [
    "import sys\n",
    "print(sys.executable) # c:\\<your path to the project directory>\\.venv\\Scripts\\python.exe\n",
    "print(sys.version) #3.11.0"
   ]
  },
  {
   "cell_type": "code",
   "execution_count": 4,
   "metadata": {},
   "outputs": [
    {
     "data": {
      "application/vnd.microsoft.datawrangler.viewer.v0+json": {
       "columns": [
        {
         "name": "index",
         "rawType": "int64",
         "type": "integer"
        },
        {
         "name": "type",
         "rawType": "object",
         "type": "string"
        },
        {
         "name": "datetime",
         "rawType": "object",
         "type": "string"
        },
        {
         "name": "post_id",
         "rawType": "object",
         "type": "string"
        },
        {
         "name": "subreddit",
         "rawType": "object",
         "type": "string"
        },
        {
         "name": "title",
         "rawType": "object",
         "type": "string"
        },
        {
         "name": "author",
         "rawType": "object",
         "type": "string"
        },
        {
         "name": "url",
         "rawType": "object",
         "type": "string"
        },
        {
         "name": "upvotes",
         "rawType": "int64",
         "type": "integer"
        },
        {
         "name": "downvotes",
         "rawType": "float64",
         "type": "float"
        },
        {
         "name": "upvote_ratio",
         "rawType": "float64",
         "type": "float"
        },
        {
         "name": "text",
         "rawType": "object",
         "type": "string"
        },
        {
         "name": "subjectivity",
         "rawType": "float64",
         "type": "float"
        },
        {
         "name": "polarity",
         "rawType": "float64",
         "type": "float"
        },
        {
         "name": "sentiment",
         "rawType": "float64",
         "type": "float"
        },
        {
         "name": "entities",
         "rawType": "object",
         "type": "string"
        },
        {
         "name": "label",
         "rawType": "float64",
         "type": "float"
        }
       ],
       "ref": "bdfd1d2d-6975-4b54-b9fb-a98f09e25f59",
       "rows": [
        [
         "0",
         "comment",
         "2025-04-11 17:29:56",
         "mmli62w",
         "wallstreetbets",
         "Retardation is on the menu boys! WSB is so back",
         "StickyTip420",
         "https://i.redd.it/0yq2ftren8ue1.jpeg",
         "0",
         null,
         null,
         "Calls on retards",
         "1.0",
         "-0.9",
         "-1.0",
         "[]",
         "-1.0"
        ],
        [
         "1",
         "comment",
         "2025-04-12 1:12:19",
         "mmnu7v9",
         "wallstreetbets",
         "Retail giant TARGET has now declined for 10 consecutive weeks, its longest losing streak in history",
         "Comfortable-Dog-8437",
         "https://i.redd.it/7tl6puv9waue1.jpeg",
         "-15",
         null,
         null,
         "Stunt as in like why did they even make a big deal about starting it in the first place? No company should ever talk about politics ever.",
         "0.1777777777777777",
         "0.0833333333333333",
         "1.0",
         "['Stunt', 'company', 'deal', 'place']",
         "0.0"
        ],
        [
         "2",
         "comment",
         "2025-04-10 15:09:41",
         "mmeevio",
         "StockMarket",
         "How do you feel about a sitting president making $415M in one day after pumping his own stock with social media and a policy decision?",
         "Btankersly66",
         "https://apnews.com/article/trump-truth-social-djt-tesla-musk-tariffs-pause-fccfa6b06c8f1ec0cd7844641ca52669",
         "1",
         null,
         null,
         "Seeing lots of red in the ticker.",
         "0.0",
         "0.0",
         "0.0",
         "['ticker']",
         "0.0"
        ],
        [
         "3",
         "post",
         "2023-08-30 17:12:55",
         "165kllm",
         "stockstobuytoday",
         "Who knows more? $VMAR",
         "emiljenfn",
         "https://www.reddit.com/r/stockstobuytoday/comments/165kllm/who_knows_more_vmar/",
         "30",
         "0.0",
         "0.98",
         "Vision Marine Technologies Inc. is rewriting the watercraft rulebook. Their collaboration with Shaun Torrente has achieved the unthinkable – a blazing 116 mph on water! This isn't just about speed; it's about propelling electric boating into a new era. Their cutting-edge technology, combined with Torrente's skill, is making waves that'll ripple for generations.\r\n\r\n**Highlight Main Points**\r\n\r\n* Vision Marine Technologies Inc. achieves a record-breaking 116 mph speed on water with Shaun Torrente.\r\n* The feat highlights the power of electric boating and pushes the limits of innovation.\r\n* Partners like Octillion Power Systems and Danfoss Editron contribute to this groundbreaking achievement.\r\n\r\n**TLDR**\r\n\r\nHold onto your seats – Vision Marine Technologies Inc. and Shaun Torrente have shattered the water-speed record at an astonishing 116 mph!  This isn't just about speed; it's about pioneering electric boating and innovation. The collaboration of technology, skill, and passion is creating ripples that'll be felt for years to come in the world of watercraft.\r\n\r\n[]()",
         "0.646969696969697",
         "0.2163825757575757",
         "1.0",
         "['watercraft', 'skill', 'power', ']', 'feat', 'Marine', 'Main', 'Systems', 'Vision Marine Technologies Inc.', 'Vision', 'water', 'record', 'Torrente', 'passion', 'Inc.', 'Shaun', 'Octillion Power Systems', 'collaboration', 'innovation', 'rulebook', 'Points', '–', 'Hold', 'Danfoss', 'speed', 'mph', 'achievement', 'technology', 'Power', 'boating', 'Octillion', 'Highlight', 'TLDR', 'world', 'Editron', 'contribute', 'water-speed', '*', 'era']",
         "1.0"
        ],
        [
         "4",
         "comment",
         "2025-04-11 14:48:05",
         "mmkl6bw",
         "StockMarket",
         "The Trump administration is begging Xi Jinping to call Trump quickly.",
         "Just-Big6411",
         "https://edition.cnn.com/2025/04/10/politics/trump-xi-china-tariffs/index.html",
         "1",
         null,
         null,
         "He didn’t say thank you.",
         "0.0",
         "0.0",
         "0.0",
         "[]",
         "-1.0"
        ],
        [
         "5",
         "comment",
         "2025-04-12 2:19:03",
         "mmo4k9g",
         "wallstreetbets",
         "Weekend Discussion Thread for the Weekend of April 11, 2025",
         "PolarNimbus",
         "https://www.reddit.com/r/wallstreetbets/comments/1jwz0xf/weekend_discussion_thread_for_the_weekend_of/",
         "16",
         null,
         null,
         "Hoping to ejaculate in wet warm puss tonight, wish me luck",
         "0.5",
         "0.25",
         "1.0",
         "['tonight', 'puss']",
         "0.0"
        ],
        [
         "6",
         "comment",
         "2025-04-11 12:37:23",
         "mmjx7vz",
         "stocks",
         "Is the market in complete denial right now?",
         "stoniey84",
         "https://www.reddit.com/r/stocks/comments/1jwo1ma/is_the_market_in_complete_denial_right_now/",
         "5",
         null,
         null,
         "Trump will respond to china increasing their tariffs. Trump is looking to fire Jerome Powell. Earnings reporting is starting. I personally think the next few weeks are going to be brutal.... if all companies adjust downwards and JPow is fired, i can see it going down A LOT and very quickly even",
         "0.38",
         "-0.1083333333333333",
         "-1.0",
         "['JPow', 'Jerome', 'i', 'reporting', 'Trump', 'LOT', 'Powell']",
         "-1.0"
        ],
        [
         "7",
         "comment",
         "2025-04-11 17:28:50",
         "mmlhxwc",
         "wallstreetbets",
         "Retardation is on the menu boys! WSB is so back",
         "OSRSkarma",
         "https://i.redd.it/0yq2ftren8ue1.jpeg",
         "-3",
         null,
         null,
         "Confirmed not a trap. Its been like this for probably 2 months, we have just let it slowly spread by word of mouth",
         "0.7",
         "0.0499999999999999",
         "1.0",
         "['Confirmed', 'mouth', 'word', 'trap']",
         "0.0"
        ],
        [
         "8",
         "comment",
         "2021-02-01 15:36:32",
         "gllyi5z",
         "stocks",
         "It's fucking awful seeing the \"Silver\" misinformation campaign everywhere I look",
         "Blondbox",
         "https://www.reddit.com/r/stocks/comments/la34bh/its_fucking_awful_seeing_the_silver/",
         "1",
         null,
         null,
         "Am I the only one seeing the cup & handle breakout here? 52 week high? Third Green Day? The pivot was on Thursday. Perfectly held the base trend line to a new high. Follow the technicals folks.",
         "0.4918181818181818",
         "0.0570454545454545",
         "1.0",
         "['cup', 'Day', 'handle', 'pivot', 'Green', 'trend', 'breakout', 'Am', 'Thursday', 'line', 'week']",
         "1.0"
        ],
        [
         "9",
         "comment",
         "2021-12-31 16:29:49",
         "hqp3kt4",
         "stockstobuytoday",
         "Any cheap stocks under $10?",
         "Zumuru",
         "https://www.reddit.com/r/stockstobuytoday/comments/rqtd9t/any_cheap_stocks_under_10/",
         "2",
         null,
         null,
         "HLGN is $10. Hurry and catch it now before it shoots to the moon!",
         "0.0",
         "0.0",
         "0.0",
         "['HLGN', 'Hurry', 'moon']",
         "1.0"
        ],
        [
         "10",
         "comment",
         "2025-04-11 15:19:19",
         "mmkri9d",
         "stocks",
         "r/Stocks Daily Discussion & Fundamentals Friday Apr 11, 2025",
         "MitchCurry",
         "https://www.reddit.com/r/stocks/comments/1jwlrtv/rstocks_daily_discussion_fundamentals_friday_apr/",
         "3",
         null,
         null,
         "It's a copy/paste from a Bloomberg terminal.",
         "0.0",
         "0.0",
         "0.0",
         "['copy/paste', 'terminal', 'Bloomberg']",
         "0.0"
        ],
        [
         "11",
         "comment",
         "2025-04-12 2:51:20",
         "mmo9e6r",
         "wallstreetbets",
         "Weekend Discussion Thread for the Weekend of April 11, 2025",
         "RememberTooSmile",
         "https://www.reddit.com/r/wallstreetbets/comments/1jwz0xf/weekend_discussion_thread_for_the_weekend_of/",
         "9",
         null,
         null,
         "this sub has ruined emails for me, whenever I write “Best regards” I think of WSB",
         "0.3",
         "1.0",
         "1.0",
         "['sub', 'WSB', 'Best']",
         "0.0"
        ],
        [
         "12",
         "comment",
         "2025-04-11 5:55:28",
         "mmipka9",
         "stocks",
         "U.S. 10-year Treasury yields rise as Trump tariffs-led sell-off continues",
         "JBallMan23",
         "https://www.reddit.com/r/stocks/comments/1jwfydk/us_10year_treasury_yields_rise_as_trump/",
         "1",
         null,
         null,
         "Honestly let the economy burn, maybe people will learn",
         "0.9",
         "0.6",
         "1.0",
         "['burn', 'economy']",
         "-1.0"
        ],
        [
         "13",
         "comment",
         "2025-03-04 23:49:37",
         "mg20s26",
         "stocks",
         "Rate My Portfolio - r/Stocks Quarterly Thread March 2025",
         "Miramarmechanic",
         "https://www.reddit.com/r/stocks/comments/1j0w73o/rate_my_portfolio_rstocks_quarterly_thread_march/",
         "2",
         null,
         null,
         "\r\nI’ve been doing pretty good with this, but it’s heavy on fees. Looking for a similar risk return profile but any ideas on how to do it with less fees? \r\nI don’t want to sell calls by myself.\r\n\r\nQdte 35%\r\nUpro 25%\r\nTltw 15%\r\nIspy 10%\r\nBrkb 10%\r\nMsci/Nvda 5%",
         "0.5133333333333334",
         "0.1166666666666666",
         "1.0",
         "['Tltw', 'Brkb', 'Upro', 'Msci/Nvda', 't', '%', 'profile', 'Ispy', 'return', 'risk']",
         "0.0"
        ],
        [
         "14",
         "comment",
         "2025-04-11 13:46:40",
         "mmk9151",
         "stocks",
         "r/Stocks Daily Discussion & Fundamentals Friday Apr 11, 2025",
         "Odd-Temperature-791",
         "https://www.reddit.com/r/stocks/comments/1jwlrtv/rstocks_daily_discussion_fundamentals_friday_apr/",
         "8",
         null,
         null,
         "USA begging China to call them",
         "0.0",
         "0.0",
         "0.0",
         "['USA', 'China']",
         "0.0"
        ],
        [
         "15",
         "comment",
         "2021-02-01 18:30:18",
         "glmpqsr",
         "stocks",
         "It's fucking awful seeing the \"Silver\" misinformation campaign everywhere I look",
         "nerokaeclone",
         "https://www.reddit.com/r/stocks/comments/la34bh/its_fucking_awful_seeing_the_silver/",
         "1",
         null,
         null,
         "Disgusting tactics",
         "1.0",
         "-1.0",
         "-1.0",
         "[]",
         "0.0"
        ],
        [
         "16",
         "comment",
         "2025-04-10 16:34:19",
         "mmew0jm",
         "stocks",
         "PRESIDENT TRUMP JUST ASKED THE SUPREME COURT FOR THE AUTHORITY TO FIRE FEDERAL RESERVE CHAIR JEROME POWELL",
         "hotgarbagevideo",
         "https://www.reddit.com/r/stocks/comments/1jvzroz/president_trump_just_asked_the_supreme_court_for/",
         "1",
         null,
         null,
         "Jesus Christ",
         "0.0",
         "0.0",
         "0.0",
         "['Jesus', 'Christ']",
         "-1.0"
        ],
        [
         "17",
         "comment",
         "2025-04-11 16:03:04",
         "mml0ijz",
         "stocks",
         "The US bond market is continuing to crash. Will this make Trump back off of China?",
         "BrotherlyShove791",
         "https://www.reddit.com/r/stocks/comments/1jwsz9l/the_us_bond_market_is_continuing_to_crash_will/",
         "1",
         null,
         null,
         "Exactly this. Trump will blink first because, in the end, he will have to answer to his people for high prices, empty shelves, and a useless dollar. People will protest and riot, there will be growing calls for his removal from office, things will halt to a standstill and there will be general chaos.\r\n\r\nPeople try that in China, and it will be Tiananmen Square 2.0. There will be no revolt, there will be no dissent. People will do as the CCP says or suffer severe punishment.\r\n\r\nXi holds the cards in a long term trade war. Trump does not. He can’t win this even if his mental illness tells him otherwise.",
         "0.3692592592592592",
         "0.0844444444444444",
         "1.0",
         "['war', 'removal', 'Tiananmen', 'Square', 'end', 'dollar', 'Trump', 'chaos', 'dissent', 'revolt', 'office', 'punishment', 'trade', 'win', 'CCP', 'illness', 'China', 'term']",
         "-1.0"
        ],
        [
         "18",
         "comment",
         "2025-04-11 14:03:38",
         "mmkcc4d",
         "StockMarket",
         "Trump: We Are Doing Really Well On Our Tariff Policy.",
         "freewilly7315",
         "https://i.redd.it/uajqu4kxl7ue1.png",
         "1",
         null,
         null,
         "Trump and dump",
         "0.0",
         "0.0",
         "0.0",
         "['Trump']",
         "-1.0"
        ],
        [
         "19",
         "comment",
         "2025-04-11 4:32:16",
         "mmig2h2",
         "stocks",
         "U.S. 10-year Treasury yields rise as Trump tariffs-led sell-off continues",
         "Vanman04",
         "https://www.reddit.com/r/stocks/comments/1jwfydk/us_10year_treasury_yields_rise_as_trump/",
         "12",
         null,
         null,
         "I think we are past the numbers. Just assume folks world wide are now looking for another safe place to store their money.\r\n\r\nWe used to be the place. That is over.\r\n\r\nHell I am in the US and I am looking for a safer place to store my money.\r\n\r\nWe are in uncharted waters here and we have an economy that was already shaky to begin with.\r\n\r\nFar too many Americans are woefully unaware of how big the world is or how much we actually depend on them. \r\n\r\nLots of hard lessons to be learned going forward.\r\n\r\nTo sell bonds and treasuries we need people to believe their money is safe if they buy them. That idea is rapidly exiting stage right.\r\n\r\nI could be wrong but I think those rates are  screaming at us that we are going down rapidly as a trusted partner.",
         "0.4519557823129251",
         "0.0293367346938775",
         "1.0",
         "['Hell', 'Far', 'stage', 'US', 'economy', 'partner', 'world', 'right', 'money', 'Just', 'idea', 'place']",
         "-1.0"
        ],
        [
         "20",
         "comment",
         "2025-04-11 13:11:35",
         "mmk2sd6",
         "stocks",
         "r/Stocks Daily Discussion & Fundamentals Friday Apr 11, 2025",
         "Golden__Eagle",
         "https://www.reddit.com/r/stocks/comments/1jwlrtv/rstocks_daily_discussion_fundamentals_friday_apr/",
         "5",
         null,
         null,
         "Nooo dont go down its smug bull day",
         "0.0",
         "0.0",
         "0.0",
         "['bull', 'day', 'dont', 'Nooo']",
         "-1.0"
        ],
        [
         "21",
         "comment",
         "2025-04-06 23:31:33",
         "mls3ha1",
         "stockstobuytoday",
         "If you had $10k in cash…",
         "Either_Breadfruit_90",
         "https://www.reddit.com/r/stockstobuytoday/comments/1jt136n/if_you_had_10k_in_cash/",
         "1",
         null,
         null,
         "GEO WM",
         "0.0",
         "0.0",
         "0.0",
         "['GEO', 'WM']",
         "0.0"
        ],
        [
         "22",
         "comment",
         "2025-04-12 2:46:28",
         "mmo8obq",
         "wallstreetbets",
         "Retail giant TARGET has now declined for 10 consecutive weeks, its longest losing streak in history",
         "tiredsultan",
         "https://i.redd.it/7tl6puv9waue1.jpeg",
         "5",
         null,
         null,
         "Google \"target dei\".\r\n\r\nI did it for you.\r\n\r\n",
         "0.0",
         "0.0",
         "0.0",
         "['dei', 'Google', 'target']",
         "0.0"
        ],
        [
         "23",
         "comment",
         "2021-02-01 19:17:31",
         "glmx9ff",
         "stocks",
         "It's fucking awful seeing the \"Silver\" misinformation campaign everywhere I look",
         "No_Mercy_4_Potatoes",
         "https://www.reddit.com/r/stocks/comments/la34bh/its_fucking_awful_seeing_the_silver/",
         "2",
         null,
         null,
         "I feel like these HFs took the word \"retard\" thrown around at WSB too literally. Now they are trying to pack shit in Tiffany bags and sell it to us. But we ain't buying it!",
         "0.9",
         "-0.575",
         "-1.0",
         "['WSB', 'word', 'shit', 'retard', 'HFs', 'Tiffany']",
         "-1.0"
        ],
        [
         "24",
         "comment",
         "2025-04-11 11:37:41",
         "mmjohl7",
         "stocks",
         "BREAKING: China raises tariffs on U.S. goods to 125%",
         "applecokecake",
         "https://www.reddit.com/r/stocks/comments/1jwkuhb/breaking_china_raises_tariffs_on_us_goods_to_125/",
         "1",
         null,
         null,
         "Shop like a billionaire.",
         "0.0",
         "0.0",
         "0.0",
         "['billionaire', 'Shop']",
         "0.0"
        ],
        [
         "25",
         "comment",
         "2025-04-12 1:26:19",
         "mmnwe5h",
         "wallstreetbets",
         "Retail giant TARGET has now declined for 10 consecutive weeks, its longest losing streak in history",
         "Rosebunse",
         "https://i.redd.it/7tl6puv9waue1.jpeg",
         "4",
         null,
         null,
         "You see, Target, pissing off a good chunk of your loyal customer base wasn't a good idea.",
         "0.7583333333333334",
         "0.2333333333333332",
         "1.0",
         "['customer', 'base', 'chunk', 'Target', 'idea']",
         "-1.0"
        ],
        [
         "26",
         "comment",
         "2025-04-11 12:38:55",
         "mmjxgi0",
         "StockMarket",
         "🚨China responds to Trump’s 145% tariff with an 125% tariff on all U.S. imported goods.",
         "MTPWAZ",
         "https://i.redd.it/2f7y4h6226ue1.jpeg",
         "1",
         null,
         null,
         "China will never lose a trade war. Delusional old guy from Queens never understood that.",
         "0.2",
         "0.1",
         "1.0",
         "['war', 'guy', 'Delusional', 'Queens', 'China', 'trade']",
         "-1.0"
        ],
        [
         "27",
         "comment",
         "2022-10-12 1:31:17",
         "iryumzk",
         "stockstobuytoday",
         "Give me the ticker, I give you the stock analysis!",
         "Silly_Accountant_687",
         "https://www.reddit.com/r/stockstobuytoday/comments/xwf1yn/give_me_the_ticker_i_give_you_the_stock_analysis/",
         "1",
         null,
         null,
         "Any thoughts on RVPH?",
         "0.0",
         "0.0",
         "0.0",
         "['RVPH']",
         "0.0"
        ],
        [
         "28",
         "comment",
         "2025-04-11 17:21:44",
         "mmlgh35",
         "wallstreetbets",
         "Retardation is on the menu boys! WSB is so back",
         "PlannedObsolescence-",
         "https://i.redd.it/0yq2ftren8ue1.jpeg",
         "53",
         null,
         null,
         "My first wife was tarded, she's a pilot now.",
         "0.3333333333333333",
         "0.25",
         "1.0",
         "['pilot', 'wife']",
         "0.0"
        ],
        [
         "29",
         "comment",
         "2021-04-18 15:04:10",
         "guz3mue",
         "stockstobuytoday",
         "r/stockstobuytoday Lounge",
         "Ok_Talk_7837",
         "https://www.reddit.com/r/stockstobuytoday/comments/k2sp0u/rstockstobuytoday_lounge/",
         "1",
         null,
         null,
         "Is sundial growers going to rise up?",
         "0.0",
         "0.0",
         "0.0",
         "[]",
         "0.0"
        ],
        [
         "30",
         "comment",
         "2025-04-11 14:01:02",
         "mmkbu10",
         "stocks",
         "r/Stocks Daily Discussion & Fundamentals Friday Apr 11, 2025",
         "Kemilio",
         "https://www.reddit.com/r/stocks/comments/1jwlrtv/rstocks_daily_discussion_fundamentals_friday_apr/",
         "3",
         null,
         null,
         "> Still seems like an awful investment\r\n\r\nThat sentiment, above everything else happening, is what has me most terrified.\r\n\r\nFaith in the US economy is crumbling.",
         "1.0",
         "-1.0",
         "-1.0",
         "['investment', 'Faith', 'US', 'economy', 'everything', 'sentiment', '>']",
         "-1.0"
        ],
        [
         "31",
         "comment",
         "2024-08-17 5:32:56",
         "liiwbkk",
         "stockstobuytoday",
         "Best EV / green mining stocks?",
         "[deleted]",
         "https://www.reddit.com/r/stockstobuytoday/comments/1es7kzn/best_ev_green_mining_stocks/",
         "1",
         null,
         null,
         "$EVGO \r\n\r\n*Record Revenue increasing 5 straight Quarters\r\n\r\n*30% SI, poised for a massive squeeze on a small cap. There is no bear thesis anymore\r\n\r\n*Major partnership with key OEM’s (now Toyota in addition to GM, Honda, Ford, Rivian 33 all together)-\r\n\r\n*There was a NYT article where a VP of EVGO mentioned that red states are actually some of their biggest partners as they see it as inevitable: \r\n\r\n“Sara Rafalson, a vice president at EVgo, a Los Angeles-based charging company that has built chargers in over 35 states, said that the company was seeing its biggest demand growth in Republican-led states like Texas and Florida.”\r\n\r\n*EV winter is ending with GM EV Equinox launch June 17th + Costco Discount + EV Blazer Cost Reduction + Stellantis $25K Jeep + many other cheap EV’s 2nd half of this year under, Hertz firesale of EV’s under $25K + $4500 to $7500 incentive\r\n\r\n*CEO Insider buy of 125,000 shares \r\n\r\n*Lower interest rates in September combined with many new cheap electric vehicle models like GM Equinox Compact\r\n\r\n*Low Debt\r\n\r\n*Rolling out North American Charging Standard NACS to entire country so ALL vehicles can recharge at Charging stations\r\n\r\n*1,000,000 customers doubling annually (at least, likely more)\r\n\r\n*Artificial Intelligence to place charging stations for maximum Charging Revenue\r\n\r\n*Renew program to upgrade older stations\r\n\r\n*100% USA parts compliant so not affected by China Tariffs and will take business from others\r\n\r\n*The US must upgrade its EV infrastructure if they want to compete globally. EVGO is the only fast chargers. BLNK and CHPT only give you one time sales revenue whereas EVGO gives you multiple.\r\n\r\n*TESLA backing off of electric vehicle Charging leaves even more room to grow. EVGO is next best at L3 Chargers\r\n\r\n*EBIDTA forecast to be positive in early 2025 if not sooner\r\n\r\n*Will NOT have to do a secondary offering - line of credit in case, high growth and cash reserves, may not even need it.\r\n\r\n*Rates are getting cut soon leading to more growth \r\n\r\n*They expect a DOE loan this year \r\n\r\n*trading sideways right now, perfect entry before the next leg up. Last spike up took 1 month and 1 week of sideways trading. Based off the same timeline, we are a week off. \r\n\r\n*They are adding high end talent, big names from Tesla. Recently hired a CPO, Chief Peoples Officer implying they are expecting to expand rapidly thus need someone with strong connections in the space.",
         "0.4222678571428572",
         "0.1078795995670995",
         "1.0",
         "['Jeep', 'program', 'spike', '+', 'Honda', 'Equinox', 'Low', 'president', 'Intelligence', 'squeeze', 'Chargers', 'EBIDTA', 'leg', 'Los', 'SI', 'credit', 'Stellantis', 'talent', 'Insider', 'CPO', 'Charging', 'Officer', 'Rafalson', 'Record', 'Peoples', 'cash', '%', 'growth', 'interest', 'ALL', 'EV', '*', 'EVGO', 'vice', 'forecast', 'Compact', 'fast', 'vehicle', 'Sara', 'June', 'L3', 'NOT', 's', 'room', 'Hertz', 'Tariffs', 'space', '”', 'Revenue', 'addition', 'Chief', 'business', 'trading', 'Toyota', 'revenue', 'Texas', 'NACS', 'Ford', 'Major', 'offering', 'someone', 'Cost', 'country', 'China', 'case', 'VP', 'CHPT', 'time', 'Debt', 'partnership', 'half', 'CEO', 'Discount', 'cap', 'TESLA', 'thesis', 'USA', 'infrastructure', 'buy', '“', 'end', 'month', 'Tesla', 'Renew', 'year', 'Costco', 'GM', 'Reduction', 'maximum', 'line', 'incentive', 'loan', 'DOE', 'winter', 'launch', 'Florida.', 'timeline', 'Blazer', 'EVgo', 'NYT', 'firesale', 'September', 'US', 'article', '’', 'demand', 'company', 'BLNK', 'entry', 'week', 'Standard', 'K Jeep', 'OEM']",
         "0.0"
        ],
        [
         "32",
         "comment",
         "2025-04-11 13:22:49",
         "mmk4qd8",
         "StockMarket",
         "Data Shows US Allies—Not China—Dumping Treasuries",
         "Kaffe-Mumriken",
         "https://i.redd.it/31r650bss4ue1.jpeg",
         "1",
         null,
         null,
         "Sorry; I’m dumb but is this not just a USD to X conversion chart?",
         "0.75",
         "-0.4375",
         "-1.0",
         "['chart', 'Sorry', 'USD', 'conversion', 'dumb']",
         "0.0"
        ],
        [
         "33",
         "comment",
         "2025-04-11 15:56:34",
         "mmkz74n",
         "StockMarket",
         "The Trump administration is begging Xi Jinping to call Trump quickly.",
         "cupcake0calypse",
         "https://edition.cnn.com/2025/04/10/politics/trump-xi-china-tariffs/index.html",
         "1",
         null,
         null,
         "Pls respond",
         "0.0",
         "0.0",
         "0.0",
         "['respond', 'Pls']",
         "0.0"
        ],
        [
         "34",
         "comment",
         "2021-02-01 13:45:52",
         "gllif2v",
         "stocks",
         "It's fucking awful seeing the \"Silver\" misinformation campaign everywhere I look",
         "SmithRune735",
         "https://www.reddit.com/r/stocks/comments/la34bh/its_fucking_awful_seeing_the_silver/",
         "1",
         null,
         null,
         "So they went from saying redditors are bad for manipulating the market o praising silver??",
         "0.6666666666666666",
         "-0.6999999999999998",
         "-1.0",
         "['market', 'silver']",
         "1.0"
        ],
        [
         "35",
         "comment",
         "2025-04-11 17:30:23",
         "mmli9hm",
         "wallstreetbets",
         "Retardation is on the menu boys! WSB is so back",
         "Interesting-Loss34",
         "https://i.redd.it/0yq2ftren8ue1.jpeg",
         "0",
         null,
         null,
         "Goshdang about time. It was fine to say when I was a kid, fine in college, but then I went to war and when I come back the whole world got suuuuuper weird. 2012 was a pretty important year to miss or something?",
         "0.6285714285714287",
         "0.169047619047619",
         "1.0",
         "['war', 'kid', 'year', 'weird', 'something', 'world', 'college', 'time']",
         "0.0"
        ],
        [
         "36",
         "comment",
         "2025-04-11 15:59:43",
         "mmkzud9",
         "StockMarket",
         "The Trump administration is begging Xi Jinping to call Trump quickly.",
         "kl7aw220",
         "https://edition.cnn.com/2025/04/10/politics/trump-xi-china-tariffs/index.html",
         "2",
         null,
         null,
         "Xi is calm and sure-footed in his response to Trump, while Trump is irrational and makes quick decisions without considering the consequence. Also, he's stupid.",
         "0.75",
         "-0.0555555555555555",
         "-1.0",
         "['consequence', 'Xi', 'Trump', 'response']",
         "-1.0"
        ],
        [
         "37",
         "comment",
         "2025-03-04 0:43:03",
         "mfvnxnj",
         "stocks",
         "Rate My Portfolio - r/Stocks Quarterly Thread March 2025",
         "BippityBoppitty69",
         "https://www.reddit.com/r/stocks/comments/1j0w73o/rate_my_portfolio_rstocks_quarterly_thread_march/",
         "5",
         null,
         null,
         "Cash",
         "0.0",
         "0.0",
         "0.0",
         "['Cash']",
         "0.0"
        ],
        [
         "38",
         "comment",
         "2025-04-12 2:32:18",
         "mmo6k88",
         "wallstreetbets",
         "Someone post the hotline please.",
         "Skeleton-ear-face",
         "https://i.redd.it/tcfuu97p7bue1.jpeg",
         "1",
         null,
         null,
         "Hey our net worth match now, we can be friends!",
         "0.05",
         "0.1875",
         "1.0",
         "['net', 'Hey', 'match', 'worth']",
         "1.0"
        ],
        [
         "39",
         "comment",
         "2025-04-11 14:09:53",
         "mmkdk5f",
         "stocks",
         "Formerly Stable US Treasuries Are Trading Like Risky Assets; 2008-esque in Warning to Trump, US Dollar tanks MASSIVELY",
         "Lost-Panda-68",
         "https://www.reddit.com/r/stocks/comments/1jwpf33/formerly_stable_us_treasuries_are_trading_like/",
         "4",
         null,
         null,
         "Other countries probably will go through a recession, but there is no reason at all that they would suffer hyperinflation.  Remember that they can mitigate inflation by trading with any other country.  There is very little that only the US makes.  Only the US dollar is wobbly right now.",
         "0.5178571428571428",
         "0.0491071428571428",
         "1.0",
         "['hyperinflation', 'reason', 'inflation', 'US', 'dollar', 'recession', 'country']",
         "1.0"
        ],
        [
         "40",
         "comment",
         "2025-04-11 22:00:36",
         "mmmyq7m",
         "wallstreetbets",
         "Weekend Discussion Thread for the Weekend of April 11, 2025",
         "InstructionNo4546",
         "https://www.reddit.com/r/wallstreetbets/comments/1jwz0xf/weekend_discussion_thread_for_the_weekend_of/",
         "10",
         null,
         null,
         "These China AI factory memes are pretty good. I gotta admit they boomed us this time.",
         "0.8",
         "0.475",
         "1.0",
         "['factory', 'time', 'AI', 'China AI', 'China', 'admit']",
         "0.0"
        ],
        [
         "41",
         "comment",
         "2021-05-03 22:17:48",
         "gwu560b",
         "stockstobuytoday",
         "Shorted Stocks - Hedges crushing NAKD, FAMI, SNDL, OCGN, MOTS, VXRT, CTRM, NIO",
         "Limp-Project5733",
         "https://www.reddit.com/r/stockstobuytoday/comments/n44e6o/shorted_stocks_hedges_crushing_nakd_fami_sndl/",
         "1",
         null,
         null,
         "And plug",
         "0.0",
         "0.0",
         "0.0",
         "['plug']",
         "0.0"
        ],
        [
         "42",
         "comment",
         "2021-02-01 13:45:17",
         "gllicpw",
         "stocks",
         "It's fucking awful seeing the \"Silver\" misinformation campaign everywhere I look",
         "SmithRune735",
         "https://www.reddit.com/r/stocks/comments/la34bh/its_fucking_awful_seeing_the_silver/",
         "3943",
         null,
         null,
         "So they went from saying redditors are bad for manipulating the market o praising silver??",
         "0.6666666666666666",
         "-0.6999999999999998",
         "-1.0",
         "['market', 'silver']",
         "1.0"
        ],
        [
         "43",
         "comment",
         "2025-04-11 15:54:47",
         "mmkytz0",
         "stocks",
         "Is the market in complete denial right now?",
         "Too_theXtreme",
         "https://www.reddit.com/r/stocks/comments/1jwo1ma/is_the_market_in_complete_denial_right_now/",
         "2",
         null,
         null,
         "what if time machine parts come from china",
         "0.0",
         "0.0",
         "0.0",
         "['time', 'china', 'machine']",
         "0.0"
        ],
        [
         "44",
         "comment",
         "2025-04-11 12:48:40",
         "mmjyzwi",
         "stocks",
         "Is the market in complete denial right now?",
         "rockytrh",
         "https://www.reddit.com/r/stocks/comments/1jwo1ma/is_the_market_in_complete_denial_right_now/",
         "3",
         null,
         null,
         "Completely unrelated, but for like 20 years of my life, I thought the saying was \"Button down the hatches\".  I was like 27 or something when somebody corrected me and now every time I see it, I always think \"Man, that was really a common knowledge thing that I just didn't know\".",
         "0.45",
         "-0.0999999999999999",
         "-1.0",
         "['Button', 'knowledge', 'Man', 'life', 'something', 'saying', 'somebody', 'time', 'thing']",
         "0.0"
        ],
        [
         "45",
         "comment",
         "2023-04-27 14:04:06",
         "jhx5de4",
         "stockstobuytoday",
         "Don’t Shoot The Messenger 🤷‍♂️",
         "HarleyDog67",
         "https://i.redd.it/lm63in0wyawa1.jpg",
         "2",
         null,
         null,
         "100% fact! Truth hurts.",
         "0.0",
         "0.0",
         "0.0",
         "['fact', '%', 'Truth']",
         "0.0"
        ],
        [
         "46",
         "comment",
         "2025-04-10 15:31:08",
         "mmej69n",
         "StockMarket",
         "How do you feel about a sitting president making $415M in one day after pumping his own stock with social media and a policy decision?",
         "eulynn34",
         "https://apnews.com/article/trump-truth-social-djt-tesla-musk-tariffs-pause-fccfa6b06c8f1ec0cd7844641ca52669",
         "1",
         null,
         null,
         "If the \"rule of law\" wasn't a total joke, I might feel badly about it-- but it seems like nobody who matters does, so why should I?",
         "0.7083333333333333",
         "-0.3499999999999999",
         "-1.0",
         "['rule', 'joke', 'nobody', 'law']",
         "-1.0"
        ],
        [
         "47",
         "comment",
         "2025-04-12 2:03:43",
         "mmo27cl",
         "wallstreetbets",
         "Weekend Discussion Thread for the Weekend of April 11, 2025",
         "Elegant-Berry5192",
         "https://www.reddit.com/r/wallstreetbets/comments/1jwz0xf/weekend_discussion_thread_for_the_weekend_of/",
         "11",
         null,
         null,
         "Weekend thread is where the real ones at ![img](emote|t5_2th52|8883)",
         "0.3",
         "0.25",
         "1.0",
         "['thread', 'emote|t5_2th52|8883', 'img', ']', 'Weekend', '[']",
         "0.0"
        ],
        [
         "48",
         "post",
         "2025-04-02 13:00:42",
         "1jpnz8b",
         "stockstobuytoday",
         "Earnings for current week",
         "saasfin",
         "https://www.reddit.com/r/stockstobuytoday/comments/1jpnz8b/earnings_for_current_week/",
         "1",
         "0.0",
         "1.0",
         "\r\n\r\n  [MarketWatch: Stock Market News - Financial News - Earmings Stonkvest (stockbuyvest.com)]() \r\n\r\n\\#catalyst #event #earnings",
         "0.0",
         "0.0",
         "0.0",
         "['Stock', 'MarketWatch', 'catalyst', 'stockbuyvest.com', 'event', 'Market', 'Stonkvest', 'News', ']', 'Financial']",
         "0.0"
        ],
        [
         "49",
         "comment",
         "2025-04-11 16:01:45",
         "mml0910",
         "stocks",
         "r/Stocks Daily Discussion & Fundamentals Friday Apr 11, 2025",
         "CEOofBeanz",
         "https://www.reddit.com/r/stocks/comments/1jwlrtv/rstocks_daily_discussion_fundamentals_friday_apr/",
         "1",
         null,
         null,
         "And you are? \r\n\r\nMarket. Mr. Market. ",
         "0.0",
         "0.0",
         "0.0",
         "['Mr.', 'Market']",
         "0.0"
        ]
       ],
       "shape": {
        "columns": 16,
        "rows": 847
       }
      },
      "text/html": [
       "<div>\n",
       "<style scoped>\n",
       "    .dataframe tbody tr th:only-of-type {\n",
       "        vertical-align: middle;\n",
       "    }\n",
       "\n",
       "    .dataframe tbody tr th {\n",
       "        vertical-align: top;\n",
       "    }\n",
       "\n",
       "    .dataframe thead th {\n",
       "        text-align: right;\n",
       "    }\n",
       "</style>\n",
       "<table border=\"1\" class=\"dataframe\">\n",
       "  <thead>\n",
       "    <tr style=\"text-align: right;\">\n",
       "      <th></th>\n",
       "      <th>type</th>\n",
       "      <th>datetime</th>\n",
       "      <th>post_id</th>\n",
       "      <th>subreddit</th>\n",
       "      <th>title</th>\n",
       "      <th>author</th>\n",
       "      <th>url</th>\n",
       "      <th>upvotes</th>\n",
       "      <th>downvotes</th>\n",
       "      <th>upvote_ratio</th>\n",
       "      <th>text</th>\n",
       "      <th>subjectivity</th>\n",
       "      <th>polarity</th>\n",
       "      <th>sentiment</th>\n",
       "      <th>entities</th>\n",
       "      <th>label</th>\n",
       "    </tr>\n",
       "  </thead>\n",
       "  <tbody>\n",
       "    <tr>\n",
       "      <th>0</th>\n",
       "      <td>comment</td>\n",
       "      <td>2025-04-11 17:29:56</td>\n",
       "      <td>mmli62w</td>\n",
       "      <td>wallstreetbets</td>\n",
       "      <td>Retardation is on the menu boys! WSB is so back</td>\n",
       "      <td>StickyTip420</td>\n",
       "      <td>https://i.redd.it/0yq2ftren8ue1.jpeg</td>\n",
       "      <td>0</td>\n",
       "      <td>NaN</td>\n",
       "      <td>NaN</td>\n",
       "      <td>Calls on retards</td>\n",
       "      <td>1.000000</td>\n",
       "      <td>-0.900000</td>\n",
       "      <td>-1.0</td>\n",
       "      <td>[]</td>\n",
       "      <td>-1.0</td>\n",
       "    </tr>\n",
       "    <tr>\n",
       "      <th>1</th>\n",
       "      <td>comment</td>\n",
       "      <td>2025-04-12 1:12:19</td>\n",
       "      <td>mmnu7v9</td>\n",
       "      <td>wallstreetbets</td>\n",
       "      <td>Retail giant TARGET has now declined for 10 co...</td>\n",
       "      <td>Comfortable-Dog-8437</td>\n",
       "      <td>https://i.redd.it/7tl6puv9waue1.jpeg</td>\n",
       "      <td>-15</td>\n",
       "      <td>NaN</td>\n",
       "      <td>NaN</td>\n",
       "      <td>Stunt as in like why did they even make a big ...</td>\n",
       "      <td>0.177778</td>\n",
       "      <td>0.083333</td>\n",
       "      <td>1.0</td>\n",
       "      <td>['Stunt', 'company', 'deal', 'place']</td>\n",
       "      <td>0.0</td>\n",
       "    </tr>\n",
       "    <tr>\n",
       "      <th>2</th>\n",
       "      <td>comment</td>\n",
       "      <td>2025-04-10 15:09:41</td>\n",
       "      <td>mmeevio</td>\n",
       "      <td>StockMarket</td>\n",
       "      <td>How do you feel about a sitting president maki...</td>\n",
       "      <td>Btankersly66</td>\n",
       "      <td>https://apnews.com/article/trump-truth-social-...</td>\n",
       "      <td>1</td>\n",
       "      <td>NaN</td>\n",
       "      <td>NaN</td>\n",
       "      <td>Seeing lots of red in the ticker.</td>\n",
       "      <td>0.000000</td>\n",
       "      <td>0.000000</td>\n",
       "      <td>0.0</td>\n",
       "      <td>['ticker']</td>\n",
       "      <td>0.0</td>\n",
       "    </tr>\n",
       "    <tr>\n",
       "      <th>3</th>\n",
       "      <td>post</td>\n",
       "      <td>2023-08-30 17:12:55</td>\n",
       "      <td>165kllm</td>\n",
       "      <td>stockstobuytoday</td>\n",
       "      <td>Who knows more? $VMAR</td>\n",
       "      <td>emiljenfn</td>\n",
       "      <td>https://www.reddit.com/r/stockstobuytoday/comm...</td>\n",
       "      <td>30</td>\n",
       "      <td>0.0</td>\n",
       "      <td>0.98</td>\n",
       "      <td>Vision Marine Technologies Inc. is rewriting t...</td>\n",
       "      <td>0.646970</td>\n",
       "      <td>0.216383</td>\n",
       "      <td>1.0</td>\n",
       "      <td>['watercraft', 'skill', 'power', ']', 'feat', ...</td>\n",
       "      <td>1.0</td>\n",
       "    </tr>\n",
       "    <tr>\n",
       "      <th>4</th>\n",
       "      <td>comment</td>\n",
       "      <td>2025-04-11 14:48:05</td>\n",
       "      <td>mmkl6bw</td>\n",
       "      <td>StockMarket</td>\n",
       "      <td>The Trump administration is begging Xi Jinping...</td>\n",
       "      <td>Just-Big6411</td>\n",
       "      <td>https://edition.cnn.com/2025/04/10/politics/tr...</td>\n",
       "      <td>1</td>\n",
       "      <td>NaN</td>\n",
       "      <td>NaN</td>\n",
       "      <td>He didn’t say thank you.</td>\n",
       "      <td>0.000000</td>\n",
       "      <td>0.000000</td>\n",
       "      <td>0.0</td>\n",
       "      <td>[]</td>\n",
       "      <td>-1.0</td>\n",
       "    </tr>\n",
       "    <tr>\n",
       "      <th>...</th>\n",
       "      <td>...</td>\n",
       "      <td>...</td>\n",
       "      <td>...</td>\n",
       "      <td>...</td>\n",
       "      <td>...</td>\n",
       "      <td>...</td>\n",
       "      <td>...</td>\n",
       "      <td>...</td>\n",
       "      <td>...</td>\n",
       "      <td>...</td>\n",
       "      <td>...</td>\n",
       "      <td>...</td>\n",
       "      <td>...</td>\n",
       "      <td>...</td>\n",
       "      <td>...</td>\n",
       "      <td>...</td>\n",
       "    </tr>\n",
       "    <tr>\n",
       "      <th>842</th>\n",
       "      <td>comment</td>\n",
       "      <td>2021-06-30 4:06:06</td>\n",
       "      <td>h3iv6pq</td>\n",
       "      <td>stockstobuytoday</td>\n",
       "      <td>$MRIN Marin Software killed it today. Hope som...</td>\n",
       "      <td>Ordinary-Office9180</td>\n",
       "      <td>https://www.reddit.com/r/stockstobuytoday/comm...</td>\n",
       "      <td>1</td>\n",
       "      <td>NaN</td>\n",
       "      <td>NaN</td>\n",
       "      <td>Invest now it is going to shoot up tomorrow</td>\n",
       "      <td>0.000000</td>\n",
       "      <td>0.000000</td>\n",
       "      <td>0.0</td>\n",
       "      <td>['tomorrow']</td>\n",
       "      <td>1.0</td>\n",
       "    </tr>\n",
       "    <tr>\n",
       "      <th>843</th>\n",
       "      <td>comment</td>\n",
       "      <td>2025-04-11 5:01:24</td>\n",
       "      <td>mmijiuz</td>\n",
       "      <td>StockMarket</td>\n",
       "      <td>$ U.S. dollar value (crashing)</td>\n",
       "      <td>lulububudu</td>\n",
       "      <td>https://i.redd.it/atvlo83gk4ue1.jpeg</td>\n",
       "      <td>2</td>\n",
       "      <td>NaN</td>\n",
       "      <td>NaN</td>\n",
       "      <td>Where can I read this?</td>\n",
       "      <td>0.000000</td>\n",
       "      <td>0.000000</td>\n",
       "      <td>0.0</td>\n",
       "      <td>[]</td>\n",
       "      <td>0.0</td>\n",
       "    </tr>\n",
       "    <tr>\n",
       "      <th>844</th>\n",
       "      <td>post</td>\n",
       "      <td>2025-03-24 12:30:39</td>\n",
       "      <td>1jipi4v</td>\n",
       "      <td>stockstobuytoday</td>\n",
       "      <td>Analyst Recommendations</td>\n",
       "      <td>saasfin</td>\n",
       "      <td>https://www.reddit.com/r/stockstobuytoday/comm...</td>\n",
       "      <td>1</td>\n",
       "      <td>0.0</td>\n",
       "      <td>1.00</td>\n",
       "      <td>Upgrades, Downgrades\\r\\n\\r\\n [Stock Analyst Re...</td>\n",
       "      <td>0.000000</td>\n",
       "      <td>0.000000</td>\n",
       "      <td>0.0</td>\n",
       "      <td>['Analyst', 'Nasdaq', 'Stock', 'Upgrades', 'Do...</td>\n",
       "      <td>0.0</td>\n",
       "    </tr>\n",
       "    <tr>\n",
       "      <th>845</th>\n",
       "      <td>comment</td>\n",
       "      <td>2025-04-11 20:13:26</td>\n",
       "      <td>mmmely7</td>\n",
       "      <td>wallstreetbets</td>\n",
       "      <td>Weekend Discussion Thread for the Weekend of A...</td>\n",
       "      <td>yes_ur_wrong</td>\n",
       "      <td>https://www.reddit.com/r/wallstreetbets/commen...</td>\n",
       "      <td>10</td>\n",
       "      <td>NaN</td>\n",
       "      <td>NaN</td>\n",
       "      <td>i sold my puts so i expect cheeto to declare w...</td>\n",
       "      <td>0.000000</td>\n",
       "      <td>0.000000</td>\n",
       "      <td>0.0</td>\n",
       "      <td>['war', 'denmark', 'cheeto', 'i']</td>\n",
       "      <td>-1.0</td>\n",
       "    </tr>\n",
       "    <tr>\n",
       "      <th>846</th>\n",
       "      <td>comment</td>\n",
       "      <td>2025-04-12 3:09:06</td>\n",
       "      <td>mmobyz1</td>\n",
       "      <td>wallstreetbets</td>\n",
       "      <td>Someone post the hotline please.</td>\n",
       "      <td>I_am_Nerman</td>\n",
       "      <td>https://i.redd.it/tcfuu97p7bue1.jpeg</td>\n",
       "      <td>1</td>\n",
       "      <td>NaN</td>\n",
       "      <td>NaN</td>\n",
       "      <td>![img](emote|t5_2th52|31224)</td>\n",
       "      <td>0.000000</td>\n",
       "      <td>0.000000</td>\n",
       "      <td>0.0</td>\n",
       "      <td>['img', ']', '[', 'emote|t5_2th52|31224']</td>\n",
       "      <td>0.0</td>\n",
       "    </tr>\n",
       "  </tbody>\n",
       "</table>\n",
       "<p>847 rows × 16 columns</p>\n",
       "</div>"
      ],
      "text/plain": [
       "        type             datetime  post_id         subreddit  \\\n",
       "0    comment  2025-04-11 17:29:56  mmli62w    wallstreetbets   \n",
       "1    comment   2025-04-12 1:12:19  mmnu7v9    wallstreetbets   \n",
       "2    comment  2025-04-10 15:09:41  mmeevio       StockMarket   \n",
       "3       post  2023-08-30 17:12:55  165kllm  stockstobuytoday   \n",
       "4    comment  2025-04-11 14:48:05  mmkl6bw       StockMarket   \n",
       "..       ...                  ...      ...               ...   \n",
       "842  comment   2021-06-30 4:06:06  h3iv6pq  stockstobuytoday   \n",
       "843  comment   2025-04-11 5:01:24  mmijiuz       StockMarket   \n",
       "844     post  2025-03-24 12:30:39  1jipi4v  stockstobuytoday   \n",
       "845  comment  2025-04-11 20:13:26  mmmely7    wallstreetbets   \n",
       "846  comment   2025-04-12 3:09:06  mmobyz1    wallstreetbets   \n",
       "\n",
       "                                                 title                author  \\\n",
       "0      Retardation is on the menu boys! WSB is so back          StickyTip420   \n",
       "1    Retail giant TARGET has now declined for 10 co...  Comfortable-Dog-8437   \n",
       "2    How do you feel about a sitting president maki...          Btankersly66   \n",
       "3                                Who knows more? $VMAR             emiljenfn   \n",
       "4    The Trump administration is begging Xi Jinping...          Just-Big6411   \n",
       "..                                                 ...                   ...   \n",
       "842  $MRIN Marin Software killed it today. Hope som...   Ordinary-Office9180   \n",
       "843                     $ U.S. dollar value (crashing)            lulububudu   \n",
       "844                            Analyst Recommendations               saasfin   \n",
       "845  Weekend Discussion Thread for the Weekend of A...          yes_ur_wrong   \n",
       "846                   Someone post the hotline please.           I_am_Nerman   \n",
       "\n",
       "                                                   url  upvotes  downvotes  \\\n",
       "0                 https://i.redd.it/0yq2ftren8ue1.jpeg        0        NaN   \n",
       "1                 https://i.redd.it/7tl6puv9waue1.jpeg      -15        NaN   \n",
       "2    https://apnews.com/article/trump-truth-social-...        1        NaN   \n",
       "3    https://www.reddit.com/r/stockstobuytoday/comm...       30        0.0   \n",
       "4    https://edition.cnn.com/2025/04/10/politics/tr...        1        NaN   \n",
       "..                                                 ...      ...        ...   \n",
       "842  https://www.reddit.com/r/stockstobuytoday/comm...        1        NaN   \n",
       "843               https://i.redd.it/atvlo83gk4ue1.jpeg        2        NaN   \n",
       "844  https://www.reddit.com/r/stockstobuytoday/comm...        1        0.0   \n",
       "845  https://www.reddit.com/r/wallstreetbets/commen...       10        NaN   \n",
       "846               https://i.redd.it/tcfuu97p7bue1.jpeg        1        NaN   \n",
       "\n",
       "     upvote_ratio                                               text  \\\n",
       "0             NaN                                   Calls on retards   \n",
       "1             NaN  Stunt as in like why did they even make a big ...   \n",
       "2             NaN                  Seeing lots of red in the ticker.   \n",
       "3            0.98  Vision Marine Technologies Inc. is rewriting t...   \n",
       "4             NaN                           He didn’t say thank you.   \n",
       "..            ...                                                ...   \n",
       "842           NaN        Invest now it is going to shoot up tomorrow   \n",
       "843           NaN                             Where can I read this?   \n",
       "844          1.00  Upgrades, Downgrades\\r\\n\\r\\n [Stock Analyst Re...   \n",
       "845           NaN  i sold my puts so i expect cheeto to declare w...   \n",
       "846           NaN                       ![img](emote|t5_2th52|31224)   \n",
       "\n",
       "     subjectivity  polarity  sentiment  \\\n",
       "0        1.000000 -0.900000       -1.0   \n",
       "1        0.177778  0.083333        1.0   \n",
       "2        0.000000  0.000000        0.0   \n",
       "3        0.646970  0.216383        1.0   \n",
       "4        0.000000  0.000000        0.0   \n",
       "..            ...       ...        ...   \n",
       "842      0.000000  0.000000        0.0   \n",
       "843      0.000000  0.000000        0.0   \n",
       "844      0.000000  0.000000        0.0   \n",
       "845      0.000000  0.000000        0.0   \n",
       "846      0.000000  0.000000        0.0   \n",
       "\n",
       "                                              entities  label  \n",
       "0                                                   []   -1.0  \n",
       "1                ['Stunt', 'company', 'deal', 'place']    0.0  \n",
       "2                                           ['ticker']    0.0  \n",
       "3    ['watercraft', 'skill', 'power', ']', 'feat', ...    1.0  \n",
       "4                                                   []   -1.0  \n",
       "..                                                 ...    ...  \n",
       "842                                       ['tomorrow']    1.0  \n",
       "843                                                 []    0.0  \n",
       "844  ['Analyst', 'Nasdaq', 'Stock', 'Upgrades', 'Do...    0.0  \n",
       "845                  ['war', 'denmark', 'cheeto', 'i']   -1.0  \n",
       "846          ['img', ']', '[', 'emote|t5_2th52|31224']    0.0  \n",
       "\n",
       "[847 rows x 16 columns]"
      ]
     },
     "execution_count": 4,
     "metadata": {},
     "output_type": "execute_result"
    }
   ],
   "source": [
    "#Data Loading\n",
    "NewData = pd.read_csv('newdataset/Reddit-stock-sentiment.csv')\n",
    "NewData"
   ]
  },
  {
   "cell_type": "code",
   "execution_count": 5,
   "metadata": {},
   "outputs": [
    {
     "data": {
      "text/plain": [
       "847"
      ]
     },
     "execution_count": 5,
     "metadata": {},
     "output_type": "execute_result"
    }
   ],
   "source": [
    "len(NewData)"
   ]
  },
  {
   "cell_type": "code",
   "execution_count": 6,
   "metadata": {},
   "outputs": [
    {
     "name": "stdout",
     "output_type": "stream",
     "text": [
      "example 1\n",
      "Calls on retards\n",
      "example 2\n",
      "Stunt as in like why did they even make a big deal about starting it in the first place? No company should ever talk about politics ever.\n",
      "example 3\n",
      "Seeing lots of red in the ticker.\n"
     ]
    }
   ],
   "source": [
    "#Exercise 1\n",
    "for i in range(3):\n",
    "    print(f\"example {i+1}\")\n",
    "    print(\"\\n\".join(NewData.text[i].split(\"\\n\")))"
   ]
  },
  {
   "cell_type": "code",
   "execution_count": 7,
   "metadata": {},
   "outputs": [
    {
     "data": {
      "application/vnd.microsoft.datawrangler.viewer.v0+json": {
       "columns": [
        {
         "name": "index",
         "rawType": "int64",
         "type": "integer"
        },
        {
         "name": "text",
         "rawType": "object",
         "type": "string"
        }
       ],
       "ref": "5651e4ab-fdc2-4450-97da-d9b66f6341cf",
       "rows": [
        [
         "0",
         "Calls on retards"
        ],
        [
         "5",
         "Hoping to ejaculate in wet warm puss tonight, wish me luck"
        ],
        [
         "9",
         "HLGN is $10. Hurry and catch it now before it shoots to the moon!"
        ],
        [
         "10",
         "It's a copy/paste from a Bloomberg terminal."
        ]
       ],
       "shape": {
        "columns": 1,
        "rows": 4
       }
      },
      "text/plain": [
       "0                                      Calls on retards\n",
       "5     Hoping to ejaculate in wet warm puss tonight, ...\n",
       "9     HLGN is $10. Hurry and catch it now before it ...\n",
       "10         It's a copy/paste from a Bloomberg terminal.\n",
       "Name: text, dtype: object"
      ]
     },
     "execution_count": 7,
     "metadata": {},
     "output_type": "execute_result"
    }
   ],
   "source": [
    "#Exercise 2\n",
    "NewData.loc[NewData.index[[0,5]+[9,10]], \"text\"]"
   ]
  },
  {
   "cell_type": "code",
   "execution_count": 8,
   "metadata": {},
   "outputs": [
    {
     "data": {
      "application/vnd.microsoft.datawrangler.viewer.v0+json": {
       "columns": [
        {
         "name": "index",
         "rawType": "int64",
         "type": "integer"
        },
        {
         "name": "subreddit",
         "rawType": "object",
         "type": "string"
        },
        {
         "name": "title",
         "rawType": "object",
         "type": "string"
        },
        {
         "name": "text",
         "rawType": "object",
         "type": "string"
        },
        {
         "name": "sentiment",
         "rawType": "float64",
         "type": "float"
        },
        {
         "name": "label",
         "rawType": "float64",
         "type": "float"
        }
       ],
       "ref": "99ab72b4-d768-4dce-8ef7-9690d3f0d2ad",
       "rows": [
        [
         "0",
         "wallstreetbets",
         "Retardation is on the menu boys! WSB is so back",
         "Calls on retards",
         "-1.0",
         "-1.0"
        ],
        [
         "1",
         "wallstreetbets",
         "Retail giant TARGET has now declined for 10 consecutive weeks, its longest losing streak in history",
         "Stunt as in like why did they even make a big deal about starting it in the first place? No company should ever talk about politics ever.",
         "1.0",
         "0.0"
        ],
        [
         "2",
         "StockMarket",
         "How do you feel about a sitting president making $415M in one day after pumping his own stock with social media and a policy decision?",
         "Seeing lots of red in the ticker.",
         "0.0",
         "0.0"
        ],
        [
         "3",
         "stockstobuytoday",
         "Who knows more? $VMAR",
         "Vision Marine Technologies Inc. is rewriting the watercraft rulebook. Their collaboration with Shaun Torrente has achieved the unthinkable – a blazing 116 mph on water! This isn't just about speed; it's about propelling electric boating into a new era. Their cutting-edge technology, combined with Torrente's skill, is making waves that'll ripple for generations.\r\n\r\n**Highlight Main Points**\r\n\r\n* Vision Marine Technologies Inc. achieves a record-breaking 116 mph speed on water with Shaun Torrente.\r\n* The feat highlights the power of electric boating and pushes the limits of innovation.\r\n* Partners like Octillion Power Systems and Danfoss Editron contribute to this groundbreaking achievement.\r\n\r\n**TLDR**\r\n\r\nHold onto your seats – Vision Marine Technologies Inc. and Shaun Torrente have shattered the water-speed record at an astonishing 116 mph!  This isn't just about speed; it's about pioneering electric boating and innovation. The collaboration of technology, skill, and passion is creating ripples that'll be felt for years to come in the world of watercraft.\r\n\r\n[]()",
         "1.0",
         "1.0"
        ],
        [
         "4",
         "StockMarket",
         "The Trump administration is begging Xi Jinping to call Trump quickly.",
         "He didn’t say thank you.",
         "0.0",
         "-1.0"
        ],
        [
         "5",
         "wallstreetbets",
         "Weekend Discussion Thread for the Weekend of April 11, 2025",
         "Hoping to ejaculate in wet warm puss tonight, wish me luck",
         "1.0",
         "0.0"
        ],
        [
         "6",
         "stocks",
         "Is the market in complete denial right now?",
         "Trump will respond to china increasing their tariffs. Trump is looking to fire Jerome Powell. Earnings reporting is starting. I personally think the next few weeks are going to be brutal.... if all companies adjust downwards and JPow is fired, i can see it going down A LOT and very quickly even",
         "-1.0",
         "-1.0"
        ],
        [
         "7",
         "wallstreetbets",
         "Retardation is on the menu boys! WSB is so back",
         "Confirmed not a trap. Its been like this for probably 2 months, we have just let it slowly spread by word of mouth",
         "1.0",
         "0.0"
        ],
        [
         "8",
         "stocks",
         "It's fucking awful seeing the \"Silver\" misinformation campaign everywhere I look",
         "Am I the only one seeing the cup & handle breakout here? 52 week high? Third Green Day? The pivot was on Thursday. Perfectly held the base trend line to a new high. Follow the technicals folks.",
         "1.0",
         "1.0"
        ],
        [
         "9",
         "stockstobuytoday",
         "Any cheap stocks under $10?",
         "HLGN is $10. Hurry and catch it now before it shoots to the moon!",
         "0.0",
         "1.0"
        ],
        [
         "10",
         "stocks",
         "r/Stocks Daily Discussion & Fundamentals Friday Apr 11, 2025",
         "It's a copy/paste from a Bloomberg terminal.",
         "0.0",
         "0.0"
        ],
        [
         "11",
         "wallstreetbets",
         "Weekend Discussion Thread for the Weekend of April 11, 2025",
         "this sub has ruined emails for me, whenever I write “Best regards” I think of WSB",
         "1.0",
         "0.0"
        ],
        [
         "12",
         "stocks",
         "U.S. 10-year Treasury yields rise as Trump tariffs-led sell-off continues",
         "Honestly let the economy burn, maybe people will learn",
         "1.0",
         "-1.0"
        ],
        [
         "13",
         "stocks",
         "Rate My Portfolio - r/Stocks Quarterly Thread March 2025",
         "\r\nI’ve been doing pretty good with this, but it’s heavy on fees. Looking for a similar risk return profile but any ideas on how to do it with less fees? \r\nI don’t want to sell calls by myself.\r\n\r\nQdte 35%\r\nUpro 25%\r\nTltw 15%\r\nIspy 10%\r\nBrkb 10%\r\nMsci/Nvda 5%",
         "1.0",
         "0.0"
        ],
        [
         "14",
         "stocks",
         "r/Stocks Daily Discussion & Fundamentals Friday Apr 11, 2025",
         "USA begging China to call them",
         "0.0",
         "0.0"
        ],
        [
         "15",
         "stocks",
         "It's fucking awful seeing the \"Silver\" misinformation campaign everywhere I look",
         "Disgusting tactics",
         "-1.0",
         "0.0"
        ],
        [
         "16",
         "stocks",
         "PRESIDENT TRUMP JUST ASKED THE SUPREME COURT FOR THE AUTHORITY TO FIRE FEDERAL RESERVE CHAIR JEROME POWELL",
         "Jesus Christ",
         "0.0",
         "-1.0"
        ],
        [
         "17",
         "stocks",
         "The US bond market is continuing to crash. Will this make Trump back off of China?",
         "Exactly this. Trump will blink first because, in the end, he will have to answer to his people for high prices, empty shelves, and a useless dollar. People will protest and riot, there will be growing calls for his removal from office, things will halt to a standstill and there will be general chaos.\r\n\r\nPeople try that in China, and it will be Tiananmen Square 2.0. There will be no revolt, there will be no dissent. People will do as the CCP says or suffer severe punishment.\r\n\r\nXi holds the cards in a long term trade war. Trump does not. He can’t win this even if his mental illness tells him otherwise.",
         "1.0",
         "-1.0"
        ],
        [
         "18",
         "StockMarket",
         "Trump: We Are Doing Really Well On Our Tariff Policy.",
         "Trump and dump",
         "0.0",
         "-1.0"
        ],
        [
         "19",
         "stocks",
         "U.S. 10-year Treasury yields rise as Trump tariffs-led sell-off continues",
         "I think we are past the numbers. Just assume folks world wide are now looking for another safe place to store their money.\r\n\r\nWe used to be the place. That is over.\r\n\r\nHell I am in the US and I am looking for a safer place to store my money.\r\n\r\nWe are in uncharted waters here and we have an economy that was already shaky to begin with.\r\n\r\nFar too many Americans are woefully unaware of how big the world is or how much we actually depend on them. \r\n\r\nLots of hard lessons to be learned going forward.\r\n\r\nTo sell bonds and treasuries we need people to believe their money is safe if they buy them. That idea is rapidly exiting stage right.\r\n\r\nI could be wrong but I think those rates are  screaming at us that we are going down rapidly as a trusted partner.",
         "1.0",
         "-1.0"
        ],
        [
         "20",
         "stocks",
         "r/Stocks Daily Discussion & Fundamentals Friday Apr 11, 2025",
         "Nooo dont go down its smug bull day",
         "0.0",
         "-1.0"
        ],
        [
         "21",
         "stockstobuytoday",
         "If you had $10k in cash…",
         "GEO WM",
         "0.0",
         "0.0"
        ],
        [
         "22",
         "wallstreetbets",
         "Retail giant TARGET has now declined for 10 consecutive weeks, its longest losing streak in history",
         "Google \"target dei\".\r\n\r\nI did it for you.\r\n\r\n",
         "0.0",
         "0.0"
        ],
        [
         "23",
         "stocks",
         "It's fucking awful seeing the \"Silver\" misinformation campaign everywhere I look",
         "I feel like these HFs took the word \"retard\" thrown around at WSB too literally. Now they are trying to pack shit in Tiffany bags and sell it to us. But we ain't buying it!",
         "-1.0",
         "-1.0"
        ],
        [
         "24",
         "stocks",
         "BREAKING: China raises tariffs on U.S. goods to 125%",
         "Shop like a billionaire.",
         "0.0",
         "0.0"
        ],
        [
         "25",
         "wallstreetbets",
         "Retail giant TARGET has now declined for 10 consecutive weeks, its longest losing streak in history",
         "You see, Target, pissing off a good chunk of your loyal customer base wasn't a good idea.",
         "1.0",
         "-1.0"
        ],
        [
         "26",
         "StockMarket",
         "🚨China responds to Trump’s 145% tariff with an 125% tariff on all U.S. imported goods.",
         "China will never lose a trade war. Delusional old guy from Queens never understood that.",
         "1.0",
         "-1.0"
        ],
        [
         "27",
         "stockstobuytoday",
         "Give me the ticker, I give you the stock analysis!",
         "Any thoughts on RVPH?",
         "0.0",
         "0.0"
        ],
        [
         "28",
         "wallstreetbets",
         "Retardation is on the menu boys! WSB is so back",
         "My first wife was tarded, she's a pilot now.",
         "1.0",
         "0.0"
        ],
        [
         "29",
         "stockstobuytoday",
         "r/stockstobuytoday Lounge",
         "Is sundial growers going to rise up?",
         "0.0",
         "0.0"
        ],
        [
         "30",
         "stocks",
         "r/Stocks Daily Discussion & Fundamentals Friday Apr 11, 2025",
         "> Still seems like an awful investment\r\n\r\nThat sentiment, above everything else happening, is what has me most terrified.\r\n\r\nFaith in the US economy is crumbling.",
         "-1.0",
         "-1.0"
        ],
        [
         "31",
         "stockstobuytoday",
         "Best EV / green mining stocks?",
         "$EVGO \r\n\r\n*Record Revenue increasing 5 straight Quarters\r\n\r\n*30% SI, poised for a massive squeeze on a small cap. There is no bear thesis anymore\r\n\r\n*Major partnership with key OEM’s (now Toyota in addition to GM, Honda, Ford, Rivian 33 all together)-\r\n\r\n*There was a NYT article where a VP of EVGO mentioned that red states are actually some of their biggest partners as they see it as inevitable: \r\n\r\n“Sara Rafalson, a vice president at EVgo, a Los Angeles-based charging company that has built chargers in over 35 states, said that the company was seeing its biggest demand growth in Republican-led states like Texas and Florida.”\r\n\r\n*EV winter is ending with GM EV Equinox launch June 17th + Costco Discount + EV Blazer Cost Reduction + Stellantis $25K Jeep + many other cheap EV’s 2nd half of this year under, Hertz firesale of EV’s under $25K + $4500 to $7500 incentive\r\n\r\n*CEO Insider buy of 125,000 shares \r\n\r\n*Lower interest rates in September combined with many new cheap electric vehicle models like GM Equinox Compact\r\n\r\n*Low Debt\r\n\r\n*Rolling out North American Charging Standard NACS to entire country so ALL vehicles can recharge at Charging stations\r\n\r\n*1,000,000 customers doubling annually (at least, likely more)\r\n\r\n*Artificial Intelligence to place charging stations for maximum Charging Revenue\r\n\r\n*Renew program to upgrade older stations\r\n\r\n*100% USA parts compliant so not affected by China Tariffs and will take business from others\r\n\r\n*The US must upgrade its EV infrastructure if they want to compete globally. EVGO is the only fast chargers. BLNK and CHPT only give you one time sales revenue whereas EVGO gives you multiple.\r\n\r\n*TESLA backing off of electric vehicle Charging leaves even more room to grow. EVGO is next best at L3 Chargers\r\n\r\n*EBIDTA forecast to be positive in early 2025 if not sooner\r\n\r\n*Will NOT have to do a secondary offering - line of credit in case, high growth and cash reserves, may not even need it.\r\n\r\n*Rates are getting cut soon leading to more growth \r\n\r\n*They expect a DOE loan this year \r\n\r\n*trading sideways right now, perfect entry before the next leg up. Last spike up took 1 month and 1 week of sideways trading. Based off the same timeline, we are a week off. \r\n\r\n*They are adding high end talent, big names from Tesla. Recently hired a CPO, Chief Peoples Officer implying they are expecting to expand rapidly thus need someone with strong connections in the space.",
         "1.0",
         "0.0"
        ],
        [
         "32",
         "StockMarket",
         "Data Shows US Allies—Not China—Dumping Treasuries",
         "Sorry; I’m dumb but is this not just a USD to X conversion chart?",
         "-1.0",
         "0.0"
        ],
        [
         "33",
         "StockMarket",
         "The Trump administration is begging Xi Jinping to call Trump quickly.",
         "Pls respond",
         "0.0",
         "0.0"
        ],
        [
         "34",
         "stocks",
         "It's fucking awful seeing the \"Silver\" misinformation campaign everywhere I look",
         "So they went from saying redditors are bad for manipulating the market o praising silver??",
         "-1.0",
         "1.0"
        ],
        [
         "35",
         "wallstreetbets",
         "Retardation is on the menu boys! WSB is so back",
         "Goshdang about time. It was fine to say when I was a kid, fine in college, but then I went to war and when I come back the whole world got suuuuuper weird. 2012 was a pretty important year to miss or something?",
         "1.0",
         "0.0"
        ],
        [
         "36",
         "StockMarket",
         "The Trump administration is begging Xi Jinping to call Trump quickly.",
         "Xi is calm and sure-footed in his response to Trump, while Trump is irrational and makes quick decisions without considering the consequence. Also, he's stupid.",
         "-1.0",
         "-1.0"
        ],
        [
         "37",
         "stocks",
         "Rate My Portfolio - r/Stocks Quarterly Thread March 2025",
         "Cash",
         "0.0",
         "0.0"
        ],
        [
         "38",
         "wallstreetbets",
         "Someone post the hotline please.",
         "Hey our net worth match now, we can be friends!",
         "1.0",
         "1.0"
        ],
        [
         "39",
         "stocks",
         "Formerly Stable US Treasuries Are Trading Like Risky Assets; 2008-esque in Warning to Trump, US Dollar tanks MASSIVELY",
         "Other countries probably will go through a recession, but there is no reason at all that they would suffer hyperinflation.  Remember that they can mitigate inflation by trading with any other country.  There is very little that only the US makes.  Only the US dollar is wobbly right now.",
         "1.0",
         "1.0"
        ],
        [
         "40",
         "wallstreetbets",
         "Weekend Discussion Thread for the Weekend of April 11, 2025",
         "These China AI factory memes are pretty good. I gotta admit they boomed us this time.",
         "1.0",
         "0.0"
        ],
        [
         "41",
         "stockstobuytoday",
         "Shorted Stocks - Hedges crushing NAKD, FAMI, SNDL, OCGN, MOTS, VXRT, CTRM, NIO",
         "And plug",
         "0.0",
         "0.0"
        ],
        [
         "42",
         "stocks",
         "It's fucking awful seeing the \"Silver\" misinformation campaign everywhere I look",
         "So they went from saying redditors are bad for manipulating the market o praising silver??",
         "-1.0",
         "1.0"
        ],
        [
         "43",
         "stocks",
         "Is the market in complete denial right now?",
         "what if time machine parts come from china",
         "0.0",
         "0.0"
        ],
        [
         "44",
         "stocks",
         "Is the market in complete denial right now?",
         "Completely unrelated, but for like 20 years of my life, I thought the saying was \"Button down the hatches\".  I was like 27 or something when somebody corrected me and now every time I see it, I always think \"Man, that was really a common knowledge thing that I just didn't know\".",
         "-1.0",
         "0.0"
        ],
        [
         "45",
         "stockstobuytoday",
         "Don’t Shoot The Messenger 🤷‍♂️",
         "100% fact! Truth hurts.",
         "0.0",
         "0.0"
        ],
        [
         "46",
         "StockMarket",
         "How do you feel about a sitting president making $415M in one day after pumping his own stock with social media and a policy decision?",
         "If the \"rule of law\" wasn't a total joke, I might feel badly about it-- but it seems like nobody who matters does, so why should I?",
         "-1.0",
         "-1.0"
        ],
        [
         "47",
         "wallstreetbets",
         "Weekend Discussion Thread for the Weekend of April 11, 2025",
         "Weekend thread is where the real ones at ![img](emote|t5_2th52|8883)",
         "1.0",
         "0.0"
        ],
        [
         "48",
         "stockstobuytoday",
         "Earnings for current week",
         "\r\n\r\n  [MarketWatch: Stock Market News - Financial News - Earmings Stonkvest (stockbuyvest.com)]() \r\n\r\n\\#catalyst #event #earnings",
         "0.0",
         "0.0"
        ],
        [
         "49",
         "stocks",
         "r/Stocks Daily Discussion & Fundamentals Friday Apr 11, 2025",
         "And you are? \r\n\r\nMarket. Mr. Market. ",
         "0.0",
         "0.0"
        ]
       ],
       "shape": {
        "columns": 5,
        "rows": 847
       }
      },
      "text/html": [
       "<div>\n",
       "<style scoped>\n",
       "    .dataframe tbody tr th:only-of-type {\n",
       "        vertical-align: middle;\n",
       "    }\n",
       "\n",
       "    .dataframe tbody tr th {\n",
       "        vertical-align: top;\n",
       "    }\n",
       "\n",
       "    .dataframe thead th {\n",
       "        text-align: right;\n",
       "    }\n",
       "</style>\n",
       "<table border=\"1\" class=\"dataframe\">\n",
       "  <thead>\n",
       "    <tr style=\"text-align: right;\">\n",
       "      <th></th>\n",
       "      <th>subreddit</th>\n",
       "      <th>title</th>\n",
       "      <th>text</th>\n",
       "      <th>sentiment</th>\n",
       "      <th>label</th>\n",
       "    </tr>\n",
       "  </thead>\n",
       "  <tbody>\n",
       "    <tr>\n",
       "      <th>0</th>\n",
       "      <td>wallstreetbets</td>\n",
       "      <td>Retardation is on the menu boys! WSB is so back</td>\n",
       "      <td>Calls on retards</td>\n",
       "      <td>-1.0</td>\n",
       "      <td>-1.0</td>\n",
       "    </tr>\n",
       "    <tr>\n",
       "      <th>1</th>\n",
       "      <td>wallstreetbets</td>\n",
       "      <td>Retail giant TARGET has now declined for 10 co...</td>\n",
       "      <td>Stunt as in like why did they even make a big ...</td>\n",
       "      <td>1.0</td>\n",
       "      <td>0.0</td>\n",
       "    </tr>\n",
       "    <tr>\n",
       "      <th>2</th>\n",
       "      <td>StockMarket</td>\n",
       "      <td>How do you feel about a sitting president maki...</td>\n",
       "      <td>Seeing lots of red in the ticker.</td>\n",
       "      <td>0.0</td>\n",
       "      <td>0.0</td>\n",
       "    </tr>\n",
       "    <tr>\n",
       "      <th>3</th>\n",
       "      <td>stockstobuytoday</td>\n",
       "      <td>Who knows more? $VMAR</td>\n",
       "      <td>Vision Marine Technologies Inc. is rewriting t...</td>\n",
       "      <td>1.0</td>\n",
       "      <td>1.0</td>\n",
       "    </tr>\n",
       "    <tr>\n",
       "      <th>4</th>\n",
       "      <td>StockMarket</td>\n",
       "      <td>The Trump administration is begging Xi Jinping...</td>\n",
       "      <td>He didn’t say thank you.</td>\n",
       "      <td>0.0</td>\n",
       "      <td>-1.0</td>\n",
       "    </tr>\n",
       "    <tr>\n",
       "      <th>...</th>\n",
       "      <td>...</td>\n",
       "      <td>...</td>\n",
       "      <td>...</td>\n",
       "      <td>...</td>\n",
       "      <td>...</td>\n",
       "    </tr>\n",
       "    <tr>\n",
       "      <th>842</th>\n",
       "      <td>stockstobuytoday</td>\n",
       "      <td>$MRIN Marin Software killed it today. Hope som...</td>\n",
       "      <td>Invest now it is going to shoot up tomorrow</td>\n",
       "      <td>0.0</td>\n",
       "      <td>1.0</td>\n",
       "    </tr>\n",
       "    <tr>\n",
       "      <th>843</th>\n",
       "      <td>StockMarket</td>\n",
       "      <td>$ U.S. dollar value (crashing)</td>\n",
       "      <td>Where can I read this?</td>\n",
       "      <td>0.0</td>\n",
       "      <td>0.0</td>\n",
       "    </tr>\n",
       "    <tr>\n",
       "      <th>844</th>\n",
       "      <td>stockstobuytoday</td>\n",
       "      <td>Analyst Recommendations</td>\n",
       "      <td>Upgrades, Downgrades\\r\\n\\r\\n [Stock Analyst Re...</td>\n",
       "      <td>0.0</td>\n",
       "      <td>0.0</td>\n",
       "    </tr>\n",
       "    <tr>\n",
       "      <th>845</th>\n",
       "      <td>wallstreetbets</td>\n",
       "      <td>Weekend Discussion Thread for the Weekend of A...</td>\n",
       "      <td>i sold my puts so i expect cheeto to declare w...</td>\n",
       "      <td>0.0</td>\n",
       "      <td>-1.0</td>\n",
       "    </tr>\n",
       "    <tr>\n",
       "      <th>846</th>\n",
       "      <td>wallstreetbets</td>\n",
       "      <td>Someone post the hotline please.</td>\n",
       "      <td>![img](emote|t5_2th52|31224)</td>\n",
       "      <td>0.0</td>\n",
       "      <td>0.0</td>\n",
       "    </tr>\n",
       "  </tbody>\n",
       "</table>\n",
       "<p>847 rows × 5 columns</p>\n",
       "</div>"
      ],
      "text/plain": [
       "            subreddit                                              title  \\\n",
       "0      wallstreetbets    Retardation is on the menu boys! WSB is so back   \n",
       "1      wallstreetbets  Retail giant TARGET has now declined for 10 co...   \n",
       "2         StockMarket  How do you feel about a sitting president maki...   \n",
       "3    stockstobuytoday                              Who knows more? $VMAR   \n",
       "4         StockMarket  The Trump administration is begging Xi Jinping...   \n",
       "..                ...                                                ...   \n",
       "842  stockstobuytoday  $MRIN Marin Software killed it today. Hope som...   \n",
       "843       StockMarket                     $ U.S. dollar value (crashing)   \n",
       "844  stockstobuytoday                            Analyst Recommendations   \n",
       "845    wallstreetbets  Weekend Discussion Thread for the Weekend of A...   \n",
       "846    wallstreetbets                   Someone post the hotline please.   \n",
       "\n",
       "                                                  text  sentiment  label  \n",
       "0                                     Calls on retards       -1.0   -1.0  \n",
       "1    Stunt as in like why did they even make a big ...        1.0    0.0  \n",
       "2                    Seeing lots of red in the ticker.        0.0    0.0  \n",
       "3    Vision Marine Technologies Inc. is rewriting t...        1.0    1.0  \n",
       "4                             He didn’t say thank you.        0.0   -1.0  \n",
       "..                                                 ...        ...    ...  \n",
       "842        Invest now it is going to shoot up tomorrow        0.0    1.0  \n",
       "843                             Where can I read this?        0.0    0.0  \n",
       "844  Upgrades, Downgrades\\r\\n\\r\\n [Stock Analyst Re...        0.0    0.0  \n",
       "845  i sold my puts so i expect cheeto to declare w...        0.0   -1.0  \n",
       "846                       ![img](emote|t5_2th52|31224)        0.0    0.0  \n",
       "\n",
       "[847 rows x 5 columns]"
      ]
     },
     "execution_count": 8,
     "metadata": {},
     "output_type": "execute_result"
    }
   ],
   "source": [
    "#Exercise 3\n",
    "N = NewData[[\"subreddit\",\"title\",\"text\",\"sentiment\",\"label\"]]\n",
    "N"
   ]
  },
  {
   "cell_type": "code",
   "execution_count": 9,
   "metadata": {},
   "outputs": [
    {
     "data": {
      "application/vnd.microsoft.datawrangler.viewer.v0+json": {
       "columns": [
        {
         "name": "index",
         "rawType": "int64",
         "type": "integer"
        },
        {
         "name": "subreddit",
         "rawType": "object",
         "type": "unknown"
        },
        {
         "name": "title",
         "rawType": "object",
         "type": "unknown"
        },
        {
         "name": "text",
         "rawType": "object",
         "type": "unknown"
        },
        {
         "name": "sentiment",
         "rawType": "object",
         "type": "unknown"
        },
        {
         "name": "label",
         "rawType": "object",
         "type": "unknown"
        }
       ],
       "ref": "cfc642b5-cfb6-49d6-b81f-9a84233ac0f4",
       "rows": [
        [
         "0",
         "The amoung of missing records is: ",
         "The amoung of missing records is: ",
         "The amoung of missing records is: ",
         "The amoung of missing records is: ",
         "The amoung of missing records is: "
        ],
        [
         "1",
         "0",
         "0",
         "0",
         "0",
         "0"
        ]
       ],
       "shape": {
        "columns": 5,
        "rows": 2
       }
      },
      "text/html": [
       "<div>\n",
       "<style scoped>\n",
       "    .dataframe tbody tr th:only-of-type {\n",
       "        vertical-align: middle;\n",
       "    }\n",
       "\n",
       "    .dataframe tbody tr th {\n",
       "        vertical-align: top;\n",
       "    }\n",
       "\n",
       "    .dataframe thead th {\n",
       "        text-align: right;\n",
       "    }\n",
       "</style>\n",
       "<table border=\"1\" class=\"dataframe\">\n",
       "  <thead>\n",
       "    <tr style=\"text-align: right;\">\n",
       "      <th></th>\n",
       "      <th>subreddit</th>\n",
       "      <th>title</th>\n",
       "      <th>text</th>\n",
       "      <th>sentiment</th>\n",
       "      <th>label</th>\n",
       "    </tr>\n",
       "  </thead>\n",
       "  <tbody>\n",
       "    <tr>\n",
       "      <th>0</th>\n",
       "      <td>The amoung of missing records is:</td>\n",
       "      <td>The amoung of missing records is:</td>\n",
       "      <td>The amoung of missing records is:</td>\n",
       "      <td>The amoung of missing records is:</td>\n",
       "      <td>The amoung of missing records is:</td>\n",
       "    </tr>\n",
       "    <tr>\n",
       "      <th>1</th>\n",
       "      <td>0</td>\n",
       "      <td>0</td>\n",
       "      <td>0</td>\n",
       "      <td>0</td>\n",
       "      <td>0</td>\n",
       "    </tr>\n",
       "  </tbody>\n",
       "</table>\n",
       "</div>"
      ],
      "text/plain": [
       "                            subreddit                               title  \\\n",
       "0  The amoung of missing records is:   The amoung of missing records is:    \n",
       "1                                   0                                   0   \n",
       "\n",
       "                                 text                           sentiment  \\\n",
       "0  The amoung of missing records is:   The amoung of missing records is:    \n",
       "1                                   0                                   0   \n",
       "\n",
       "                                label  \n",
       "0  The amoung of missing records is:   \n",
       "1                                   0  "
      ]
     },
     "execution_count": 9,
     "metadata": {},
     "output_type": "execute_result"
    }
   ],
   "source": [
    "#Exercise 4\n",
    "import helpers.data_mining_helpers as dmh #Functions\n",
    "N.isnull().apply(lambda x: dmh.check_missing_values(x))"
   ]
  },
  {
   "cell_type": "code",
   "execution_count": 10,
   "metadata": {},
   "outputs": [
    {
     "data": {
      "application/vnd.microsoft.datawrangler.viewer.v0+json": {
       "columns": [
        {
         "name": "index",
         "rawType": "int64",
         "type": "integer"
        },
        {
         "name": "downvotes",
         "rawType": "bool",
         "type": "boolean"
        },
        {
         "name": "upvote_ratio",
         "rawType": "bool",
         "type": "boolean"
        }
       ],
       "ref": "684c73df-25e7-4fb0-b012-1a8057368336",
       "rows": [
        [
         "0",
         "True",
         "True"
        ],
        [
         "1",
         "True",
         "True"
        ],
        [
         "2",
         "True",
         "True"
        ],
        [
         "3",
         "False",
         "False"
        ],
        [
         "4",
         "True",
         "True"
        ],
        [
         "5",
         "True",
         "True"
        ],
        [
         "6",
         "True",
         "True"
        ],
        [
         "7",
         "True",
         "True"
        ],
        [
         "8",
         "True",
         "True"
        ],
        [
         "9",
         "True",
         "True"
        ],
        [
         "10",
         "True",
         "True"
        ],
        [
         "11",
         "True",
         "True"
        ],
        [
         "12",
         "True",
         "True"
        ],
        [
         "13",
         "True",
         "True"
        ],
        [
         "14",
         "True",
         "True"
        ],
        [
         "15",
         "True",
         "True"
        ],
        [
         "16",
         "True",
         "True"
        ],
        [
         "17",
         "True",
         "True"
        ],
        [
         "18",
         "True",
         "True"
        ],
        [
         "19",
         "True",
         "True"
        ],
        [
         "20",
         "True",
         "True"
        ],
        [
         "21",
         "True",
         "True"
        ],
        [
         "22",
         "True",
         "True"
        ],
        [
         "23",
         "True",
         "True"
        ],
        [
         "24",
         "True",
         "True"
        ],
        [
         "25",
         "True",
         "True"
        ],
        [
         "26",
         "True",
         "True"
        ],
        [
         "27",
         "True",
         "True"
        ],
        [
         "28",
         "True",
         "True"
        ],
        [
         "29",
         "True",
         "True"
        ],
        [
         "30",
         "True",
         "True"
        ],
        [
         "31",
         "True",
         "True"
        ],
        [
         "32",
         "True",
         "True"
        ],
        [
         "33",
         "True",
         "True"
        ],
        [
         "34",
         "True",
         "True"
        ],
        [
         "35",
         "True",
         "True"
        ],
        [
         "36",
         "True",
         "True"
        ],
        [
         "37",
         "True",
         "True"
        ],
        [
         "38",
         "True",
         "True"
        ],
        [
         "39",
         "True",
         "True"
        ],
        [
         "40",
         "True",
         "True"
        ],
        [
         "41",
         "True",
         "True"
        ],
        [
         "42",
         "True",
         "True"
        ],
        [
         "43",
         "True",
         "True"
        ],
        [
         "44",
         "True",
         "True"
        ],
        [
         "45",
         "True",
         "True"
        ],
        [
         "46",
         "True",
         "True"
        ],
        [
         "47",
         "True",
         "True"
        ],
        [
         "48",
         "False",
         "False"
        ],
        [
         "49",
         "True",
         "True"
        ]
       ],
       "shape": {
        "columns": 2,
        "rows": 847
       }
      },
      "text/html": [
       "<div>\n",
       "<style scoped>\n",
       "    .dataframe tbody tr th:only-of-type {\n",
       "        vertical-align: middle;\n",
       "    }\n",
       "\n",
       "    .dataframe tbody tr th {\n",
       "        vertical-align: top;\n",
       "    }\n",
       "\n",
       "    .dataframe thead th {\n",
       "        text-align: right;\n",
       "    }\n",
       "</style>\n",
       "<table border=\"1\" class=\"dataframe\">\n",
       "  <thead>\n",
       "    <tr style=\"text-align: right;\">\n",
       "      <th></th>\n",
       "      <th>downvotes</th>\n",
       "      <th>upvote_ratio</th>\n",
       "    </tr>\n",
       "  </thead>\n",
       "  <tbody>\n",
       "    <tr>\n",
       "      <th>0</th>\n",
       "      <td>True</td>\n",
       "      <td>True</td>\n",
       "    </tr>\n",
       "    <tr>\n",
       "      <th>1</th>\n",
       "      <td>True</td>\n",
       "      <td>True</td>\n",
       "    </tr>\n",
       "    <tr>\n",
       "      <th>2</th>\n",
       "      <td>True</td>\n",
       "      <td>True</td>\n",
       "    </tr>\n",
       "    <tr>\n",
       "      <th>3</th>\n",
       "      <td>False</td>\n",
       "      <td>False</td>\n",
       "    </tr>\n",
       "    <tr>\n",
       "      <th>4</th>\n",
       "      <td>True</td>\n",
       "      <td>True</td>\n",
       "    </tr>\n",
       "    <tr>\n",
       "      <th>...</th>\n",
       "      <td>...</td>\n",
       "      <td>...</td>\n",
       "    </tr>\n",
       "    <tr>\n",
       "      <th>842</th>\n",
       "      <td>True</td>\n",
       "      <td>True</td>\n",
       "    </tr>\n",
       "    <tr>\n",
       "      <th>843</th>\n",
       "      <td>True</td>\n",
       "      <td>True</td>\n",
       "    </tr>\n",
       "    <tr>\n",
       "      <th>844</th>\n",
       "      <td>False</td>\n",
       "      <td>False</td>\n",
       "    </tr>\n",
       "    <tr>\n",
       "      <th>845</th>\n",
       "      <td>True</td>\n",
       "      <td>True</td>\n",
       "    </tr>\n",
       "    <tr>\n",
       "      <th>846</th>\n",
       "      <td>True</td>\n",
       "      <td>True</td>\n",
       "    </tr>\n",
       "  </tbody>\n",
       "</table>\n",
       "<p>847 rows × 2 columns</p>\n",
       "</div>"
      ],
      "text/plain": [
       "     downvotes  upvote_ratio\n",
       "0         True          True\n",
       "1         True          True\n",
       "2         True          True\n",
       "3        False         False\n",
       "4         True          True\n",
       "..         ...           ...\n",
       "842       True          True\n",
       "843       True          True\n",
       "844      False         False\n",
       "845       True          True\n",
       "846       True          True\n",
       "\n",
       "[847 rows x 2 columns]"
      ]
     },
     "execution_count": 10,
     "metadata": {},
     "output_type": "execute_result"
    }
   ],
   "source": [
    "#Exercise 5\n",
    "NewData[[\"downvotes\",\"upvote_ratio\"]].isnull()"
   ]
  },
  {
   "cell_type": "code",
   "execution_count": 11,
   "metadata": {},
   "outputs": [
    {
     "data": {
      "application/vnd.microsoft.datawrangler.viewer.v0+json": {
       "columns": [
        {
         "name": "index",
         "rawType": "int64",
         "type": "integer"
        },
        {
         "name": "subreddit",
         "rawType": "object",
         "type": "string"
        },
        {
         "name": "title",
         "rawType": "object",
         "type": "string"
        },
        {
         "name": "text",
         "rawType": "object",
         "type": "string"
        },
        {
         "name": "sentiment",
         "rawType": "float64",
         "type": "float"
        },
        {
         "name": "label",
         "rawType": "float64",
         "type": "float"
        }
       ],
       "ref": "f47c013b-5557-46bb-91db-4abf442db84f",
       "rows": [
        [
         "39",
         "stocks",
         "Formerly Stable US Treasuries Are Trading Like Risky Assets; 2008-esque in Warning to Trump, US Dollar tanks MASSIVELY",
         "Other countries probably will go through a recession, but there is no reason at all that they would suffer hyperinflation.  Remember that they can mitigate inflation by trading with any other country.  There is very little that only the US makes.  Only the US dollar is wobbly right now.",
         "1.0",
         "1.0"
        ],
        [
         "739",
         "stocks",
         "Rate My Portfolio - r/Stocks Quarterly Thread March 2025",
         "no state and local taxes",
         "0.0",
         "0.0"
        ],
        [
         "688",
         "stockstobuytoday",
         "Technical Analysis Thread.",
         "Enter the ticker for which  you want the technical analysis done.\r\n\r\nIt will be posted as a tradingview chart as a image link in this thread\r\n\r\n&#x200B;\r\n\r\n&#x200B;",
         "0.0",
         "0.0"
        ],
        [
         "786",
         "stockstobuytoday",
         "Analyst Recommendations",
         "Upgrades, Downgrades\r\n\r\n [Stock Analyst Recommendations | Upgrades & Downgrades | Nasdaq]()",
         "0.0",
         "0.0"
        ],
        [
         "514",
         "stocks",
         "r/Stocks Daily Discussion & Fundamentals Friday Apr 11, 2025",
         "SPY futes are red again yo",
         "0.0",
         "-1.0"
        ],
        [
         "12",
         "stocks",
         "U.S. 10-year Treasury yields rise as Trump tariffs-led sell-off continues",
         "Honestly let the economy burn, maybe people will learn",
         "1.0",
         "-1.0"
        ],
        [
         "37",
         "stocks",
         "Rate My Portfolio - r/Stocks Quarterly Thread March 2025",
         "Cash",
         "0.0",
         "0.0"
        ],
        [
         "152",
         "StockMarket",
         "Trump is surrounded by a bunch of idiots, he should just launch all his economic advisors into the sun.",
         "This is WRONG ANAL isis. TRUMP is VERY SMART by the TARIFFS becuz the reciyclical TARIFFS won't pass arbitration so you see Trump's ANAL is MAGA!!!",
         "-1.0",
         "1.0"
        ],
        [
         "10",
         "stocks",
         "r/Stocks Daily Discussion & Fundamentals Friday Apr 11, 2025",
         "It's a copy/paste from a Bloomberg terminal.",
         "0.0",
         "0.0"
        ],
        [
         "527",
         "StockMarket",
         "Rate My Portfolio - r/StockMarket Quarterly Thread April 2025",
         "Are any of you investing in European stocks for when the European market opens in about 9 hours?",
         "0.0",
         "0.0"
        ],
        [
         "492",
         "wallstreetbets",
         "Weekend Discussion Thread for the Weekend of April 11, 2025",
         "Holding over the weekend kind of scared",
         "1.0",
         "-1.0"
        ],
        [
         "398",
         "wallstreetbets",
         "Weekend Discussion Thread for the Weekend of April 11, 2025",
         "How this Friday pumped is beyond me.",
         "0.0",
         "0.0"
        ],
        [
         "308",
         "stockstobuytoday",
         "Anyone following $MEGA.CN??",
         "MegaWatt's making moves! Bagging Labrador Mineral Resources Inc. and raising funds shows they're serious about growth and resource expansion.",
         "-1.0",
         "0.0"
        ],
        [
         "127",
         "StockMarket",
         "How do you feel about a sitting president making $415M in one day after pumping his own stock with social media and a policy decision?",
         "Disgusted .",
         "-1.0",
         "-1.0"
        ],
        [
         "455",
         "stockstobuytoday",
         "Anyone following $PBTS?",
         "I'll be interested to see how this plays out for them ngl",
         "1.0",
         "0.0"
        ],
        [
         "273",
         "StockMarket",
         "The Trump administration is begging Xi Jinping to call Trump quickly.",
         "Wild that people are praising China, and talking about how great they are. They're great if you're not Taiwanese, Ukrainian (biggest supporter of Russia), Muslim, or non Chinese.",
         "1.0",
         "-1.0"
        ],
        [
         "503",
         "StockMarket",
         "🚨China responds to Trump’s 145% tariff with an 125% tariff on all U.S. imported goods.",
         "Super curious if you’ll delete this comment in 4 years when you’re wrong.  So I’m going to do a\r\n\r\nRemindMe! 47 months",
         "-1.0",
         "0.0"
        ],
        [
         "231",
         "stockstobuytoday",
         "Technical Analysis Thread.",
         "$GE rose today on drone news. Here's the daily chart\r\n\r\n&#x200B;\r\n\r\n[/](/)",
         "1.0",
         "0.0"
        ],
        [
         "285",
         "StockMarket",
         "The Trump administration is begging Xi Jinping to call Trump quickly.",
         "Maybe trump should kiss his ass",
         "0.0",
         "0.0"
        ],
        [
         "70",
         "stockstobuytoday",
         "FINRA Daily Shorts Data",
         "Updated Daily by EOD\r\n\r\n  \r\n[Daily Shorts]()",
         "0.0",
         "0.0"
        ],
        [
         "120",
         "StockMarket",
         "🚨China responds to Trump’s 145% tariff with an 125% tariff on all U.S. imported goods.",
         "China is aggressor & US allies siding with China would remembered.",
         "0.0",
         "-1.0"
        ],
        [
         "519",
         "wallstreetbets",
         "Someone post the hotline please.",
         "Found the killjoy.",
         "0.0",
         "0.0"
        ],
        [
         "129",
         "StockMarket",
         "Data Shows US Allies—Not China—Dumping Treasuries",
         "Carney is the mastermind. China is saved til later. They don't want to strengthen their currency by cashing bonds. jpn, uk, eu are fine with stronger currency vs usd",
         "1.0",
         "0.0"
        ],
        [
         "118",
         "stocks",
         "PRESIDENT TRUMP JUST ASKED THE SUPREME COURT FOR THE AUTHORITY TO FIRE FEDERAL RESERVE CHAIR JEROME POWELL",
         "Yikes...\r\n\r\n\r\nThis shitshow continually surprises with shockingly bad news.\r\n\r\n\r\nI wonder if Congress will be able to grow a spine to counter the threat of drumpf, his stupidity and rabid qult...",
         "-1.0",
         "1.0"
        ],
        [
         "162",
         "stocks",
         "Is the market in complete denial right now?",
         "Trading firms set the market, retail reacts",
         "-1.0",
         "0.0"
        ],
        [
         "732",
         "wallstreetbets",
         "After Trump Tariffs, Global Investors Don't Trust The U.S.",
         "Nope.",
         "0.0",
         "0.0"
        ],
        [
         "693",
         "StockMarket",
         "The Trump administration is begging Xi Jinping to call Trump quickly.",
         "Trump can't get this to his head that China was there for 5000 years and will be for another 5000, while the USA is barely 250 yo   In the grand scheme of time China can completely cut off the USA and steadily steam ahead to conquer the rest of the world while the USA is going bankrupt.",
         "1.0",
         "-1.0"
        ],
        [
         "105",
         "stockstobuytoday",
         "World Markets",
         "\r\n\r\n  [World Markets (stockbuyvest.com)]()",
         "0.0",
         "0.0"
        ],
        [
         "751",
         "stockstobuytoday",
         "Anyone been following $VCIG??",
         "Feel like this is kinda random for them. Nonetheless it's still a good acquisition",
         "1.0",
         "1.0"
        ],
        [
         "528",
         "wallstreetbets",
         "Weekly Earnings Thread 4/14 - 4/18",
         "They meant the Airline",
         "0.0",
         "0.0"
        ],
        [
         "844",
         "stockstobuytoday",
         "Analyst Recommendations",
         "Upgrades, Downgrades\r\n\r\n [Stock Analyst Recommendations | Upgrades & Downgrades | Nasdaq]()",
         "0.0",
         "0.0"
        ],
        [
         "707",
         "stocks",
         "PRESIDENT TRUMP JUST ASKED THE SUPREME COURT FOR THE AUTHORITY TO FIRE FEDERAL RESERVE CHAIR JEROME POWELL",
         "You know if the supreme court doesn’t give it to him it won’t be over.  There will be stooges in congress happily writing bills that will.",
         "1.0",
         "-1.0"
        ],
        [
         "649",
         "wallstreetbets",
         "Someone post the hotline please.",
         "You’ve got about a year at Wendy’s drive through window before you lose your job to AI. Make it count",
         "0.0",
         "0.0"
        ],
        [
         "54",
         "StockMarket",
         "The Trump administration is begging Xi Jinping to call Trump quickly.",
         "You know what, as an American. I hope china comes out on top to teach him a lesson. Idgaf anymore",
         "1.0",
         "-1.0"
        ],
        [
         "297",
         "stocks",
         "BREAKING: China raises tariffs on U.S. goods to 125%",
         "When you realize it is happening, it will be too late to do something about it unfortunately.\r\n\r\nBtw if you think Trump is doing this to stop China's abuse of its own citizens, you really don't understand what's happening right now. Trump doesn't care one bit about how China treats their own citizens. He is doing what he does because he wants to have similar powers in US and part of it requires making sure China doesn't have an edge on us economically.\r\n\r\nIronically what he is doing now ensures it will happen.",
         "1.0",
         "-1.0"
        ],
        [
         "67",
         "wallstreetbets",
         "Someone post the hotline please.",
         "Oh my gourd!",
         "0.0",
         "0.0"
        ],
        [
         "259",
         "stocks",
         "Is the market in complete denial right now?",
         "My point is that all the culture war posturing is a freebie as it's all about fantasies and fairy tales. You can't lose because there's nothing to lose, no substance. You're just yelling from Oklahoma at something you think is reality in California. Great when you're in the opposition and want to stoke anger.\r\n\r\nBut people going out of business is tangible in a very different way. Trump and the GOP own it hard as the current crisis is completely manufactured and branded by Trump.\r\n\r\nI think the main reason it's happening is because Trump's entourage this time around is a bunch of sniffling uninformed sycophants with little understanding of or interest in the real world consequences of Trump's policies. They think it's still about fake internet points and owning the libs.",
         "-1.0",
         "1.0"
        ],
        [
         "73",
         "stocks",
         "Is the market in complete denial right now?",
         "Look,  the USA somehow thought a second term for that fool was a good idea.  This was not rational, as shown by all the people who called it before Trump took office.  \r\n\r\nWhy would you expect the market to be rational when it is partially supported by the cult of Trump? \r\n\r\nIt's going to be wild and scary and the world will never be the same.",
         "1.0",
         "-1.0"
        ],
        [
         "526",
         "wallstreetbets",
         "Retail giant TARGET has now declined for 10 consecutive weeks, its longest losing streak in history",
         "Pack it up tahgit! Go Screw!",
         "0.0",
         "-1.0"
        ],
        [
         "137",
         "StockMarket",
         "Trump: We Are Doing Really Well On Our Tariff Policy.",
         "Why is he signing his tweets like he's quoting himself? Boomers bro lmao",
         "1.0",
         "-1.0"
        ],
        [
         "727",
         "StockMarket",
         "Data Shows US Allies—Not China—Dumping Treasuries",
         "He woke up a sleeping giant",
         "0.0",
         "0.0"
        ],
        [
         "679",
         "stockstobuytoday",
         "Crypto Gainers - Coinbase",
         "&#x200B;\r\n\r\n [Cryptocurrency Prices, Charts, Daily Trends, Market Cap, and Highlights | Coinbase]() \r\n\r\n&#x200B;\r\n\r\n$BTCUSD $ETHUSD $JASMYUSD $PEPEUSD",
         "0.0",
         "0.0"
        ],
        [
         "373",
         "StockMarket",
         "Trump is surrounded by a bunch of idiots, he should just launch all his economic advisors into the sun.",
         "You make no sense. Then why is everyone crying coming to USA arms with deals they didnt want to make?",
         "0.0",
         "0.0"
        ],
        [
         "410",
         "StockMarket",
         "The Trump administration is begging Xi Jinping to call Trump quickly.",
         "China has been preparing for this since the Opium Wars.\r\nThis isn’t just about trade or military might — it’s a civilizational strategy. Where we prioritize individualism, they lean into collectivism. And they’re not thinking in 4-year election cycles or even single lifetimes. They’re playing the long game — generational, legacy-focused, and deeply patient.",
         "-1.0",
         "-1.0"
        ],
        [
         "132",
         "stocks",
         "It's fucking awful seeing the \"Silver\" misinformation campaign everywhere I look",
         "Anyone else buying more GME today to fuck these guys over even more?",
         "-1.0",
         "-1.0"
        ],
        [
         "344",
         "stocks",
         "BREAKING: China raises tariffs on U.S. goods to 125%",
         "Trump is delusional and so as his supporters. So yeah, most likely.",
         "0.0",
         "-1.0"
        ],
        [
         "456",
         "stockstobuytoday",
         "Technical Analysis Thread.",
         "AAPL",
         "0.0",
         "0.0"
        ],
        [
         "439",
         "stockstobuytoday",
         "Upcoming Initial Public Offering (IPO), Special Purpose Acquisition Company (SPAC)",
         "&#x200B;\r\n\r\n[]()\r\n\r\n&#x200B;\r\n\r\nNew IPOs, Performance of IPOS",
         "1.0",
         "0.0"
        ],
        [
         "475",
         "stocks",
         "PRESIDENT TRUMP JUST ASKED THE SUPREME COURT FOR THE AUTHORITY TO FIRE FEDERAL RESERVE CHAIR JEROME POWELL",
         "Jerome is the last line of defence, if he falls, America falls",
         "0.0",
         "0.0"
        ],
        [
         "518",
         "stocks",
         "r/Stocks Daily Discussion & Fundamentals Friday Apr 11, 2025",
         "I'm reading now about 125% retaliatory tariffs from China.. but so far the reaction of the market doesn't look so dramatic, I guess at this stage this is hardly a news. Still undecided if I should start DCAing now or wait a few months (right now I am 90% cash).",
         "-1.0",
         "0.0"
        ]
       ],
       "shape": {
        "columns": 5,
        "rows": 500
       }
      },
      "text/html": [
       "<div>\n",
       "<style scoped>\n",
       "    .dataframe tbody tr th:only-of-type {\n",
       "        vertical-align: middle;\n",
       "    }\n",
       "\n",
       "    .dataframe tbody tr th {\n",
       "        vertical-align: top;\n",
       "    }\n",
       "\n",
       "    .dataframe thead th {\n",
       "        text-align: right;\n",
       "    }\n",
       "</style>\n",
       "<table border=\"1\" class=\"dataframe\">\n",
       "  <thead>\n",
       "    <tr style=\"text-align: right;\">\n",
       "      <th></th>\n",
       "      <th>subreddit</th>\n",
       "      <th>title</th>\n",
       "      <th>text</th>\n",
       "      <th>sentiment</th>\n",
       "      <th>label</th>\n",
       "    </tr>\n",
       "  </thead>\n",
       "  <tbody>\n",
       "    <tr>\n",
       "      <th>39</th>\n",
       "      <td>stocks</td>\n",
       "      <td>Formerly Stable US Treasuries Are Trading Like...</td>\n",
       "      <td>Other countries probably will go through a rec...</td>\n",
       "      <td>1.0</td>\n",
       "      <td>1.0</td>\n",
       "    </tr>\n",
       "    <tr>\n",
       "      <th>739</th>\n",
       "      <td>stocks</td>\n",
       "      <td>Rate My Portfolio - r/Stocks Quarterly Thread ...</td>\n",
       "      <td>no state and local taxes</td>\n",
       "      <td>0.0</td>\n",
       "      <td>0.0</td>\n",
       "    </tr>\n",
       "    <tr>\n",
       "      <th>688</th>\n",
       "      <td>stockstobuytoday</td>\n",
       "      <td>Technical Analysis Thread.</td>\n",
       "      <td>Enter the ticker for which  you want the techn...</td>\n",
       "      <td>0.0</td>\n",
       "      <td>0.0</td>\n",
       "    </tr>\n",
       "    <tr>\n",
       "      <th>786</th>\n",
       "      <td>stockstobuytoday</td>\n",
       "      <td>Analyst Recommendations</td>\n",
       "      <td>Upgrades, Downgrades\\r\\n\\r\\n [Stock Analyst Re...</td>\n",
       "      <td>0.0</td>\n",
       "      <td>0.0</td>\n",
       "    </tr>\n",
       "    <tr>\n",
       "      <th>514</th>\n",
       "      <td>stocks</td>\n",
       "      <td>r/Stocks Daily Discussion &amp; Fundamentals Frida...</td>\n",
       "      <td>SPY futes are red again yo</td>\n",
       "      <td>0.0</td>\n",
       "      <td>-1.0</td>\n",
       "    </tr>\n",
       "    <tr>\n",
       "      <th>...</th>\n",
       "      <td>...</td>\n",
       "      <td>...</td>\n",
       "      <td>...</td>\n",
       "      <td>...</td>\n",
       "      <td>...</td>\n",
       "    </tr>\n",
       "    <tr>\n",
       "      <th>396</th>\n",
       "      <td>stocks</td>\n",
       "      <td>BREAKING: China raises tariffs on U.S. goods t...</td>\n",
       "      <td>It's basically just bickering with math at thi...</td>\n",
       "      <td>1.0</td>\n",
       "      <td>-1.0</td>\n",
       "    </tr>\n",
       "    <tr>\n",
       "      <th>523</th>\n",
       "      <td>wallstreetbets</td>\n",
       "      <td>Weekly Earnings Thread 4/14 - 4/18</td>\n",
       "      <td>Be advised, Netflix april 17th calls/puts will...</td>\n",
       "      <td>-1.0</td>\n",
       "      <td>-1.0</td>\n",
       "    </tr>\n",
       "    <tr>\n",
       "      <th>279</th>\n",
       "      <td>stocks</td>\n",
       "      <td>PRESIDENT TRUMP JUST ASKED THE SUPREME COURT F...</td>\n",
       "      <td>I mean to be fair you would not catch me holdi...</td>\n",
       "      <td>1.0</td>\n",
       "      <td>1.0</td>\n",
       "    </tr>\n",
       "    <tr>\n",
       "      <th>76</th>\n",
       "      <td>StockMarket</td>\n",
       "      <td>The Trump administration is begging Xi Jinping...</td>\n",
       "      <td>Americans are so brain dead lol</td>\n",
       "      <td>1.0</td>\n",
       "      <td>-1.0</td>\n",
       "    </tr>\n",
       "    <tr>\n",
       "      <th>186</th>\n",
       "      <td>stockstobuytoday</td>\n",
       "      <td>$PPSI short squeeze 43% shorted</td>\n",
       "      <td>Date|Symbol|ShortVolume|ShortExemptVolume|Tota...</td>\n",
       "      <td>0.0</td>\n",
       "      <td>0.0</td>\n",
       "    </tr>\n",
       "  </tbody>\n",
       "</table>\n",
       "<p>500 rows × 5 columns</p>\n",
       "</div>"
      ],
      "text/plain": [
       "            subreddit                                              title  \\\n",
       "39             stocks  Formerly Stable US Treasuries Are Trading Like...   \n",
       "739            stocks  Rate My Portfolio - r/Stocks Quarterly Thread ...   \n",
       "688  stockstobuytoday                         Technical Analysis Thread.   \n",
       "786  stockstobuytoday                            Analyst Recommendations   \n",
       "514            stocks  r/Stocks Daily Discussion & Fundamentals Frida...   \n",
       "..                ...                                                ...   \n",
       "396            stocks  BREAKING: China raises tariffs on U.S. goods t...   \n",
       "523    wallstreetbets                 Weekly Earnings Thread 4/14 - 4/18   \n",
       "279            stocks  PRESIDENT TRUMP JUST ASKED THE SUPREME COURT F...   \n",
       "76        StockMarket  The Trump administration is begging Xi Jinping...   \n",
       "186  stockstobuytoday                    $PPSI short squeeze 43% shorted   \n",
       "\n",
       "                                                  text  sentiment  label  \n",
       "39   Other countries probably will go through a rec...        1.0    1.0  \n",
       "739                           no state and local taxes        0.0    0.0  \n",
       "688  Enter the ticker for which  you want the techn...        0.0    0.0  \n",
       "786  Upgrades, Downgrades\\r\\n\\r\\n [Stock Analyst Re...        0.0    0.0  \n",
       "514                         SPY futes are red again yo        0.0   -1.0  \n",
       "..                                                 ...        ...    ...  \n",
       "396  It's basically just bickering with math at thi...        1.0   -1.0  \n",
       "523  Be advised, Netflix april 17th calls/puts will...       -1.0   -1.0  \n",
       "279  I mean to be fair you would not catch me holdi...        1.0    1.0  \n",
       "76                     Americans are so brain dead lol        1.0   -1.0  \n",
       "186  Date|Symbol|ShortVolume|ShortExemptVolume|Tota...        0.0    0.0  \n",
       "\n",
       "[500 rows x 5 columns]"
      ]
     },
     "execution_count": 11,
     "metadata": {},
     "output_type": "execute_result"
    }
   ],
   "source": [
    "#Exercise 6\n",
    "N_sample = N.sample(n=500)\n",
    "N_sample"
   ]
  },
  {
   "cell_type": "code",
   "execution_count": 12,
   "metadata": {},
   "outputs": [
    {
     "data": {
      "text/plain": [
       "<Axes: title={'center': 'Subreddit distribution'}, xlabel='subreddit'>"
      ]
     },
     "execution_count": 12,
     "metadata": {},
     "output_type": "execute_result"
    },
    {
     "data": {
      "image/png": "[encoded data removed]",
      "text/plain": [
       "<Figure size 800x300 with 1 Axes>"
      ]
     },
     "metadata": {},
     "output_type": "display_data"
    }
   ],
   "source": [
    "#Exercise 7\n",
    "N_sample.subreddit.value_counts().plot(kind = 'bar',\n",
    "                                       title = 'Subreddit distribution',\n",
    "                                       ylim = [0, N_sample.subreddit.value_counts().max()+30], \n",
    "                                       rot = 0, fontsize = 12, figsize = (8,3))"
   ]
  },
  {
   "cell_type": "code",
   "execution_count": 13,
   "metadata": {},
   "outputs": [
    {
     "data": {
      "text/plain": [
       "<Axes: title={'center': 'Subreddit distribution'}, xlabel='subreddit'>"
      ]
     },
     "execution_count": 13,
     "metadata": {},
     "output_type": "execute_result"
    },
    {
     "data": {
      "image/png": "[encoded data removed]",
      "text/plain": [
       "<Figure size 600x400 with 1 Axes>"
      ]
     },
     "metadata": {},
     "output_type": "display_data"
    }
   ],
   "source": [
    "#Exercise 8\n",
    "counts = pd.concat([N.subreddit.value_counts(), N_sample.subreddit.value_counts()], axis=1, keys=['N', 'N_sample']).fillna(0).astype(int)\n",
    "counts.plot(kind = 'bar',\n",
    "            title = 'Subreddit distribution',\n",
    "            ylim = [0, N.subreddit.value_counts().max()+50], \n",
    "            rot = 0,\n",
    "            fontsize = 10,\n",
    "            figsize = (6,4))"
   ]
  },
  {
   "cell_type": "code",
   "execution_count": 14,
   "metadata": {},
   "outputs": [
    {
     "data": {
      "text/plain": [
       "['stunt',\n",
       " 'as',\n",
       " 'in',\n",
       " 'like',\n",
       " 'why',\n",
       " 'did',\n",
       " 'they',\n",
       " 'even',\n",
       " 'make',\n",
       " 'big',\n",
       " 'deal',\n",
       " 'about',\n",
       " 'starting',\n",
       " 'it',\n",
       " 'in',\n",
       " 'the',\n",
       " 'first',\n",
       " 'place',\n",
       " 'no',\n",
       " 'company',\n",
       " 'should',\n",
       " 'ever',\n",
       " 'talk',\n",
       " 'about',\n",
       " 'politics',\n",
       " 'ever']"
      ]
     },
     "execution_count": 14,
     "metadata": {},
     "output_type": "execute_result"
    }
   ],
   "source": [
    "#Exercise 9\n",
    "from sklearn.feature_extraction.text import CountVectorizer\n",
    "\n",
    "count_vect = CountVectorizer()\n",
    "analyze = count_vect.build_analyzer()\n",
    "analyze(N.text[1])"
   ]
  },
  {
   "cell_type": "code",
   "execution_count": 15,
   "metadata": {},
   "outputs": [
    {
     "name": "stdout",
     "output_type": "stream",
     "text": [
      "[[np.int64(692), np.int64(2706), np.int64(3248)]]\n"
     ]
    },
    {
     "data": {
      "text/plain": [
       "array([['calls', 'on', 'retards']], dtype=object)"
      ]
     },
     "execution_count": 15,
     "metadata": {},
     "output_type": "execute_result"
    }
   ],
   "source": [
    "#Exercise 10\n",
    "N_counts = count_vect.fit_transform(N.text) #learn the vocabulary and return document-term matrix\n",
    "idx = [list(np.where(row == 1)[0]) for row in N_counts[0, :].toarray()]\n",
    "print(idx) #index\n",
    "count_vect.get_feature_names_out()[idx] #words"
   ]
  },
  {
   "cell_type": "code",
   "execution_count": 16,
   "metadata": {},
   "outputs": [
    {
     "data": {
      "image/png": "[encoded data removed]",
      "text/plain": [
       "<Figure size 800x800 with 1 Axes>"
      ]
     },
     "metadata": {},
     "output_type": "display_data"
    },
    {
     "data": {
      "image/png": "[encoded data removed]",
      "text/plain": [
       "<Figure size 800x800 with 1 Axes>"
      ]
     },
     "metadata": {},
     "output_type": "display_data"
    },
    {
     "data": {
      "image/png": "[encoded data removed]",
      "text/plain": [
       "<Figure size 800x800 with 1 Axes>"
      ]
     },
     "metadata": {},
     "output_type": "display_data"
    }
   ],
   "source": [
    "#Exercise 11\n",
    "import matplotlib.pyplot as plt\n",
    "import seaborn as sns\n",
    "from math import ceil, sqrt\n",
    "\n",
    "#總覽\n",
    "plt.figure(figsize=(8,8))\n",
    "plt.spy(N_counts, markersize=0.1, aspect='auto')\n",
    "plt.title(\"Matrix Sparse Graph\")\n",
    "plt.xlabel(\"terms\")\n",
    "plt.ylabel(\"docs\")\n",
    "\n",
    "#搜索點數最密集的文件\n",
    "plt.figure(figsize=(8,8))\n",
    "plt.spy(N_counts[0:50], markersize=0.1, aspect='auto')\n",
    "plt.title(\"Matrix Sparse Graph\")\n",
    "plt.xlabel(\"terms\")\n",
    "plt.ylabel(\"docs\")\n",
    "\n",
    "#僅看想呈現的文件，並以方形熱圖顯示分佈\n",
    "doc_idx = 31  # doc索引\n",
    "\n",
    "row = N_counts[doc_idx].toarray().ravel()   #轉成一維陣列\n",
    "n = row.size                                #n = 4346\n",
    "plot_xe = int(ceil(sqrt(n)))                #取最接近平方的寬\n",
    "plot_ye = int(ceil(n / plot_xe))            #對應高度\n",
    "pad = plot_ye * plot_xe - n\n",
    "if pad:\n",
    "    row = np.pad(row, (0, pad))  #缺值補0\n",
    "\n",
    "grid = row.reshape(plot_ye, plot_xe) #轉為方形\n",
    "draw_e = pd.DataFrame(grid, columns = np.arange(1, plot_xe+1), index = (np.arange(0, plot_ye))*plot_xe)\n",
    "\n",
    "plt.figure(figsize=(8, 8))\n",
    "ax = sns.heatmap(draw_e, cmap=\"PuRd\", vmin=0, vmax=1, square=True,\n",
    "                 cbar=False, annot=False)\n",
    "ax.set_title(f\"doc_ {doc_idx} (terms={n},{plot_xe}x{plot_ye})\")\n",
    "ax.set_xticks(np.arange(0, plot_xe+1,10))\n",
    "ax.set_xticklabels(np.arange(0, plot_xe+1,10))\n",
    "plt.tight_layout(); plt.show()"
   ]
  },
  {
   "cell_type": "code",
   "execution_count": 17,
   "metadata": {},
   "outputs": [
    {
     "data": {
      "application/vnd.plotly.v1+json": {
       "config": {
        "plotlyServerURL": "https://plot.ly"
       },
       "data": [
        {
         "hovertemplate": "term=%{x}<br>frequency=%{y}<extra></extra>",
         "legendgroup": "",
         "marker": {
          "color": "#636efa",
          "pattern": {
           "shape": ""
          }
         },
         "name": "",
         "orientation": "v",
         "showlegend": false,
         "textposition": "auto",
         "type": "bar",
         "x": [
          "00",
          "000",
          "01378",
          "02",
          "027",
          "03",
          "06",
          "08",
          "10",
          "100",
          "1000",
          "10000",
          "100k",
          "100x",
          "10k",
          "10ks",
          "10yr",
          "11",
          "116",
          "118",
          "12",
          "1242",
          "125",
          "12855584",
          "13",
          "14",
          "140",
          "145",
          "14th",
          "15",
          "150",
          "153",
          "15m",
          "16",
          "160",
          "17",
          "1700",
          "1728",
          "17th",
          "18",
          "186",
          "18630",
          "1870",
          "1934",
          "1945",
          "1947",
          "1953",
          "1961",
          "1969",
          "1973",
          "1974",
          "1981",
          "1992",
          "1999",
          "1k",
          "1m",
          "20",
          "200",
          "2007",
          "200k",
          "2011",
          "2012",
          "2017",
          "2021",
          "20211209",
          "2024",
          "2025",
          "2028",
          "2045",
          "208",
          "21",
          "22",
          "22rate",
          "23",
          "234",
          "235",
          "24",
          "25",
          "250",
          "25bps",
          "25k",
          "27",
          "28",
          "296895",
          "2c_books",
          "2c_wiki_recommendations",
          "2fapps",
          "2k",
          "2nd",
          "2s",
          "30",
          "300",
          "3000",
          "31",
          "31224",
          "31225",
          "31f",
          "33",
          "3306",
          "34",
          "35",
          "350",
          "36",
          "3a",
          "3d",
          "3f",
          "3k",
          "3oz8xzgfhartvh99yi",
          "40",
          "401k",
          "404",
          "41",
          "42",
          "4260",
          "4267",
          "4271",
          "4359",
          "45",
          "4500",
          "456",
          "46",
          "4675",
          "47",
          "4900",
          "4d",
          "4m",
          "4th",
          "4x",
          "50",
          "500",
          "5000",
          "50k",
          "50x",
          "52",
          "522",
          "540",
          "55",
          "58",
          "60",
          "600k",
          "6026762",
          "64",
          "65",
          "66",
          "6969",
          "6k",
          "6th",
          "70",
          "75",
          "7500",
          "77",
          "7k",
          "7s",
          "80",
          "81",
          "83",
          "87",
          "8882",
          "8883",
          "89",
          "90",
          "9000",
          "90k",
          "95",
          "97",
          "98",
          "98th",
          "99",
          "9k",
          "_are",
          "_so",
          "aapl",
          "ability",
          "able",
          "abolish",
          "about",
          "above",
          "absolute",
          "absolutely",
          "abuse",
          "abusing",
          "abysmal",
          "accelerate",
          "accept",
          "acceptable",
          "accepted",
          "access",
          "according",
          "account",
          "accretive",
          "acct",
          "accurate",
          "accurately",
          "aces",
          "acgl",
          "achieved",
          "achievement",
          "achieves",
          "achilles",
          "acn",
          "acquires",
          "acquisition",
          "acquisitions",
          "across",
          "act",
          "action",
          "actionable",
          "actions",
          "actively",
          "activity",
          "actors",
          "acts",
          "actual",
          "actually",
          "ad",
          "adausd",
          "add",
          "added",
          "addicted",
          "addicts",
          "adding",
          "addition",
          "additional",
          "addressed",
          "adjacent",
          "adjust",
          "admin",
          "administration",
          "administrations",
          "admins",
          "admit",
          "admitted",
          "adobe",
          "adp",
          "adult",
          "advanced",
          "advantage",
          "adversaries",
          "advertisements",
          "advice",
          "advise",
          "advised",
          "advisor",
          "advisors",
          "advocating",
          "aerc",
          "aerocontractors",
          "affect",
          "affected",
          "affects",
          "afford",
          "afraid",
          "africa",
          "after",
          "afternoon",
          "afterwards",
          "again",
          "against",
          "agane",
          "age",
          "aged",
          "agencies",
          "agenda",
          "agentnlp",
          "aggressively",
          "aggressor",
          "agnew",
          "ago",
          "agolf",
          "agree",
          "agreed",
          "agreement",
          "agriculture",
          "ahead",
          "ai",
          "aid",
          "aimed",
          "aiming",
          "ain",
          "air",
          "aircraft",
          "airline",
          "airlines",
          "airplane",
          "airplanes",
          "aka",
          "aladeen",
          "albeit",
          "alerts",
          "all",
          "allies",
          "allocating",
          "allocation",
          "allowed",
          "allowing",
          "allows",
          "ally",
          "almasria",
          "almost",
          "alone"
         ],
         "xaxis": "x",
         "y": {
          "bdata": "BAYBAQEBAQEVCwEBAQEBAQEFAwEIAQIBAgEBAQEIAgEBAQEBAQECAgEDAQECAQEBAQEBAQEBAQEHAgEBAQEBAgECBgEBAQIEAQMBAQIHAwECAQIBAQEBAQIBCQEBAQEBAQECAQMCAgECAQEBBAEBAQICAQcBAQEBAQEBAQEBAQEMBAQBAQEBAQEBAgEBAgIBAQEBAgIBAgEBAwEBAQECAQUBAQEBAgEBAQEBAwIGAUgEAQMBAQEBAQIBAQEBAQEFAQEBAQEBAQMBAwEDAgEDAQEEAQIFCwEBAQEBAQMCBAEBAwIKAQEBAQEBAQEBAQEHAQEBAwIBAwMCAQEBARsBAQ4HAQEBAQEBAQEBDAEEAQEBAgUBAQECAwIBBgEBAQEBAmEHAQYDAQMCAwYE",
          "dtype": "i1"
         },
         "yaxis": "y"
        }
       ],
       "layout": {
        "barmode": "relative",
        "legend": {
         "tracegroupgap": 0
        },
        "template": {
         "data": {
          "bar": [
           {
            "error_x": {
             "color": "#2a3f5f"
            },
            "error_y": {
             "color": "#2a3f5f"
            },
            "marker": {
             "line": {
              "color": "#E5ECF6",
              "width": 0.5
             },
             "pattern": {
              "fillmode": "overlay",
              "size": 10,
              "solidity": 0.2
             }
            },
            "type": "bar"
           }
          ],
          "barpolar": [
           {
            "marker": {
             "line": {
              "color": "#E5ECF6",
              "width": 0.5
             },
             "pattern": {
              "fillmode": "overlay",
              "size": 10,
              "solidity": 0.2
             }
            },
            "type": "barpolar"
           }
          ],
          "carpet": [
           {
            "aaxis": {
             "endlinecolor": "#2a3f5f",
             "gridcolor": "white",
             "linecolor": "white",
             "minorgridcolor": "white",
             "startlinecolor": "#2a3f5f"
            },
            "baxis": {
             "endlinecolor": "#2a3f5f",
             "gridcolor": "white",
             "linecolor": "white",
             "minorgridcolor": "white",
             "startlinecolor": "#2a3f5f"
            },
            "type": "carpet"
           }
          ],
          "choropleth": [
           {
            "colorbar": {
             "outlinewidth": 0,
             "ticks": ""
            },
            "type": "choropleth"
           }
          ],
          "contour": [
           {
            "colorbar": {
             "outlinewidth": 0,
             "ticks": ""
            },
            "colorscale": [
             [
              0,
              "#0d0887"
             ],
             [
              0.1111111111111111,
              "#46039f"
             ],
             [
              0.2222222222222222,
              "#7201a8"
             ],
             [
              0.3333333333333333,
              "#9c179e"
             ],
             [
              0.4444444444444444,
              "#bd3786"
             ],
             [
              0.5555555555555556,
              "#d8576b"
             ],
             [
              0.6666666666666666,
              "#ed7953"
             ],
             [
              0.7777777777777778,
              "#fb9f3a"
             ],
             [
              0.8888888888888888,
              "#fdca26"
             ],
             [
              1,
              "#f0f921"
             ]
            ],
            "type": "contour"
           }
          ],
          "contourcarpet": [
           {
            "colorbar": {
             "outlinewidth": 0,
             "ticks": ""
            },
            "type": "contourcarpet"
           }
          ],
          "heatmap": [
           {
            "colorbar": {
             "outlinewidth": 0,
             "ticks": ""
            },
            "colorscale": [
             [
              0,
              "#0d0887"
             ],
             [
              0.1111111111111111,
              "#46039f"
             ],
             [
              0.2222222222222222,
              "#7201a8"
             ],
             [
              0.3333333333333333,
              "#9c179e"
             ],
             [
              0.4444444444444444,
              "#bd3786"
             ],
             [
              0.5555555555555556,
              "#d8576b"
             ],
             [
              0.6666666666666666,
              "#ed7953"
             ],
             [
              0.7777777777777778,
              "#fb9f3a"
             ],
             [
              0.8888888888888888,
              "#fdca26"
             ],
             [
              1,
              "#f0f921"
             ]
            ],
            "type": "heatmap"
           }
          ],
          "histogram": [
           {
            "marker": {
             "pattern": {
              "fillmode": "overlay",
              "size": 10,
              "solidity": 0.2
             }
            },
            "type": "histogram"
           }
          ],
          "histogram2d": [
           {
            "colorbar": {
             "outlinewidth": 0,
             "ticks": ""
            },
            "colorscale": [
             [
              0,
              "#0d0887"
             ],
             [
              0.1111111111111111,
              "#46039f"
             ],
             [
              0.2222222222222222,
              "#7201a8"
             ],
             [
              0.3333333333333333,
              "#9c179e"
             ],
             [
              0.4444444444444444,
              "#bd3786"
             ],
             [
              0.5555555555555556,
              "#d8576b"
             ],
             [
              0.6666666666666666,
              "#ed7953"
             ],
             [
              0.7777777777777778,
              "#fb9f3a"
             ],
             [
              0.8888888888888888,
              "#fdca26"
             ],
             [
              1,
              "#f0f921"
             ]
            ],
            "type": "histogram2d"
           }
          ],
          "histogram2dcontour": [
           {
            "colorbar": {
             "outlinewidth": 0,
             "ticks": ""
            },
            "colorscale": [
             [
              0,
              "#0d0887"
             ],
             [
              0.1111111111111111,
              "#46039f"
             ],
             [
              0.2222222222222222,
              "#7201a8"
             ],
             [
              0.3333333333333333,
              "#9c179e"
             ],
             [
              0.4444444444444444,
              "#bd3786"
             ],
             [
              0.5555555555555556,
              "#d8576b"
             ],
             [
              0.6666666666666666,
              "#ed7953"
             ],
             [
              0.7777777777777778,
              "#fb9f3a"
             ],
             [
              0.8888888888888888,
              "#fdca26"
             ],
             [
              1,
              "#f0f921"
             ]
            ],
            "type": "histogram2dcontour"
           }
          ],
          "mesh3d": [
           {
            "colorbar": {
             "outlinewidth": 0,
             "ticks": ""
            },
            "type": "mesh3d"
           }
          ],
          "parcoords": [
           {
            "line": {
             "colorbar": {
              "outlinewidth": 0,
              "ticks": ""
             }
            },
            "type": "parcoords"
           }
          ],
          "pie": [
           {
            "automargin": true,
            "type": "pie"
           }
          ],
          "scatter": [
           {
            "fillpattern": {
             "fillmode": "overlay",
             "size": 10,
             "solidity": 0.2
            },
            "type": "scatter"
           }
          ],
          "scatter3d": [
           {
            "line": {
             "colorbar": {
              "outlinewidth": 0,
              "ticks": ""
             }
            },
            "marker": {
             "colorbar": {
              "outlinewidth": 0,
              "ticks": ""
             }
            },
            "type": "scatter3d"
           }
          ],
          "scattercarpet": [
           {
            "marker": {
             "colorbar": {
              "outlinewidth": 0,
              "ticks": ""
             }
            },
            "type": "scattercarpet"
           }
          ],
          "scattergeo": [
           {
            "marker": {
             "colorbar": {
              "outlinewidth": 0,
              "ticks": ""
             }
            },
            "type": "scattergeo"
           }
          ],
          "scattergl": [
           {
            "marker": {
             "colorbar": {
              "outlinewidth": 0,
              "ticks": ""
             }
            },
            "type": "scattergl"
           }
          ],
          "scattermap": [
           {
            "marker": {
             "colorbar": {
              "outlinewidth": 0,
              "ticks": ""
             }
            },
            "type": "scattermap"
           }
          ],
          "scattermapbox": [
           {
            "marker": {
             "colorbar": {
              "outlinewidth": 0,
              "ticks": ""
             }
            },
            "type": "scattermapbox"
           }
          ],
          "scatterpolar": [
           {
            "marker": {
             "colorbar": {
              "outlinewidth": 0,
              "ticks": ""
             }
            },
            "type": "scatterpolar"
           }
          ],
          "scatterpolargl": [
           {
            "marker": {
             "colorbar": {
              "outlinewidth": 0,
              "ticks": ""
             }
            },
            "type": "scatterpolargl"
           }
          ],
          "scatterternary": [
           {
            "marker": {
             "colorbar": {
              "outlinewidth": 0,
              "ticks": ""
             }
            },
            "type": "scatterternary"
           }
          ],
          "surface": [
           {
            "colorbar": {
             "outlinewidth": 0,
             "ticks": ""
            },
            "colorscale": [
             [
              0,
              "#0d0887"
             ],
             [
              0.1111111111111111,
              "#46039f"
             ],
             [
              0.2222222222222222,
              "#7201a8"
             ],
             [
              0.3333333333333333,
              "#9c179e"
             ],
             [
              0.4444444444444444,
              "#bd3786"
             ],
             [
              0.5555555555555556,
              "#d8576b"
             ],
             [
              0.6666666666666666,
              "#ed7953"
             ],
             [
              0.7777777777777778,
              "#fb9f3a"
             ],
             [
              0.8888888888888888,
              "#fdca26"
             ],
             [
              1,
              "#f0f921"
             ]
            ],
            "type": "surface"
           }
          ],
          "table": [
           {
            "cells": {
             "fill": {
              "color": "#EBF0F8"
             },
             "line": {
              "color": "white"
             }
            },
            "header": {
             "fill": {
              "color": "#C8D4E3"
             },
             "line": {
              "color": "white"
             }
            },
            "type": "table"
           }
          ]
         },
         "layout": {
          "annotationdefaults": {
           "arrowcolor": "#2a3f5f",
           "arrowhead": 0,
           "arrowwidth": 1
          },
          "autotypenumbers": "strict",
          "coloraxis": {
           "colorbar": {
            "outlinewidth": 0,
            "ticks": ""
           }
          },
          "colorscale": {
           "diverging": [
            [
             0,
             "#8e0152"
            ],
            [
             0.1,
             "#c51b7d"
            ],
            [
             0.2,
             "#de77ae"
            ],
            [
             0.3,
             "#f1b6da"
            ],
            [
             0.4,
             "#fde0ef"
            ],
            [
             0.5,
             "#f7f7f7"
            ],
            [
             0.6,
             "#e6f5d0"
            ],
            [
             0.7,
             "#b8e186"
            ],
            [
             0.8,
             "#7fbc41"
            ],
            [
             0.9,
             "#4d9221"
            ],
            [
             1,
             "#276419"
            ]
           ],
           "sequential": [
            [
             0,
             "#0d0887"
            ],
            [
             0.1111111111111111,
             "#46039f"
            ],
            [
             0.2222222222222222,
             "#7201a8"
            ],
            [
             0.3333333333333333,
             "#9c179e"
            ],
            [
             0.4444444444444444,
             "#bd3786"
            ],
            [
             0.5555555555555556,
             "#d8576b"
            ],
            [
             0.6666666666666666,
             "#ed7953"
            ],
            [
             0.7777777777777778,
             "#fb9f3a"
            ],
            [
             0.8888888888888888,
             "#fdca26"
            ],
            [
             1,
             "#f0f921"
            ]
           ],
           "sequentialminus": [
            [
             0,
             "#0d0887"
            ],
            [
             0.1111111111111111,
             "#46039f"
            ],
            [
             0.2222222222222222,
             "#7201a8"
            ],
            [
             0.3333333333333333,
             "#9c179e"
            ],
            [
             0.4444444444444444,
             "#bd3786"
            ],
            [
             0.5555555555555556,
             "#d8576b"
            ],
            [
             0.6666666666666666,
             "#ed7953"
            ],
            [
             0.7777777777777778,
             "#fb9f3a"
            ],
            [
             0.8888888888888888,
             "#fdca26"
            ],
            [
             1,
             "#f0f921"
            ]
           ]
          },
          "colorway": [
           "#636efa",
           "#EF553B",
           "#00cc96",
           "#ab63fa",
           "#FFA15A",
           "#19d3f3",
           "#FF6692",
           "#B6E880",
           "#FF97FF",
           "#FECB52"
          ],
          "font": {
           "color": "#2a3f5f"
          },
          "geo": {
           "bgcolor": "white",
           "lakecolor": "white",
           "landcolor": "#E5ECF6",
           "showlakes": true,
           "showland": true,
           "subunitcolor": "white"
          },
          "hoverlabel": {
           "align": "left"
          },
          "hovermode": "closest",
          "mapbox": {
           "style": "light"
          },
          "paper_bgcolor": "white",
          "plot_bgcolor": "#E5ECF6",
          "polar": {
           "angularaxis": {
            "gridcolor": "white",
            "linecolor": "white",
            "ticks": ""
           },
           "bgcolor": "#E5ECF6",
           "radialaxis": {
            "gridcolor": "white",
            "linecolor": "white",
            "ticks": ""
           }
          },
          "scene": {
           "xaxis": {
            "backgroundcolor": "#E5ECF6",
            "gridcolor": "white",
            "gridwidth": 2,
            "linecolor": "white",
            "showbackground": true,
            "ticks": "",
            "zerolinecolor": "white"
           },
           "yaxis": {
            "backgroundcolor": "#E5ECF6",
            "gridcolor": "white",
            "gridwidth": 2,
            "linecolor": "white",
            "showbackground": true,
            "ticks": "",
            "zerolinecolor": "white"
           },
           "zaxis": {
            "backgroundcolor": "#E5ECF6",
            "gridcolor": "white",
            "gridwidth": 2,
            "linecolor": "white",
            "showbackground": true,
            "ticks": "",
            "zerolinecolor": "white"
           }
          },
          "shapedefaults": {
           "line": {
            "color": "#2a3f5f"
           }
          },
          "ternary": {
           "aaxis": {
            "gridcolor": "white",
            "linecolor": "white",
            "ticks": ""
           },
           "baxis": {
            "gridcolor": "white",
            "linecolor": "white",
            "ticks": ""
           },
           "bgcolor": "#E5ECF6",
           "caxis": {
            "gridcolor": "white",
            "linecolor": "white",
            "ticks": ""
           }
          },
          "title": {
           "x": 0.05
          },
          "xaxis": {
           "automargin": true,
           "gridcolor": "white",
           "linecolor": "white",
           "ticks": "",
           "title": {
            "standoff": 15
           },
           "zerolinecolor": "white",
           "zerolinewidth": 2
          },
          "yaxis": {
           "automargin": true,
           "gridcolor": "white",
           "linecolor": "white",
           "ticks": "",
           "title": {
            "standoff": 15
           },
           "zerolinecolor": "white",
           "zerolinewidth": 2
          }
         }
        },
        "title": {
         "text": "Term Frequencies"
        },
        "xaxis": {
         "anchor": "y",
         "domain": [
          0,
          1
         ],
         "title": {
          "text": "term"
         }
        },
        "yaxis": {
         "anchor": "x",
         "domain": [
          0,
          1
         ],
         "title": {
          "text": "frequency"
         }
        }
       }
      }
     },
     "metadata": {},
     "output_type": "display_data"
    }
   ],
   "source": [
    "#Excercise 12\n",
    "import plotly.express as px\n",
    "\n",
    "term_frequencies = []\n",
    "for j in range(0,N_counts.shape[1]):\n",
    "    term_frequencies.append(sum(N_counts[:,j].toarray()))\n",
    "\n",
    "term_frequencies = np.asarray(N_counts.sum(axis=0))[0]\n",
    "\n",
    "df = pd.DataFrame({\n",
    "    \"term\": count_vect.get_feature_names_out()[:300],\n",
    "    \"frequency\": term_frequencies[:300],\n",
    "    })\n",
    "\n",
    "fig = px.bar(\n",
    "    df,\n",
    "    x=\"term\", y=\"frequency\",\n",
    "    title=f\"Term Frequencies\"\n",
    ")\n",
    "\n",
    "fig.show()"
   ]
  },
  {
   "cell_type": "code",
   "execution_count": 18,
   "metadata": {},
   "outputs": [
    {
     "data": {
      "application/vnd.plotly.v1+json": {
       "config": {
        "plotlyServerURL": "https://plot.ly"
       },
       "data": [
        {
         "hovertemplate": "term=%{x}<br>frequency=%{y}<extra></extra>",
         "legendgroup": "",
         "marker": {
          "color": "#636efa",
          "pattern": {
           "shape": ""
          }
         },
         "name": "",
         "orientation": "v",
         "showlegend": false,
         "textposition": "auto",
         "type": "bar",
         "x": [
          "10",
          "100",
          "50",
          "about",
          "actually",
          "administration",
          "after",
          "again",
          "ago",
          "all"
         ],
         "xaxis": "x",
         "y": {
          "bdata": "FQsMSAsKGw4MYQ==",
          "dtype": "i1"
         },
         "yaxis": "y"
        }
       ],
       "layout": {
        "barmode": "relative",
        "height": 900,
        "legend": {
         "tracegroupgap": 0
        },
        "template": {
         "data": {
          "bar": [
           {
            "error_x": {
             "color": "#2a3f5f"
            },
            "error_y": {
             "color": "#2a3f5f"
            },
            "marker": {
             "line": {
              "color": "#E5ECF6",
              "width": 0.5
             },
             "pattern": {
              "fillmode": "overlay",
              "size": 10,
              "solidity": 0.2
             }
            },
            "type": "bar"
           }
          ],
          "barpolar": [
           {
            "marker": {
             "line": {
              "color": "#E5ECF6",
              "width": 0.5
             },
             "pattern": {
              "fillmode": "overlay",
              "size": 10,
              "solidity": 0.2
             }
            },
            "type": "barpolar"
           }
          ],
          "carpet": [
           {
            "aaxis": {
             "endlinecolor": "#2a3f5f",
             "gridcolor": "white",
             "linecolor": "white",
             "minorgridcolor": "white",
             "startlinecolor": "#2a3f5f"
            },
            "baxis": {
             "endlinecolor": "#2a3f5f",
             "gridcolor": "white",
             "linecolor": "white",
             "minorgridcolor": "white",
             "startlinecolor": "#2a3f5f"
            },
            "type": "carpet"
           }
          ],
          "choropleth": [
           {
            "colorbar": {
             "outlinewidth": 0,
             "ticks": ""
            },
            "type": "choropleth"
           }
          ],
          "contour": [
           {
            "colorbar": {
             "outlinewidth": 0,
             "ticks": ""
            },
            "colorscale": [
             [
              0,
              "#0d0887"
             ],
             [
              0.1111111111111111,
              "#46039f"
             ],
             [
              0.2222222222222222,
              "#7201a8"
             ],
             [
              0.3333333333333333,
              "#9c179e"
             ],
             [
              0.4444444444444444,
              "#bd3786"
             ],
             [
              0.5555555555555556,
              "#d8576b"
             ],
             [
              0.6666666666666666,
              "#ed7953"
             ],
             [
              0.7777777777777778,
              "#fb9f3a"
             ],
             [
              0.8888888888888888,
              "#fdca26"
             ],
             [
              1,
              "#f0f921"
             ]
            ],
            "type": "contour"
           }
          ],
          "contourcarpet": [
           {
            "colorbar": {
             "outlinewidth": 0,
             "ticks": ""
            },
            "type": "contourcarpet"
           }
          ],
          "heatmap": [
           {
            "colorbar": {
             "outlinewidth": 0,
             "ticks": ""
            },
            "colorscale": [
             [
              0,
              "#0d0887"
             ],
             [
              0.1111111111111111,
              "#46039f"
             ],
             [
              0.2222222222222222,
              "#7201a8"
             ],
             [
              0.3333333333333333,
              "#9c179e"
             ],
             [
              0.4444444444444444,
              "#bd3786"
             ],
             [
              0.5555555555555556,
              "#d8576b"
             ],
             [
              0.6666666666666666,
              "#ed7953"
             ],
             [
              0.7777777777777778,
              "#fb9f3a"
             ],
             [
              0.8888888888888888,
              "#fdca26"
             ],
             [
              1,
              "#f0f921"
             ]
            ],
            "type": "heatmap"
           }
          ],
          "histogram": [
           {
            "marker": {
             "pattern": {
              "fillmode": "overlay",
              "size": 10,
              "solidity": 0.2
             }
            },
            "type": "histogram"
           }
          ],
          "histogram2d": [
           {
            "colorbar": {
             "outlinewidth": 0,
             "ticks": ""
            },
            "colorscale": [
             [
              0,
              "#0d0887"
             ],
             [
              0.1111111111111111,
              "#46039f"
             ],
             [
              0.2222222222222222,
              "#7201a8"
             ],
             [
              0.3333333333333333,
              "#9c179e"
             ],
             [
              0.4444444444444444,
              "#bd3786"
             ],
             [
              0.5555555555555556,
              "#d8576b"
             ],
             [
              0.6666666666666666,
              "#ed7953"
             ],
             [
              0.7777777777777778,
              "#fb9f3a"
             ],
             [
              0.8888888888888888,
              "#fdca26"
             ],
             [
              1,
              "#f0f921"
             ]
            ],
            "type": "histogram2d"
           }
          ],
          "histogram2dcontour": [
           {
            "colorbar": {
             "outlinewidth": 0,
             "ticks": ""
            },
            "colorscale": [
             [
              0,
              "#0d0887"
             ],
             [
              0.1111111111111111,
              "#46039f"
             ],
             [
              0.2222222222222222,
              "#7201a8"
             ],
             [
              0.3333333333333333,
              "#9c179e"
             ],
             [
              0.4444444444444444,
              "#bd3786"
             ],
             [
              0.5555555555555556,
              "#d8576b"
             ],
             [
              0.6666666666666666,
              "#ed7953"
             ],
             [
              0.7777777777777778,
              "#fb9f3a"
             ],
             [
              0.8888888888888888,
              "#fdca26"
             ],
             [
              1,
              "#f0f921"
             ]
            ],
            "type": "histogram2dcontour"
           }
          ],
          "mesh3d": [
           {
            "colorbar": {
             "outlinewidth": 0,
             "ticks": ""
            },
            "type": "mesh3d"
           }
          ],
          "parcoords": [
           {
            "line": {
             "colorbar": {
              "outlinewidth": 0,
              "ticks": ""
             }
            },
            "type": "parcoords"
           }
          ],
          "pie": [
           {
            "automargin": true,
            "type": "pie"
           }
          ],
          "scatter": [
           {
            "fillpattern": {
             "fillmode": "overlay",
             "size": 10,
             "solidity": 0.2
            },
            "type": "scatter"
           }
          ],
          "scatter3d": [
           {
            "line": {
             "colorbar": {
              "outlinewidth": 0,
              "ticks": ""
             }
            },
            "marker": {
             "colorbar": {
              "outlinewidth": 0,
              "ticks": ""
             }
            },
            "type": "scatter3d"
           }
          ],
          "scattercarpet": [
           {
            "marker": {
             "colorbar": {
              "outlinewidth": 0,
              "ticks": ""
             }
            },
            "type": "scattercarpet"
           }
          ],
          "scattergeo": [
           {
            "marker": {
             "colorbar": {
              "outlinewidth": 0,
              "ticks": ""
             }
            },
            "type": "scattergeo"
           }
          ],
          "scattergl": [
           {
            "marker": {
             "colorbar": {
              "outlinewidth": 0,
              "ticks": ""
             }
            },
            "type": "scattergl"
           }
          ],
          "scattermap": [
           {
            "marker": {
             "colorbar": {
              "outlinewidth": 0,
              "ticks": ""
             }
            },
            "type": "scattermap"
           }
          ],
          "scattermapbox": [
           {
            "marker": {
             "colorbar": {
              "outlinewidth": 0,
              "ticks": ""
             }
            },
            "type": "scattermapbox"
           }
          ],
          "scatterpolar": [
           {
            "marker": {
             "colorbar": {
              "outlinewidth": 0,
              "ticks": ""
             }
            },
            "type": "scatterpolar"
           }
          ],
          "scatterpolargl": [
           {
            "marker": {
             "colorbar": {
              "outlinewidth": 0,
              "ticks": ""
             }
            },
            "type": "scatterpolargl"
           }
          ],
          "scatterternary": [
           {
            "marker": {
             "colorbar": {
              "outlinewidth": 0,
              "ticks": ""
             }
            },
            "type": "scatterternary"
           }
          ],
          "surface": [
           {
            "colorbar": {
             "outlinewidth": 0,
             "ticks": ""
            },
            "colorscale": [
             [
              0,
              "#0d0887"
             ],
             [
              0.1111111111111111,
              "#46039f"
             ],
             [
              0.2222222222222222,
              "#7201a8"
             ],
             [
              0.3333333333333333,
              "#9c179e"
             ],
             [
              0.4444444444444444,
              "#bd3786"
             ],
             [
              0.5555555555555556,
              "#d8576b"
             ],
             [
              0.6666666666666666,
              "#ed7953"
             ],
             [
              0.7777777777777778,
              "#fb9f3a"
             ],
             [
              0.8888888888888888,
              "#fdca26"
             ],
             [
              1,
              "#f0f921"
             ]
            ],
            "type": "surface"
           }
          ],
          "table": [
           {
            "cells": {
             "fill": {
              "color": "#EBF0F8"
             },
             "line": {
              "color": "white"
             }
            },
            "header": {
             "fill": {
              "color": "#C8D4E3"
             },
             "line": {
              "color": "white"
             }
            },
            "type": "table"
           }
          ]
         },
         "layout": {
          "annotationdefaults": {
           "arrowcolor": "#2a3f5f",
           "arrowhead": 0,
           "arrowwidth": 1
          },
          "autotypenumbers": "strict",
          "coloraxis": {
           "colorbar": {
            "outlinewidth": 0,
            "ticks": ""
           }
          },
          "colorscale": {
           "diverging": [
            [
             0,
             "#8e0152"
            ],
            [
             0.1,
             "#c51b7d"
            ],
            [
             0.2,
             "#de77ae"
            ],
            [
             0.3,
             "#f1b6da"
            ],
            [
             0.4,
             "#fde0ef"
            ],
            [
             0.5,
             "#f7f7f7"
            ],
            [
             0.6,
             "#e6f5d0"
            ],
            [
             0.7,
             "#b8e186"
            ],
            [
             0.8,
             "#7fbc41"
            ],
            [
             0.9,
             "#4d9221"
            ],
            [
             1,
             "#276419"
            ]
           ],
           "sequential": [
            [
             0,
             "#0d0887"
            ],
            [
             0.1111111111111111,
             "#46039f"
            ],
            [
             0.2222222222222222,
             "#7201a8"
            ],
            [
             0.3333333333333333,
             "#9c179e"
            ],
            [
             0.4444444444444444,
             "#bd3786"
            ],
            [
             0.5555555555555556,
             "#d8576b"
            ],
            [
             0.6666666666666666,
             "#ed7953"
            ],
            [
             0.7777777777777778,
             "#fb9f3a"
            ],
            [
             0.8888888888888888,
             "#fdca26"
            ],
            [
             1,
             "#f0f921"
            ]
           ],
           "sequentialminus": [
            [
             0,
             "#0d0887"
            ],
            [
             0.1111111111111111,
             "#46039f"
            ],
            [
             0.2222222222222222,
             "#7201a8"
            ],
            [
             0.3333333333333333,
             "#9c179e"
            ],
            [
             0.4444444444444444,
             "#bd3786"
            ],
            [
             0.5555555555555556,
             "#d8576b"
            ],
            [
             0.6666666666666666,
             "#ed7953"
            ],
            [
             0.7777777777777778,
             "#fb9f3a"
            ],
            [
             0.8888888888888888,
             "#fdca26"
            ],
            [
             1,
             "#f0f921"
            ]
           ]
          },
          "colorway": [
           "#636efa",
           "#EF553B",
           "#00cc96",
           "#ab63fa",
           "#FFA15A",
           "#19d3f3",
           "#FF6692",
           "#B6E880",
           "#FF97FF",
           "#FECB52"
          ],
          "font": {
           "color": "#2a3f5f"
          },
          "geo": {
           "bgcolor": "white",
           "lakecolor": "white",
           "landcolor": "#E5ECF6",
           "showlakes": true,
           "showland": true,
           "subunitcolor": "white"
          },
          "hoverlabel": {
           "align": "left"
          },
          "hovermode": "closest",
          "mapbox": {
           "style": "light"
          },
          "paper_bgcolor": "white",
          "plot_bgcolor": "#E5ECF6",
          "polar": {
           "angularaxis": {
            "gridcolor": "white",
            "linecolor": "white",
            "ticks": ""
           },
           "bgcolor": "#E5ECF6",
           "radialaxis": {
            "gridcolor": "white",
            "linecolor": "white",
            "ticks": ""
           }
          },
          "scene": {
           "xaxis": {
            "backgroundcolor": "#E5ECF6",
            "gridcolor": "white",
            "gridwidth": 2,
            "linecolor": "white",
            "showbackground": true,
            "ticks": "",
            "zerolinecolor": "white"
           },
           "yaxis": {
            "backgroundcolor": "#E5ECF6",
            "gridcolor": "white",
            "gridwidth": 2,
            "linecolor": "white",
            "showbackground": true,
            "ticks": "",
            "zerolinecolor": "white"
           },
           "zaxis": {
            "backgroundcolor": "#E5ECF6",
            "gridcolor": "white",
            "gridwidth": 2,
            "linecolor": "white",
            "showbackground": true,
            "ticks": "",
            "zerolinecolor": "white"
           }
          },
          "shapedefaults": {
           "line": {
            "color": "#2a3f5f"
           }
          },
          "ternary": {
           "aaxis": {
            "gridcolor": "white",
            "linecolor": "white",
            "ticks": ""
           },
           "baxis": {
            "gridcolor": "white",
            "linecolor": "white",
            "ticks": ""
           },
           "bgcolor": "#E5ECF6",
           "caxis": {
            "gridcolor": "white",
            "linecolor": "white",
            "ticks": ""
           }
          },
          "title": {
           "x": 0.05
          },
          "xaxis": {
           "automargin": true,
           "gridcolor": "white",
           "linecolor": "white",
           "ticks": "",
           "title": {
            "standoff": 15
           },
           "zerolinecolor": "white",
           "zerolinewidth": 2
          },
          "yaxis": {
           "automargin": true,
           "gridcolor": "white",
           "linecolor": "white",
           "ticks": "",
           "title": {
            "standoff": 15
           },
           "zerolinecolor": "white",
           "zerolinewidth": 2
          }
         }
        },
        "title": {
         "text": "Term Frequencies (≥ 10) "
        },
        "xaxis": {
         "anchor": "y",
         "domain": [
          0,
          1
         ],
         "title": {
          "text": "term"
         }
        },
        "yaxis": {
         "anchor": "x",
         "domain": [
          0,
          1
         ],
         "title": {
          "text": "frequency"
         }
        }
       }
      }
     },
     "metadata": {},
     "output_type": "display_data"
    }
   ],
   "source": [
    "#Excercise 13\n",
    "min_freq = 10   #自訂頻率門檻\n",
    "df_fr = df[df[\"frequency\"] >= min_freq].copy() #刪除頻率過低的詞彙\n",
    "\n",
    "fig = px.bar(\n",
    "    df_fr,\n",
    "    x=\"term\", y=\"frequency\",\n",
    "    title=f\"Term Frequencies (≥ {min_freq}) \"\n",
    ")\n",
    "\n",
    "fig.update_layout(height=900)\n",
    "\n",
    "fig.show()"
   ]
  },
  {
   "cell_type": "code",
   "execution_count": 19,
   "metadata": {},
   "outputs": [
    {
     "data": {
      "application/vnd.plotly.v1+json": {
       "config": {
        "plotlyServerURL": "https://plot.ly"
       },
       "data": [
        {
         "hovertemplate": "term=%{x}<br>frequency=%{y}<extra></extra>",
         "legendgroup": "",
         "marker": {
          "color": "#636efa",
          "pattern": {
           "shape": ""
          }
         },
         "name": "",
         "orientation": "v",
         "showlegend": false,
         "textposition": "auto",
         "type": "bar",
         "x": [
          "all",
          "about",
          "after",
          "10",
          "again",
          "ago",
          "50",
          "100",
          "actually",
          "administration",
          "30",
          "12",
          "15",
          "allies",
          "4271",
          "20",
          "against",
          "advice",
          "25",
          "000",
          "allocation",
          "almost",
          "airlines",
          "able",
          "2025",
          "accurate",
          "90",
          "11",
          "actual",
          "ai",
          "activity",
          "agree",
          "00",
          "alone",
          "40",
          "5000",
          "above",
          "additional",
          "22",
          "500",
          "aerocontractors",
          "air",
          "adding",
          "acquisition",
          "116",
          "affect",
          "18630",
          "80",
          "35",
          "advisors",
          "absolutely",
          "across",
          "acn",
          "actionable",
          "allows",
          "allowed",
          "adjust",
          "almasria",
          "23",
          "aapl",
          "250",
          "125",
          "2024",
          "2021",
          "13",
          "admin",
          "150",
          "200",
          "1945",
          "ally",
          "28",
          "act",
          "addition",
          "acts",
          "8883",
          "70",
          "65",
          "98",
          "21",
          "25k",
          "24",
          "2nd",
          "acceptable",
          "ability",
          "75",
          "77",
          "64",
          "60",
          "4260",
          "42",
          "3306",
          "350",
          "36",
          "3d",
          "affected",
          "advocating",
          "18",
          "17th",
          "ain",
          "alerts",
          "aircraft",
          "ahead",
          "01378",
          "02",
          "027",
          "03",
          "06",
          "08",
          "agolf",
          "agreed",
          "agreement",
          "agriculture",
          "aid",
          "aimed",
          "aiming",
          "airline",
          "airplane",
          "airplanes",
          "aka",
          "aladeen",
          "albeit",
          "160",
          "17",
          "1700",
          "1728",
          "186",
          "1870",
          "1934",
          "advantage",
          "adversaries",
          "advertisements",
          "advise",
          "advised",
          "advisor",
          "aerc",
          "affects",
          "afford",
          "afraid",
          "africa",
          "afternoon",
          "afterwards",
          "34",
          "3a",
          "3f",
          "3k",
          "3oz8xzgfhartvh99yi",
          "401k",
          "404",
          "41",
          "4267",
          "4359",
          "45",
          "4500",
          "456",
          "46",
          "4675",
          "47",
          "4900",
          "4d",
          "4m",
          "4th",
          "4x",
          "50k",
          "50x",
          "52",
          "522",
          "540",
          "55",
          "58",
          "600k",
          "6026762",
          "66",
          "6969",
          "6k",
          "6th",
          "7500",
          "7k",
          "7s",
          "81",
          "83",
          "87",
          "8882",
          "89",
          "9000",
          "90k",
          "95",
          "97",
          "98th",
          "99",
          "9k",
          "_are",
          "_so",
          "abolish",
          "absolute",
          "abuse",
          "abusing",
          "abysmal",
          "accelerate",
          "accept",
          "accepted",
          "access",
          "according",
          "account",
          "accretive",
          "acct",
          "accurately",
          "aces",
          "2028",
          "2045",
          "208",
          "22rate",
          "234",
          "235",
          "25bps",
          "27",
          "296895",
          "2c_books",
          "2c_wiki_recommendations",
          "2fapps",
          "2k",
          "2s",
          "300",
          "3000",
          "31",
          "31224",
          "31225",
          "31f",
          "33",
          "acgl",
          "achieved",
          "achievement",
          "achieves",
          "achilles",
          "acquires",
          "acquisitions",
          "action",
          "actions",
          "actively",
          "actors",
          "ad",
          "adausd",
          "add",
          "added",
          "addicted",
          "addicts",
          "addressed",
          "adjacent",
          "allocating",
          "allowing",
          "10000",
          "1947",
          "1953",
          "1961",
          "1969",
          "1973",
          "1974",
          "1981",
          "1992",
          "1999",
          "1k",
          "1m",
          "2007",
          "200k",
          "2011",
          "2012",
          "2017",
          "20211209",
          "administrations",
          "admins",
          "admit",
          "admitted",
          "adobe",
          "adp",
          "adult",
          "advanced",
          "100k",
          "100x",
          "10k",
          "10ks",
          "10yr",
          "1000",
          "1242",
          "12855584",
          "14",
          "140",
          "145",
          "14th",
          "153",
          "15m",
          "16",
          "agane",
          "age",
          "aged",
          "agencies",
          "agenda",
          "agentnlp",
          "aggressively",
          "aggressor",
          "agnew",
          "118"
         ],
         "xaxis": "x",
         "y": {
          "bdata": "YUgbFQ4MDAsLCgkICAcHBwcHBwYGBgYGBgUFBQUFBAQEBAQEBAQEBAMDAwMDAwMDAwMDAwMDAwMDAwMDAwICAgICAgICAgICAgICAgICAgICAgICAgICAgICAgICAgICAgICAgICAQEBAQEBAQEBAQEBAQEBAQEBAQEBAQEBAQEBAQEBAQEBAQEBAQEBAQEBAQEBAQEBAQEBAQEBAQEBAQEBAQEBAQEBAQEBAQEBAQEBAQEBAQEBAQEBAQEBAQEBAQEBAQEBAQEBAQEBAQEBAQEBAQEBAQEBAQEBAQEBAQEBAQEBAQEBAQEBAQEBAQEBAQEBAQEBAQEBAQEBAQEBAQEBAQEBAQEBAQEBAQEBAQEBAQEBAQEBAQEBAQEBAQEBAQEBAQEBAQEBAQEB",
          "dtype": "i1"
         },
         "yaxis": "y"
        }
       ],
       "layout": {
        "barmode": "relative",
        "height": 900,
        "legend": {
         "tracegroupgap": 0
        },
        "template": {
         "data": {
          "bar": [
           {
            "error_x": {
             "color": "#2a3f5f"
            },
            "error_y": {
             "color": "#2a3f5f"
            },
            "marker": {
             "line": {
              "color": "#E5ECF6",
              "width": 0.5
             },
             "pattern": {
              "fillmode": "overlay",
              "size": 10,
              "solidity": 0.2
             }
            },
            "type": "bar"
           }
          ],
          "barpolar": [
           {
            "marker": {
             "line": {
              "color": "#E5ECF6",
              "width": 0.5
             },
             "pattern": {
              "fillmode": "overlay",
              "size": 10,
              "solidity": 0.2
             }
            },
            "type": "barpolar"
           }
          ],
          "carpet": [
           {
            "aaxis": {
             "endlinecolor": "#2a3f5f",
             "gridcolor": "white",
             "linecolor": "white",
             "minorgridcolor": "white",
             "startlinecolor": "#2a3f5f"
            },
            "baxis": {
             "endlinecolor": "#2a3f5f",
             "gridcolor": "white",
             "linecolor": "white",
             "minorgridcolor": "white",
             "startlinecolor": "#2a3f5f"
            },
            "type": "carpet"
           }
          ],
          "choropleth": [
           {
            "colorbar": {
             "outlinewidth": 0,
             "ticks": ""
            },
            "type": "choropleth"
           }
          ],
          "contour": [
           {
            "colorbar": {
             "outlinewidth": 0,
             "ticks": ""
            },
            "colorscale": [
             [
              0,
              "#0d0887"
             ],
             [
              0.1111111111111111,
              "#46039f"
             ],
             [
              0.2222222222222222,
              "#7201a8"
             ],
             [
              0.3333333333333333,
              "#9c179e"
             ],
             [
              0.4444444444444444,
              "#bd3786"
             ],
             [
              0.5555555555555556,
              "#d8576b"
             ],
             [
              0.6666666666666666,
              "#ed7953"
             ],
             [
              0.7777777777777778,
              "#fb9f3a"
             ],
             [
              0.8888888888888888,
              "#fdca26"
             ],
             [
              1,
              "#f0f921"
             ]
            ],
            "type": "contour"
           }
          ],
          "contourcarpet": [
           {
            "colorbar": {
             "outlinewidth": 0,
             "ticks": ""
            },
            "type": "contourcarpet"
           }
          ],
          "heatmap": [
           {
            "colorbar": {
             "outlinewidth": 0,
             "ticks": ""
            },
            "colorscale": [
             [
              0,
              "#0d0887"
             ],
             [
              0.1111111111111111,
              "#46039f"
             ],
             [
              0.2222222222222222,
              "#7201a8"
             ],
             [
              0.3333333333333333,
              "#9c179e"
             ],
             [
              0.4444444444444444,
              "#bd3786"
             ],
             [
              0.5555555555555556,
              "#d8576b"
             ],
             [
              0.6666666666666666,
              "#ed7953"
             ],
             [
              0.7777777777777778,
              "#fb9f3a"
             ],
             [
              0.8888888888888888,
              "#fdca26"
             ],
             [
              1,
              "#f0f921"
             ]
            ],
            "type": "heatmap"
           }
          ],
          "histogram": [
           {
            "marker": {
             "pattern": {
              "fillmode": "overlay",
              "size": 10,
              "solidity": 0.2
             }
            },
            "type": "histogram"
           }
          ],
          "histogram2d": [
           {
            "colorbar": {
             "outlinewidth": 0,
             "ticks": ""
            },
            "colorscale": [
             [
              0,
              "#0d0887"
             ],
             [
              0.1111111111111111,
              "#46039f"
             ],
             [
              0.2222222222222222,
              "#7201a8"
             ],
             [
              0.3333333333333333,
              "#9c179e"
             ],
             [
              0.4444444444444444,
              "#bd3786"
             ],
             [
              0.5555555555555556,
              "#d8576b"
             ],
             [
              0.6666666666666666,
              "#ed7953"
             ],
             [
              0.7777777777777778,
              "#fb9f3a"
             ],
             [
              0.8888888888888888,
              "#fdca26"
             ],
             [
              1,
              "#f0f921"
             ]
            ],
            "type": "histogram2d"
           }
          ],
          "histogram2dcontour": [
           {
            "colorbar": {
             "outlinewidth": 0,
             "ticks": ""
            },
            "colorscale": [
             [
              0,
              "#0d0887"
             ],
             [
              0.1111111111111111,
              "#46039f"
             ],
             [
              0.2222222222222222,
              "#7201a8"
             ],
             [
              0.3333333333333333,
              "#9c179e"
             ],
             [
              0.4444444444444444,
              "#bd3786"
             ],
             [
              0.5555555555555556,
              "#d8576b"
             ],
             [
              0.6666666666666666,
              "#ed7953"
             ],
             [
              0.7777777777777778,
              "#fb9f3a"
             ],
             [
              0.8888888888888888,
              "#fdca26"
             ],
             [
              1,
              "#f0f921"
             ]
            ],
            "type": "histogram2dcontour"
           }
          ],
          "mesh3d": [
           {
            "colorbar": {
             "outlinewidth": 0,
             "ticks": ""
            },
            "type": "mesh3d"
           }
          ],
          "parcoords": [
           {
            "line": {
             "colorbar": {
              "outlinewidth": 0,
              "ticks": ""
             }
            },
            "type": "parcoords"
           }
          ],
          "pie": [
           {
            "automargin": true,
            "type": "pie"
           }
          ],
          "scatter": [
           {
            "fillpattern": {
             "fillmode": "overlay",
             "size": 10,
             "solidity": 0.2
            },
            "type": "scatter"
           }
          ],
          "scatter3d": [
           {
            "line": {
             "colorbar": {
              "outlinewidth": 0,
              "ticks": ""
             }
            },
            "marker": {
             "colorbar": {
              "outlinewidth": 0,
              "ticks": ""
             }
            },
            "type": "scatter3d"
           }
          ],
          "scattercarpet": [
           {
            "marker": {
             "colorbar": {
              "outlinewidth": 0,
              "ticks": ""
             }
            },
            "type": "scattercarpet"
           }
          ],
          "scattergeo": [
           {
            "marker": {
             "colorbar": {
              "outlinewidth": 0,
              "ticks": ""
             }
            },
            "type": "scattergeo"
           }
          ],
          "scattergl": [
           {
            "marker": {
             "colorbar": {
              "outlinewidth": 0,
              "ticks": ""
             }
            },
            "type": "scattergl"
           }
          ],
          "scattermap": [
           {
            "marker": {
             "colorbar": {
              "outlinewidth": 0,
              "ticks": ""
             }
            },
            "type": "scattermap"
           }
          ],
          "scattermapbox": [
           {
            "marker": {
             "colorbar": {
              "outlinewidth": 0,
              "ticks": ""
             }
            },
            "type": "scattermapbox"
           }
          ],
          "scatterpolar": [
           {
            "marker": {
             "colorbar": {
              "outlinewidth": 0,
              "ticks": ""
             }
            },
            "type": "scatterpolar"
           }
          ],
          "scatterpolargl": [
           {
            "marker": {
             "colorbar": {
              "outlinewidth": 0,
              "ticks": ""
             }
            },
            "type": "scatterpolargl"
           }
          ],
          "scatterternary": [
           {
            "marker": {
             "colorbar": {
              "outlinewidth": 0,
              "ticks": ""
             }
            },
            "type": "scatterternary"
           }
          ],
          "surface": [
           {
            "colorbar": {
             "outlinewidth": 0,
             "ticks": ""
            },
            "colorscale": [
             [
              0,
              "#0d0887"
             ],
             [
              0.1111111111111111,
              "#46039f"
             ],
             [
              0.2222222222222222,
              "#7201a8"
             ],
             [
              0.3333333333333333,
              "#9c179e"
             ],
             [
              0.4444444444444444,
              "#bd3786"
             ],
             [
              0.5555555555555556,
              "#d8576b"
             ],
             [
              0.6666666666666666,
              "#ed7953"
             ],
             [
              0.7777777777777778,
              "#fb9f3a"
             ],
             [
              0.8888888888888888,
              "#fdca26"
             ],
             [
              1,
              "#f0f921"
             ]
            ],
            "type": "surface"
           }
          ],
          "table": [
           {
            "cells": {
             "fill": {
              "color": "#EBF0F8"
             },
             "line": {
              "color": "white"
             }
            },
            "header": {
             "fill": {
              "color": "#C8D4E3"
             },
             "line": {
              "color": "white"
             }
            },
            "type": "table"
           }
          ]
         },
         "layout": {
          "annotationdefaults": {
           "arrowcolor": "#2a3f5f",
           "arrowhead": 0,
           "arrowwidth": 1
          },
          "autotypenumbers": "strict",
          "coloraxis": {
           "colorbar": {
            "outlinewidth": 0,
            "ticks": ""
           }
          },
          "colorscale": {
           "diverging": [
            [
             0,
             "#8e0152"
            ],
            [
             0.1,
             "#c51b7d"
            ],
            [
             0.2,
             "#de77ae"
            ],
            [
             0.3,
             "#f1b6da"
            ],
            [
             0.4,
             "#fde0ef"
            ],
            [
             0.5,
             "#f7f7f7"
            ],
            [
             0.6,
             "#e6f5d0"
            ],
            [
             0.7,
             "#b8e186"
            ],
            [
             0.8,
             "#7fbc41"
            ],
            [
             0.9,
             "#4d9221"
            ],
            [
             1,
             "#276419"
            ]
           ],
           "sequential": [
            [
             0,
             "#0d0887"
            ],
            [
             0.1111111111111111,
             "#46039f"
            ],
            [
             0.2222222222222222,
             "#7201a8"
            ],
            [
             0.3333333333333333,
             "#9c179e"
            ],
            [
             0.4444444444444444,
             "#bd3786"
            ],
            [
             0.5555555555555556,
             "#d8576b"
            ],
            [
             0.6666666666666666,
             "#ed7953"
            ],
            [
             0.7777777777777778,
             "#fb9f3a"
            ],
            [
             0.8888888888888888,
             "#fdca26"
            ],
            [
             1,
             "#f0f921"
            ]
           ],
           "sequentialminus": [
            [
             0,
             "#0d0887"
            ],
            [
             0.1111111111111111,
             "#46039f"
            ],
            [
             0.2222222222222222,
             "#7201a8"
            ],
            [
             0.3333333333333333,
             "#9c179e"
            ],
            [
             0.4444444444444444,
             "#bd3786"
            ],
            [
             0.5555555555555556,
             "#d8576b"
            ],
            [
             0.6666666666666666,
             "#ed7953"
            ],
            [
             0.7777777777777778,
             "#fb9f3a"
            ],
            [
             0.8888888888888888,
             "#fdca26"
            ],
            [
             1,
             "#f0f921"
            ]
           ]
          },
          "colorway": [
           "#636efa",
           "#EF553B",
           "#00cc96",
           "#ab63fa",
           "#FFA15A",
           "#19d3f3",
           "#FF6692",
           "#B6E880",
           "#FF97FF",
           "#FECB52"
          ],
          "font": {
           "color": "#2a3f5f"
          },
          "geo": {
           "bgcolor": "white",
           "lakecolor": "white",
           "landcolor": "#E5ECF6",
           "showlakes": true,
           "showland": true,
           "subunitcolor": "white"
          },
          "hoverlabel": {
           "align": "left"
          },
          "hovermode": "closest",
          "mapbox": {
           "style": "light"
          },
          "paper_bgcolor": "white",
          "plot_bgcolor": "#E5ECF6",
          "polar": {
           "angularaxis": {
            "gridcolor": "white",
            "linecolor": "white",
            "ticks": ""
           },
           "bgcolor": "#E5ECF6",
           "radialaxis": {
            "gridcolor": "white",
            "linecolor": "white",
            "ticks": ""
           }
          },
          "scene": {
           "xaxis": {
            "backgroundcolor": "#E5ECF6",
            "gridcolor": "white",
            "gridwidth": 2,
            "linecolor": "white",
            "showbackground": true,
            "ticks": "",
            "zerolinecolor": "white"
           },
           "yaxis": {
            "backgroundcolor": "#E5ECF6",
            "gridcolor": "white",
            "gridwidth": 2,
            "linecolor": "white",
            "showbackground": true,
            "ticks": "",
            "zerolinecolor": "white"
           },
           "zaxis": {
            "backgroundcolor": "#E5ECF6",
            "gridcolor": "white",
            "gridwidth": 2,
            "linecolor": "white",
            "showbackground": true,
            "ticks": "",
            "zerolinecolor": "white"
           }
          },
          "shapedefaults": {
           "line": {
            "color": "#2a3f5f"
           }
          },
          "ternary": {
           "aaxis": {
            "gridcolor": "white",
            "linecolor": "white",
            "ticks": ""
           },
           "baxis": {
            "gridcolor": "white",
            "linecolor": "white",
            "ticks": ""
           },
           "bgcolor": "#E5ECF6",
           "caxis": {
            "gridcolor": "white",
            "linecolor": "white",
            "ticks": ""
           }
          },
          "title": {
           "x": 0.05
          },
          "xaxis": {
           "automargin": true,
           "gridcolor": "white",
           "linecolor": "white",
           "ticks": "",
           "title": {
            "standoff": 15
           },
           "zerolinecolor": "white",
           "zerolinewidth": 2
          },
          "yaxis": {
           "automargin": true,
           "gridcolor": "white",
           "linecolor": "white",
           "ticks": "",
           "title": {
            "standoff": 15
           },
           "zerolinecolor": "white",
           "zerolinewidth": 2
          }
         }
        },
        "title": {
         "text": "Term Frequencies"
        },
        "xaxis": {
         "anchor": "y",
         "domain": [
          0,
          1
         ],
         "title": {
          "text": "term"
         }
        },
        "yaxis": {
         "anchor": "x",
         "domain": [
          0,
          1
         ],
         "title": {
          "text": "frequency"
         }
        }
       }
      }
     },
     "metadata": {},
     "output_type": "display_data"
    }
   ],
   "source": [
    "#Excercise 14\n",
    "df = pd.DataFrame({\n",
    "    \"term\": count_vect.get_feature_names_out()[:300],\n",
    "    \"frequency\": term_frequencies[:300],\n",
    "    })\n",
    "\n",
    "fig = px.bar(\n",
    "    df.sort_values(\"frequency\", ascending=False),\n",
    "    x=\"term\", y=\"frequency\",\n",
    "    title=f\"Term Frequencies\"\n",
    ")\n",
    "\n",
    "fig.update_layout(height=900)\n",
    "\n",
    "fig.show()"
   ]
  },
  {
   "cell_type": "code",
   "execution_count": 20,
   "metadata": {},
   "outputs": [
    {
     "data": {
      "application/vnd.plotly.v1+json": {
       "config": {
        "plotlyServerURL": "https://plot.ly"
       },
       "data": [
        {
         "hovertemplate": "term=%{x}<br>frequency=%{y}<extra></extra>",
         "legendgroup": "",
         "marker": {
          "color": "#636efa",
          "pattern": {
           "shape": ""
          }
         },
         "name": "",
         "orientation": "v",
         "showlegend": false,
         "textposition": "auto",
         "type": "bar",
         "x": [
          "03",
          "accretive",
          "agane",
          "age",
          "aged",
          "agencies",
          "agenda",
          "agentnlp",
          "aggressively",
          "aggressor",
          "agnew",
          "account",
          "agolf",
          "access",
          "agreed",
          "agreement",
          "agriculture",
          "81",
          "accepted",
          "aid",
          "aimed",
          "aiming",
          "7s",
          "accept",
          "7k",
          "airline",
          "accelerate",
          "airplane",
          "airplanes",
          "aka",
          "aladeen",
          "albeit",
          "abysmal",
          "abusing",
          "01378",
          "02",
          "027",
          "234",
          "06",
          "08",
          "abuse",
          "absolute",
          "1000",
          "10000",
          "100k",
          "100x",
          "10k",
          "10ks",
          "10yr",
          "abolish",
          "_so",
          "118",
          "_are",
          "1242",
          "50k",
          "12855584",
          "50x",
          "14",
          "140",
          "145",
          "14th",
          "9k",
          "52",
          "153",
          "20211209",
          "522",
          "99",
          "2028",
          "2045",
          "208",
          "540",
          "98th",
          "22rate",
          "97",
          "95",
          "235",
          "55",
          "90k",
          "9000",
          "25bps",
          "58",
          "27",
          "6k",
          "296895",
          "2c_books",
          "2c_wiki_recommendations",
          "2fapps",
          "2k",
          "600k",
          "2s",
          "89",
          "300",
          "3000",
          "31",
          "31224",
          "31225",
          "31f",
          "33",
          "6026762",
          "34",
          "8882",
          "6th",
          "7500",
          "3a",
          "66",
          "3f",
          "3k",
          "3oz8xzgfhartvh99yi",
          "87",
          "401k",
          "404",
          "41",
          "6969",
          "according",
          "4267",
          "83",
          "4359",
          "45",
          "4500",
          "456",
          "46",
          "4675",
          "47",
          "4900",
          "4d",
          "4m",
          "4th",
          "4x",
          "acct",
          "accurately",
          "aces",
          "acgl",
          "achieved",
          "achievement",
          "achieves",
          "achilles",
          "acquires",
          "acquisitions",
          "action",
          "actions",
          "actively",
          "actors",
          "ad",
          "adausd",
          "add",
          "added",
          "addicted",
          "addicts",
          "addressed",
          "adjacent",
          "administrations",
          "admins",
          "admit",
          "admitted",
          "adobe",
          "adp",
          "adult",
          "advanced",
          "advantage",
          "adversaries",
          "advertisements",
          "advise",
          "advised",
          "advisor",
          "aerc",
          "affects",
          "afford",
          "afraid",
          "africa",
          "afternoon",
          "afterwards",
          "15m",
          "16",
          "160",
          "17",
          "1700",
          "1728",
          "186",
          "1870",
          "1934",
          "1947",
          "1953",
          "1961",
          "1969",
          "1973",
          "1974",
          "1981",
          "1992",
          "1999",
          "1k",
          "1m",
          "2007",
          "200k",
          "2011",
          "2012",
          "2017",
          "allocating",
          "allowing",
          "24",
          "affected",
          "25k",
          "act",
          "28",
          "2nd",
          "3306",
          "350",
          "acts",
          "36",
          "3d",
          "42",
          "60",
          "64",
          "18",
          "65",
          "addition",
          "70",
          "1945",
          "75",
          "17th",
          "admin",
          "4260",
          "8883",
          "98",
          "ability",
          "acceptable",
          "77",
          "ahead",
          "ain",
          "200",
          "aircraft",
          "125",
          "13",
          "150",
          "2024",
          "2021",
          "alerts",
          "21",
          "advocating",
          "ally",
          "aerocontractors",
          "18630",
          "aapl",
          "250",
          "advisors",
          "23",
          "adjust",
          "80",
          "affect",
          "acn",
          "air",
          "acquisition",
          "almasria",
          "across",
          "allowed",
          "35",
          "116",
          "actionable",
          "absolutely",
          "adding",
          "allows",
          "00",
          "500",
          "additional",
          "22",
          "activity",
          "alone",
          "above",
          "agree",
          "40",
          "5000",
          "90",
          "11",
          "ai",
          "actual",
          "accurate",
          "almost",
          "000",
          "2025",
          "allocation",
          "able",
          "airlines",
          "against",
          "20",
          "25",
          "4271",
          "advice",
          "allies",
          "12",
          "15",
          "30",
          "administration",
          "actually",
          "100",
          "50",
          "ago",
          "again",
          "10",
          "after",
          "about",
          "all"
         ],
         "xaxis": "x",
         "y": {
          "bdata": "AAAAAAAAAAAAAAAAAAAAAAAAAAAAAAAAAAAAAAAAAAAAAAAAAAAAAAAAAAAAAAAAAAAAAAAAAAAAAAAAAAAAAAAAAAAAAAAAAAAAAAAAAAAAAAAAAAAAAAAAAAAAAAAAAAAAAAAAAAAAAAAAAAAAAAAAAAAAAAAAAAAAAAAAAAAAAAAAAAAAAAAAAAAAAAAAAAAAAAAAAAAAAAAAAAAAAAAAAAAAAAAAAAAAAAAAAAAAAAAAAAAAAAAAAAAAAAAAAAAAAAAAAAAAAAAAAAAAAAAAAAAAAAAAAAAAAAAAAAAAAAAAAAAAAAAAAAAAAAAAAAAAAAAAAAAAAAAAAAAAAAAAAAAAAAAAAAAAAAAAAAAAAAAAAAAAAAAAAAAAAAAAAAAAAAAAAAAAAAAAAAAAAAAAAAAAAAAAAAAAAAAAAAAAAAAAAAAAAAAAAAAAAAAAAAAAAAAAAAAAAAAAAAAAAAAAAAAAAAAAAAAAAAAAAAAAAAAAAAAAAAAAAAAAAAAAAAAAAAAAAAAAAAAAAAAAAAAAAAAAAAAAAAAAAAAAAAAAAAAAAAAAAAAAAAAAAAAAAAAAAAAAAAAAAAAAAAAAAAAAAAAAAAAAAAAAAAAAAAAAAAAAAAAAAAAAAAAAAAAAAAAAAAAAAAAAAAAAAAAAAAAAAAAAAAAAAAAAAAAAAAAAAAAAAAAAAAAAAAAAAAAAAAAAAAAAAAAAAAAAAAAAAAAAAAAAAAAAAAAAAAAAAAAAAAAAAAAAAAAAAAAAAAAAAAAAAAAAAAAAAAAAAAAAAAAAAAAAAAAAAAAAAAAAAAAAAAAAAAAAAAAAAAAAAAAAAAAAAAAAAAAAAAAAAAAAAAAAAAAAAAAAAAAAAAAAAAAAAAAAAAAAAAAAAAAAAAAAAAAAAAAAAAAAAAAAAAAAAAAAAAAAAAAAAAAAAAAAAAAAAAAAAAAAAAAAAAAAAAAAAAAAAAAAAAAAAAAAAAAAAAAAAAAAAAAAAAAAAAAAAAAAAAAAAAAAAAAAAAAAAAAAAAAAAAAAAAAAAAAAAAAAAAAAAAAAAAAAAAAAAAAAAAAAAAAAAAAAAAAAAAAAAAAAAAAAAAAAAAAAAAAAAAAAAAAAAAAAAAAAAAAAAAAAAAAAAAAAAAAAAAAAAAAAAAAAAAAAAAAAAAAAAAAAAAAAAAAAAAAAAAAAAAAAAAAAAAAAAAAAAAAAAAAAAAAAAAAAAAAAAAAAAAAAAAAAAAAAAAAAAAAAAAAAAAAAAAAAAAAAAAAAAAAAAAAAAAAAAAAAAAAAAAAAAAAAAAAAAAAAAAAAAAAAAAAAAAAAAAAAAAAAAAAAAAAAAAAAAAAAAAAAAAAAAAAAAAAAAAAAAAAAAAAAAAAAAAAAAAAAAAAAAAAAAAAAAAAAAAAAAAAAAAAAAAAAAAAAAAAAAAAAAAAAAAAAAAAAAAAAAAAAAAAAAAAAAAAAAAAAAAAAAAAAAAAAAAAAAAAAAAAAAAAAAAAAAAAAAAAAAAAAAAAAAAAAAAAAAAAAAAAAAAAAAAAAAAAAAAAAAAAAAAAAAAAAAAAAAAAAAAAAAAAAAAAAAAAAAAAAAAAAAAAAAAAAAAAAAAAAAAAAAAAAAAAAAAAAAAAAAAAAAAAAAAAAAAAAAAAAAAAAAAAAAAAAAAAAAAAAAAAAAAAAAAAAAAAAAAAAAAAAAAAAAAAAAAAAAAAAAAAAAAAAAAAAAAAAAAAAAAAAAAAAAAAAAAAAAAAAAAAAAAAAAAAAAAAAAAAAAAAAAAAAAAAAAAAAAAAAAAAAAAAAAAAAAAAAAAAAAAAAAAAAAAAAAAAAAAAAAAAAAAAAAAAAAAAAAAAAAAAAAAAAAAAAAAAAAAAAAAAAAAAAAAAAAAAAAAAAAAAAAAAAAAAAAAAAAAAAAAAAAAAAAAAAAAAAAAAAAAAAAAAAAAAAAAAAAAAAAAAAAAAAAAAAAAAAAAAAAAAAAAAAAAAAAAAAAAAAAAAAAAAAAAAAAAAAAAAAAAAAAAAAAAAAAAAAAAAAAAAAAAAAAAAAAAAAAAAAAAAAAAAAAAAAAAAAAAAAAAAAAAAAAAAAAAAAAAAAAAAAAAAAAAAAAAAAAAAAAAAAAAAAAAAA7zn6/kIu5j/vOfr+Qi7mP+85+v5CLuY/7zn6/kIu5j/vOfr+Qi7mP+85+v5CLuY/7zn6/kIu5j/vOfr+Qi7mP+85+v5CLuY/7zn6/kIu5j/vOfr+Qi7mP+85+v5CLuY/7zn6/kIu5j/vOfr+Qi7mP+85+v5CLuY/7zn6/kIu5j/vOfr+Qi7mP+85+v5CLuY/7zn6/kIu5j/vOfr+Qi7mP+85+v5CLuY/7zn6/kIu5j/vOfr+Qi7mP+85+v5CLuY/7zn6/kIu5j/vOfr+Qi7mP+85+v5CLuY/7zn6/kIu5j/vOfr+Qi7mP+85+v5CLuY/7zn6/kIu5j/vOfr+Qi7mP+85+v5CLuY/7zn6/kIu5j/vOfr+Qi7mP+85+v5CLuY/7zn6/kIu5j/vOfr+Qi7mP+85+v5CLuY/7zn6/kIu5j/vOfr+Qi7mPwsDrXrqk/E/CwOteuqT8T8LA6166pPxPwsDrXrqk/E/CwOteuqT8T8LA6166pPxPwsDrXrqk/E/CwOteuqT8T8LA6166pPxPwsDrXrqk/E/CwOteuqT8T8LA6166pPxPwsDrXrqk/E/CwOteuqT8T8LA6166pPxPwsDrXrqk/E/CwOteuqT8T8LA6166pPxPwsDrXrqk/E/CwOteuqT8T8LA6166pPxP+85+v5CLvY/7zn6/kIu9j/vOfr+Qi72P+85+v5CLvY/7zn6/kIu9j/vOfr+Qi72P+85+v5CLvY/7zn6/kIu9j/vOfr+Qi72P+85+v5CLvY/M43t90HA+T8zje33QcD5PzON7fdBwPk/M43t90HA+T8zje33QcD5PwIgKvoLq/w/AiAq+gur/D8CICr6C6v8PwIgKvoLq/w/AiAq+gur/D8CICr6C6v8P1daMq5yIv8/V1oyrnIi/z9XWjKuciL/P1daMq5yIv8/V1oyrnIi/z9XWjKuciL/P3OrOz+yogBAc6s7P7KiAEALA6166pMBQBZVtbuxawJATDd/t+MuA0BMN3+34y4DQH2e07wW4QNAfZ7TvBbhA0Cnu9cWyhwFQLGub5QuWwhAkIQDuN9dCkA/V/RcThsRQPhL5QiBTBJA",
          "dtype": "f8"
         },
         "yaxis": "y"
        }
       ],
       "layout": {
        "barmode": "relative",
        "legend": {
         "tracegroupgap": 0
        },
        "template": {
         "data": {
          "bar": [
           {
            "error_x": {
             "color": "#2a3f5f"
            },
            "error_y": {
             "color": "#2a3f5f"
            },
            "marker": {
             "line": {
              "color": "#E5ECF6",
              "width": 0.5
             },
             "pattern": {
              "fillmode": "overlay",
              "size": 10,
              "solidity": 0.2
             }
            },
            "type": "bar"
           }
          ],
          "barpolar": [
           {
            "marker": {
             "line": {
              "color": "#E5ECF6",
              "width": 0.5
             },
             "pattern": {
              "fillmode": "overlay",
              "size": 10,
              "solidity": 0.2
             }
            },
            "type": "barpolar"
           }
          ],
          "carpet": [
           {
            "aaxis": {
             "endlinecolor": "#2a3f5f",
             "gridcolor": "white",
             "linecolor": "white",
             "minorgridcolor": "white",
             "startlinecolor": "#2a3f5f"
            },
            "baxis": {
             "endlinecolor": "#2a3f5f",
             "gridcolor": "white",
             "linecolor": "white",
             "minorgridcolor": "white",
             "startlinecolor": "#2a3f5f"
            },
            "type": "carpet"
           }
          ],
          "choropleth": [
           {
            "colorbar": {
             "outlinewidth": 0,
             "ticks": ""
            },
            "type": "choropleth"
           }
          ],
          "contour": [
           {
            "colorbar": {
             "outlinewidth": 0,
             "ticks": ""
            },
            "colorscale": [
             [
              0,
              "#0d0887"
             ],
             [
              0.1111111111111111,
              "#46039f"
             ],
             [
              0.2222222222222222,
              "#7201a8"
             ],
             [
              0.3333333333333333,
              "#9c179e"
             ],
             [
              0.4444444444444444,
              "#bd3786"
             ],
             [
              0.5555555555555556,
              "#d8576b"
             ],
             [
              0.6666666666666666,
              "#ed7953"
             ],
             [
              0.7777777777777778,
              "#fb9f3a"
             ],
             [
              0.8888888888888888,
              "#fdca26"
             ],
             [
              1,
              "#f0f921"
             ]
            ],
            "type": "contour"
           }
          ],
          "contourcarpet": [
           {
            "colorbar": {
             "outlinewidth": 0,
             "ticks": ""
            },
            "type": "contourcarpet"
           }
          ],
          "heatmap": [
           {
            "colorbar": {
             "outlinewidth": 0,
             "ticks": ""
            },
            "colorscale": [
             [
              0,
              "#0d0887"
             ],
             [
              0.1111111111111111,
              "#46039f"
             ],
             [
              0.2222222222222222,
              "#7201a8"
             ],
             [
              0.3333333333333333,
              "#9c179e"
             ],
             [
              0.4444444444444444,
              "#bd3786"
             ],
             [
              0.5555555555555556,
              "#d8576b"
             ],
             [
              0.6666666666666666,
              "#ed7953"
             ],
             [
              0.7777777777777778,
              "#fb9f3a"
             ],
             [
              0.8888888888888888,
              "#fdca26"
             ],
             [
              1,
              "#f0f921"
             ]
            ],
            "type": "heatmap"
           }
          ],
          "histogram": [
           {
            "marker": {
             "pattern": {
              "fillmode": "overlay",
              "size": 10,
              "solidity": 0.2
             }
            },
            "type": "histogram"
           }
          ],
          "histogram2d": [
           {
            "colorbar": {
             "outlinewidth": 0,
             "ticks": ""
            },
            "colorscale": [
             [
              0,
              "#0d0887"
             ],
             [
              0.1111111111111111,
              "#46039f"
             ],
             [
              0.2222222222222222,
              "#7201a8"
             ],
             [
              0.3333333333333333,
              "#9c179e"
             ],
             [
              0.4444444444444444,
              "#bd3786"
             ],
             [
              0.5555555555555556,
              "#d8576b"
             ],
             [
              0.6666666666666666,
              "#ed7953"
             ],
             [
              0.7777777777777778,
              "#fb9f3a"
             ],
             [
              0.8888888888888888,
              "#fdca26"
             ],
             [
              1,
              "#f0f921"
             ]
            ],
            "type": "histogram2d"
           }
          ],
          "histogram2dcontour": [
           {
            "colorbar": {
             "outlinewidth": 0,
             "ticks": ""
            },
            "colorscale": [
             [
              0,
              "#0d0887"
             ],
             [
              0.1111111111111111,
              "#46039f"
             ],
             [
              0.2222222222222222,
              "#7201a8"
             ],
             [
              0.3333333333333333,
              "#9c179e"
             ],
             [
              0.4444444444444444,
              "#bd3786"
             ],
             [
              0.5555555555555556,
              "#d8576b"
             ],
             [
              0.6666666666666666,
              "#ed7953"
             ],
             [
              0.7777777777777778,
              "#fb9f3a"
             ],
             [
              0.8888888888888888,
              "#fdca26"
             ],
             [
              1,
              "#f0f921"
             ]
            ],
            "type": "histogram2dcontour"
           }
          ],
          "mesh3d": [
           {
            "colorbar": {
             "outlinewidth": 0,
             "ticks": ""
            },
            "type": "mesh3d"
           }
          ],
          "parcoords": [
           {
            "line": {
             "colorbar": {
              "outlinewidth": 0,
              "ticks": ""
             }
            },
            "type": "parcoords"
           }
          ],
          "pie": [
           {
            "automargin": true,
            "type": "pie"
           }
          ],
          "scatter": [
           {
            "fillpattern": {
             "fillmode": "overlay",
             "size": 10,
             "solidity": 0.2
            },
            "type": "scatter"
           }
          ],
          "scatter3d": [
           {
            "line": {
             "colorbar": {
              "outlinewidth": 0,
              "ticks": ""
             }
            },
            "marker": {
             "colorbar": {
              "outlinewidth": 0,
              "ticks": ""
             }
            },
            "type": "scatter3d"
           }
          ],
          "scattercarpet": [
           {
            "marker": {
             "colorbar": {
              "outlinewidth": 0,
              "ticks": ""
             }
            },
            "type": "scattercarpet"
           }
          ],
          "scattergeo": [
           {
            "marker": {
             "colorbar": {
              "outlinewidth": 0,
              "ticks": ""
             }
            },
            "type": "scattergeo"
           }
          ],
          "scattergl": [
           {
            "marker": {
             "colorbar": {
              "outlinewidth": 0,
              "ticks": ""
             }
            },
            "type": "scattergl"
           }
          ],
          "scattermap": [
           {
            "marker": {
             "colorbar": {
              "outlinewidth": 0,
              "ticks": ""
             }
            },
            "type": "scattermap"
           }
          ],
          "scattermapbox": [
           {
            "marker": {
             "colorbar": {
              "outlinewidth": 0,
              "ticks": ""
             }
            },
            "type": "scattermapbox"
           }
          ],
          "scatterpolar": [
           {
            "marker": {
             "colorbar": {
              "outlinewidth": 0,
              "ticks": ""
             }
            },
            "type": "scatterpolar"
           }
          ],
          "scatterpolargl": [
           {
            "marker": {
             "colorbar": {
              "outlinewidth": 0,
              "ticks": ""
             }
            },
            "type": "scatterpolargl"
           }
          ],
          "scatterternary": [
           {
            "marker": {
             "colorbar": {
              "outlinewidth": 0,
              "ticks": ""
             }
            },
            "type": "scatterternary"
           }
          ],
          "surface": [
           {
            "colorbar": {
             "outlinewidth": 0,
             "ticks": ""
            },
            "colorscale": [
             [
              0,
              "#0d0887"
             ],
             [
              0.1111111111111111,
              "#46039f"
             ],
             [
              0.2222222222222222,
              "#7201a8"
             ],
             [
              0.3333333333333333,
              "#9c179e"
             ],
             [
              0.4444444444444444,
              "#bd3786"
             ],
             [
              0.5555555555555556,
              "#d8576b"
             ],
             [
              0.6666666666666666,
              "#ed7953"
             ],
             [
              0.7777777777777778,
              "#fb9f3a"
             ],
             [
              0.8888888888888888,
              "#fdca26"
             ],
             [
              1,
              "#f0f921"
             ]
            ],
            "type": "surface"
           }
          ],
          "table": [
           {
            "cells": {
             "fill": {
              "color": "#EBF0F8"
             },
             "line": {
              "color": "white"
             }
            },
            "header": {
             "fill": {
              "color": "#C8D4E3"
             },
             "line": {
              "color": "white"
             }
            },
            "type": "table"
           }
          ]
         },
         "layout": {
          "annotationdefaults": {
           "arrowcolor": "#2a3f5f",
           "arrowhead": 0,
           "arrowwidth": 1
          },
          "autotypenumbers": "strict",
          "coloraxis": {
           "colorbar": {
            "outlinewidth": 0,
            "ticks": ""
           }
          },
          "colorscale": {
           "diverging": [
            [
             0,
             "#8e0152"
            ],
            [
             0.1,
             "#c51b7d"
            ],
            [
             0.2,
             "#de77ae"
            ],
            [
             0.3,
             "#f1b6da"
            ],
            [
             0.4,
             "#fde0ef"
            ],
            [
             0.5,
             "#f7f7f7"
            ],
            [
             0.6,
             "#e6f5d0"
            ],
            [
             0.7,
             "#b8e186"
            ],
            [
             0.8,
             "#7fbc41"
            ],
            [
             0.9,
             "#4d9221"
            ],
            [
             1,
             "#276419"
            ]
           ],
           "sequential": [
            [
             0,
             "#0d0887"
            ],
            [
             0.1111111111111111,
             "#46039f"
            ],
            [
             0.2222222222222222,
             "#7201a8"
            ],
            [
             0.3333333333333333,
             "#9c179e"
            ],
            [
             0.4444444444444444,
             "#bd3786"
            ],
            [
             0.5555555555555556,
             "#d8576b"
            ],
            [
             0.6666666666666666,
             "#ed7953"
            ],
            [
             0.7777777777777778,
             "#fb9f3a"
            ],
            [
             0.8888888888888888,
             "#fdca26"
            ],
            [
             1,
             "#f0f921"
            ]
           ],
           "sequentialminus": [
            [
             0,
             "#0d0887"
            ],
            [
             0.1111111111111111,
             "#46039f"
            ],
            [
             0.2222222222222222,
             "#7201a8"
            ],
            [
             0.3333333333333333,
             "#9c179e"
            ],
            [
             0.4444444444444444,
             "#bd3786"
            ],
            [
             0.5555555555555556,
             "#d8576b"
            ],
            [
             0.6666666666666666,
             "#ed7953"
            ],
            [
             0.7777777777777778,
             "#fb9f3a"
            ],
            [
             0.8888888888888888,
             "#fdca26"
            ],
            [
             1,
             "#f0f921"
            ]
           ]
          },
          "colorway": [
           "#636efa",
           "#EF553B",
           "#00cc96",
           "#ab63fa",
           "#FFA15A",
           "#19d3f3",
           "#FF6692",
           "#B6E880",
           "#FF97FF",
           "#FECB52"
          ],
          "font": {
           "color": "#2a3f5f"
          },
          "geo": {
           "bgcolor": "white",
           "lakecolor": "white",
           "landcolor": "#E5ECF6",
           "showlakes": true,
           "showland": true,
           "subunitcolor": "white"
          },
          "hoverlabel": {
           "align": "left"
          },
          "hovermode": "closest",
          "mapbox": {
           "style": "light"
          },
          "paper_bgcolor": "white",
          "plot_bgcolor": "#E5ECF6",
          "polar": {
           "angularaxis": {
            "gridcolor": "white",
            "linecolor": "white",
            "ticks": ""
           },
           "bgcolor": "#E5ECF6",
           "radialaxis": {
            "gridcolor": "white",
            "linecolor": "white",
            "ticks": ""
           }
          },
          "scene": {
           "xaxis": {
            "backgroundcolor": "#E5ECF6",
            "gridcolor": "white",
            "gridwidth": 2,
            "linecolor": "white",
            "showbackground": true,
            "ticks": "",
            "zerolinecolor": "white"
           },
           "yaxis": {
            "backgroundcolor": "#E5ECF6",
            "gridcolor": "white",
            "gridwidth": 2,
            "linecolor": "white",
            "showbackground": true,
            "ticks": "",
            "zerolinecolor": "white"
           },
           "zaxis": {
            "backgroundcolor": "#E5ECF6",
            "gridcolor": "white",
            "gridwidth": 2,
            "linecolor": "white",
            "showbackground": true,
            "ticks": "",
            "zerolinecolor": "white"
           }
          },
          "shapedefaults": {
           "line": {
            "color": "#2a3f5f"
           }
          },
          "ternary": {
           "aaxis": {
            "gridcolor": "white",
            "linecolor": "white",
            "ticks": ""
           },
           "baxis": {
            "gridcolor": "white",
            "linecolor": "white",
            "ticks": ""
           },
           "bgcolor": "#E5ECF6",
           "caxis": {
            "gridcolor": "white",
            "linecolor": "white",
            "ticks": ""
           }
          },
          "title": {
           "x": 0.05
          },
          "xaxis": {
           "automargin": true,
           "gridcolor": "white",
           "linecolor": "white",
           "ticks": "",
           "title": {
            "standoff": 15
           },
           "zerolinecolor": "white",
           "zerolinewidth": 2
          },
          "yaxis": {
           "automargin": true,
           "gridcolor": "white",
           "linecolor": "white",
           "ticks": "",
           "title": {
            "standoff": 15
           },
           "zerolinecolor": "white",
           "zerolinewidth": 2
          }
         }
        },
        "title": {
         "text": "Term Frequencies Log Scale"
        },
        "xaxis": {
         "anchor": "y",
         "domain": [
          0,
          1
         ],
         "title": {
          "text": "term"
         }
        },
        "yaxis": {
         "anchor": "x",
         "domain": [
          0,
          1
         ],
         "title": {
          "text": "frequency"
         }
        }
       }
      }
     },
     "metadata": {},
     "output_type": "display_data"
    }
   ],
   "source": [
    "#Excercise 15\n",
    "import math\n",
    "term_frequencies_log = [math.log(i) for i in term_frequencies]\n",
    "\n",
    "df = pd.DataFrame({\n",
    "    \"term\": count_vect.get_feature_names_out()[:300],\n",
    "    \"frequency\": term_frequencies_log[:300],\n",
    "    })\n",
    "\n",
    "fig = px.bar(\n",
    "    df.sort_values(\"frequency\"),\n",
    "    x=\"term\", y=\"frequency\",\n",
    "    title=f\"Term Frequencies Log Scale\"\n",
    ")\n",
    "\n",
    "fig.show()\n"
   ]
  },
  {
   "cell_type": "code",
   "execution_count": 80,
   "metadata": {},
   "outputs": [
    {
     "data": {
      "application/vnd.plotly.v1+json": {
       "config": {
        "plotlyServerURL": "https://plot.ly"
       },
       "data": [
        {
         "hovertemplate": "term=%{x}<br>frequency=%{y}<extra></extra>",
         "legendgroup": "",
         "marker": {
          "color": "#636efa",
          "pattern": {
           "shape": ""
          }
         },
         "name": "",
         "orientation": "v",
         "showlegend": false,
         "textposition": "auto",
         "type": "bar",
         "x": [
          "the",
          "to",
          "and",
          "is",
          "it",
          "of",
          "in",
          "that",
          "for",
          "this",
          "you",
          "on",
          "are",
          "they",
          "be",
          "he",
          "will",
          "with",
          "if",
          "as",
          "market",
          "but",
          "not",
          "so",
          "have",
          "all",
          "us",
          "just",
          "was",
          "at",
          "trump",
          "my",
          "what",
          "can",
          "like",
          "or",
          "we",
          "has",
          "their",
          "china",
          "about",
          "more",
          "from",
          "now",
          "there",
          "no",
          "by",
          "re",
          "how",
          "up"
         ],
         "xaxis": "x",
         "y": {
          "bdata": "mAM2AugBkgFeATcBHgHuANYA1QDDAKsAmwCWAIYAhAB/AH4AdwBzAG8AbABrAGcAYQBhAGAAXwBeAFwAXABZAFgAVQBTAFEAUQBMAEgASABIAEMAPwA+AD4APQA6ADkANwA3AA==",
          "dtype": "i2"
         },
         "yaxis": "y"
        }
       ],
       "layout": {
        "barmode": "relative",
        "legend": {
         "tracegroupgap": 0
        },
        "template": {
         "data": {
          "bar": [
           {
            "error_x": {
             "color": "#2a3f5f"
            },
            "error_y": {
             "color": "#2a3f5f"
            },
            "marker": {
             "line": {
              "color": "#E5ECF6",
              "width": 0.5
             },
             "pattern": {
              "fillmode": "overlay",
              "size": 10,
              "solidity": 0.2
             }
            },
            "type": "bar"
           }
          ],
          "barpolar": [
           {
            "marker": {
             "line": {
              "color": "#E5ECF6",
              "width": 0.5
             },
             "pattern": {
              "fillmode": "overlay",
              "size": 10,
              "solidity": 0.2
             }
            },
            "type": "barpolar"
           }
          ],
          "carpet": [
           {
            "aaxis": {
             "endlinecolor": "#2a3f5f",
             "gridcolor": "white",
             "linecolor": "white",
             "minorgridcolor": "white",
             "startlinecolor": "#2a3f5f"
            },
            "baxis": {
             "endlinecolor": "#2a3f5f",
             "gridcolor": "white",
             "linecolor": "white",
             "minorgridcolor": "white",
             "startlinecolor": "#2a3f5f"
            },
            "type": "carpet"
           }
          ],
          "choropleth": [
           {
            "colorbar": {
             "outlinewidth": 0,
             "ticks": ""
            },
            "type": "choropleth"
           }
          ],
          "contour": [
           {
            "colorbar": {
             "outlinewidth": 0,
             "ticks": ""
            },
            "colorscale": [
             [
              0,
              "#0d0887"
             ],
             [
              0.1111111111111111,
              "#46039f"
             ],
             [
              0.2222222222222222,
              "#7201a8"
             ],
             [
              0.3333333333333333,
              "#9c179e"
             ],
             [
              0.4444444444444444,
              "#bd3786"
             ],
             [
              0.5555555555555556,
              "#d8576b"
             ],
             [
              0.6666666666666666,
              "#ed7953"
             ],
             [
              0.7777777777777778,
              "#fb9f3a"
             ],
             [
              0.8888888888888888,
              "#fdca26"
             ],
             [
              1,
              "#f0f921"
             ]
            ],
            "type": "contour"
           }
          ],
          "contourcarpet": [
           {
            "colorbar": {
             "outlinewidth": 0,
             "ticks": ""
            },
            "type": "contourcarpet"
           }
          ],
          "heatmap": [
           {
            "colorbar": {
             "outlinewidth": 0,
             "ticks": ""
            },
            "colorscale": [
             [
              0,
              "#0d0887"
             ],
             [
              0.1111111111111111,
              "#46039f"
             ],
             [
              0.2222222222222222,
              "#7201a8"
             ],
             [
              0.3333333333333333,
              "#9c179e"
             ],
             [
              0.4444444444444444,
              "#bd3786"
             ],
             [
              0.5555555555555556,
              "#d8576b"
             ],
             [
              0.6666666666666666,
              "#ed7953"
             ],
             [
              0.7777777777777778,
              "#fb9f3a"
             ],
             [
              0.8888888888888888,
              "#fdca26"
             ],
             [
              1,
              "#f0f921"
             ]
            ],
            "type": "heatmap"
           }
          ],
          "histogram": [
           {
            "marker": {
             "pattern": {
              "fillmode": "overlay",
              "size": 10,
              "solidity": 0.2
             }
            },
            "type": "histogram"
           }
          ],
          "histogram2d": [
           {
            "colorbar": {
             "outlinewidth": 0,
             "ticks": ""
            },
            "colorscale": [
             [
              0,
              "#0d0887"
             ],
             [
              0.1111111111111111,
              "#46039f"
             ],
             [
              0.2222222222222222,
              "#7201a8"
             ],
             [
              0.3333333333333333,
              "#9c179e"
             ],
             [
              0.4444444444444444,
              "#bd3786"
             ],
             [
              0.5555555555555556,
              "#d8576b"
             ],
             [
              0.6666666666666666,
              "#ed7953"
             ],
             [
              0.7777777777777778,
              "#fb9f3a"
             ],
             [
              0.8888888888888888,
              "#fdca26"
             ],
             [
              1,
              "#f0f921"
             ]
            ],
            "type": "histogram2d"
           }
          ],
          "histogram2dcontour": [
           {
            "colorbar": {
             "outlinewidth": 0,
             "ticks": ""
            },
            "colorscale": [
             [
              0,
              "#0d0887"
             ],
             [
              0.1111111111111111,
              "#46039f"
             ],
             [
              0.2222222222222222,
              "#7201a8"
             ],
             [
              0.3333333333333333,
              "#9c179e"
             ],
             [
              0.4444444444444444,
              "#bd3786"
             ],
             [
              0.5555555555555556,
              "#d8576b"
             ],
             [
              0.6666666666666666,
              "#ed7953"
             ],
             [
              0.7777777777777778,
              "#fb9f3a"
             ],
             [
              0.8888888888888888,
              "#fdca26"
             ],
             [
              1,
              "#f0f921"
             ]
            ],
            "type": "histogram2dcontour"
           }
          ],
          "mesh3d": [
           {
            "colorbar": {
             "outlinewidth": 0,
             "ticks": ""
            },
            "type": "mesh3d"
           }
          ],
          "parcoords": [
           {
            "line": {
             "colorbar": {
              "outlinewidth": 0,
              "ticks": ""
             }
            },
            "type": "parcoords"
           }
          ],
          "pie": [
           {
            "automargin": true,
            "type": "pie"
           }
          ],
          "scatter": [
           {
            "fillpattern": {
             "fillmode": "overlay",
             "size": 10,
             "solidity": 0.2
            },
            "type": "scatter"
           }
          ],
          "scatter3d": [
           {
            "line": {
             "colorbar": {
              "outlinewidth": 0,
              "ticks": ""
             }
            },
            "marker": {
             "colorbar": {
              "outlinewidth": 0,
              "ticks": ""
             }
            },
            "type": "scatter3d"
           }
          ],
          "scattercarpet": [
           {
            "marker": {
             "colorbar": {
              "outlinewidth": 0,
              "ticks": ""
             }
            },
            "type": "scattercarpet"
           }
          ],
          "scattergeo": [
           {
            "marker": {
             "colorbar": {
              "outlinewidth": 0,
              "ticks": ""
             }
            },
            "type": "scattergeo"
           }
          ],
          "scattergl": [
           {
            "marker": {
             "colorbar": {
              "outlinewidth": 0,
              "ticks": ""
             }
            },
            "type": "scattergl"
           }
          ],
          "scattermap": [
           {
            "marker": {
             "colorbar": {
              "outlinewidth": 0,
              "ticks": ""
             }
            },
            "type": "scattermap"
           }
          ],
          "scattermapbox": [
           {
            "marker": {
             "colorbar": {
              "outlinewidth": 0,
              "ticks": ""
             }
            },
            "type": "scattermapbox"
           }
          ],
          "scatterpolar": [
           {
            "marker": {
             "colorbar": {
              "outlinewidth": 0,
              "ticks": ""
             }
            },
            "type": "scatterpolar"
           }
          ],
          "scatterpolargl": [
           {
            "marker": {
             "colorbar": {
              "outlinewidth": 0,
              "ticks": ""
             }
            },
            "type": "scatterpolargl"
           }
          ],
          "scatterternary": [
           {
            "marker": {
             "colorbar": {
              "outlinewidth": 0,
              "ticks": ""
             }
            },
            "type": "scatterternary"
           }
          ],
          "surface": [
           {
            "colorbar": {
             "outlinewidth": 0,
             "ticks": ""
            },
            "colorscale": [
             [
              0,
              "#0d0887"
             ],
             [
              0.1111111111111111,
              "#46039f"
             ],
             [
              0.2222222222222222,
              "#7201a8"
             ],
             [
              0.3333333333333333,
              "#9c179e"
             ],
             [
              0.4444444444444444,
              "#bd3786"
             ],
             [
              0.5555555555555556,
              "#d8576b"
             ],
             [
              0.6666666666666666,
              "#ed7953"
             ],
             [
              0.7777777777777778,
              "#fb9f3a"
             ],
             [
              0.8888888888888888,
              "#fdca26"
             ],
             [
              1,
              "#f0f921"
             ]
            ],
            "type": "surface"
           }
          ],
          "table": [
           {
            "cells": {
             "fill": {
              "color": "#EBF0F8"
             },
             "line": {
              "color": "white"
             }
            },
            "header": {
             "fill": {
              "color": "#C8D4E3"
             },
             "line": {
              "color": "white"
             }
            },
            "type": "table"
           }
          ]
         },
         "layout": {
          "annotationdefaults": {
           "arrowcolor": "#2a3f5f",
           "arrowhead": 0,
           "arrowwidth": 1
          },
          "autotypenumbers": "strict",
          "coloraxis": {
           "colorbar": {
            "outlinewidth": 0,
            "ticks": ""
           }
          },
          "colorscale": {
           "diverging": [
            [
             0,
             "#8e0152"
            ],
            [
             0.1,
             "#c51b7d"
            ],
            [
             0.2,
             "#de77ae"
            ],
            [
             0.3,
             "#f1b6da"
            ],
            [
             0.4,
             "#fde0ef"
            ],
            [
             0.5,
             "#f7f7f7"
            ],
            [
             0.6,
             "#e6f5d0"
            ],
            [
             0.7,
             "#b8e186"
            ],
            [
             0.8,
             "#7fbc41"
            ],
            [
             0.9,
             "#4d9221"
            ],
            [
             1,
             "#276419"
            ]
           ],
           "sequential": [
            [
             0,
             "#0d0887"
            ],
            [
             0.1111111111111111,
             "#46039f"
            ],
            [
             0.2222222222222222,
             "#7201a8"
            ],
            [
             0.3333333333333333,
             "#9c179e"
            ],
            [
             0.4444444444444444,
             "#bd3786"
            ],
            [
             0.5555555555555556,
             "#d8576b"
            ],
            [
             0.6666666666666666,
             "#ed7953"
            ],
            [
             0.7777777777777778,
             "#fb9f3a"
            ],
            [
             0.8888888888888888,
             "#fdca26"
            ],
            [
             1,
             "#f0f921"
            ]
           ],
           "sequentialminus": [
            [
             0,
             "#0d0887"
            ],
            [
             0.1111111111111111,
             "#46039f"
            ],
            [
             0.2222222222222222,
             "#7201a8"
            ],
            [
             0.3333333333333333,
             "#9c179e"
            ],
            [
             0.4444444444444444,
             "#bd3786"
            ],
            [
             0.5555555555555556,
             "#d8576b"
            ],
            [
             0.6666666666666666,
             "#ed7953"
            ],
            [
             0.7777777777777778,
             "#fb9f3a"
            ],
            [
             0.8888888888888888,
             "#fdca26"
            ],
            [
             1,
             "#f0f921"
            ]
           ]
          },
          "colorway": [
           "#636efa",
           "#EF553B",
           "#00cc96",
           "#ab63fa",
           "#FFA15A",
           "#19d3f3",
           "#FF6692",
           "#B6E880",
           "#FF97FF",
           "#FECB52"
          ],
          "font": {
           "color": "#2a3f5f"
          },
          "geo": {
           "bgcolor": "white",
           "lakecolor": "white",
           "landcolor": "#E5ECF6",
           "showlakes": true,
           "showland": true,
           "subunitcolor": "white"
          },
          "hoverlabel": {
           "align": "left"
          },
          "hovermode": "closest",
          "mapbox": {
           "style": "light"
          },
          "paper_bgcolor": "white",
          "plot_bgcolor": "#E5ECF6",
          "polar": {
           "angularaxis": {
            "gridcolor": "white",
            "linecolor": "white",
            "ticks": ""
           },
           "bgcolor": "#E5ECF6",
           "radialaxis": {
            "gridcolor": "white",
            "linecolor": "white",
            "ticks": ""
           }
          },
          "scene": {
           "xaxis": {
            "backgroundcolor": "#E5ECF6",
            "gridcolor": "white",
            "gridwidth": 2,
            "linecolor": "white",
            "showbackground": true,
            "ticks": "",
            "zerolinecolor": "white"
           },
           "yaxis": {
            "backgroundcolor": "#E5ECF6",
            "gridcolor": "white",
            "gridwidth": 2,
            "linecolor": "white",
            "showbackground": true,
            "ticks": "",
            "zerolinecolor": "white"
           },
           "zaxis": {
            "backgroundcolor": "#E5ECF6",
            "gridcolor": "white",
            "gridwidth": 2,
            "linecolor": "white",
            "showbackground": true,
            "ticks": "",
            "zerolinecolor": "white"
           }
          },
          "shapedefaults": {
           "line": {
            "color": "#2a3f5f"
           }
          },
          "ternary": {
           "aaxis": {
            "gridcolor": "white",
            "linecolor": "white",
            "ticks": ""
           },
           "baxis": {
            "gridcolor": "white",
            "linecolor": "white",
            "ticks": ""
           },
           "bgcolor": "#E5ECF6",
           "caxis": {
            "gridcolor": "white",
            "linecolor": "white",
            "ticks": ""
           }
          },
          "title": {
           "x": 0.05
          },
          "xaxis": {
           "automargin": true,
           "gridcolor": "white",
           "linecolor": "white",
           "ticks": "",
           "title": {
            "standoff": 15
           },
           "zerolinecolor": "white",
           "zerolinewidth": 2
          },
          "yaxis": {
           "automargin": true,
           "gridcolor": "white",
           "linecolor": "white",
           "ticks": "",
           "title": {
            "standoff": 15
           },
           "zerolinecolor": "white",
           "zerolinewidth": 2
          }
         }
        },
        "title": {
         "text": "Top 50 Term Frequencies"
        },
        "xaxis": {
         "anchor": "y",
         "domain": [
          0,
          1
         ],
         "title": {
          "text": "term"
         }
        },
        "yaxis": {
         "anchor": "x",
         "domain": [
          0,
          1
         ],
         "title": {
          "text": "frequency"
         }
        }
       }
      }
     },
     "metadata": {},
     "output_type": "display_data"
    },
    {
     "data": {
      "application/vnd.plotly.v1+json": {
       "config": {
        "plotlyServerURL": "https://plot.ly"
       },
       "data": [
        {
         "hovertemplate": "label=%{x}<br>count=%{y}<extra></extra>",
         "legendgroup": "",
         "marker": {
          "color": "#636efa",
          "pattern": {
           "shape": ""
          }
         },
         "name": "",
         "orientation": "v",
         "showlegend": false,
         "textposition": "auto",
         "type": "bar",
         "x": {
          "bdata": "AAAAAAAAAAAAAAAAAADwvwAAAAAAAPA/",
          "dtype": "f8"
         },
         "xaxis": "x",
         "y": {
          "bdata": "pwE7AW0A",
          "dtype": "i2"
         },
         "yaxis": "y"
        }
       ],
       "layout": {
        "barmode": "relative",
        "legend": {
         "tracegroupgap": 0
        },
        "template": {
         "data": {
          "bar": [
           {
            "error_x": {
             "color": "#2a3f5f"
            },
            "error_y": {
             "color": "#2a3f5f"
            },
            "marker": {
             "line": {
              "color": "#E5ECF6",
              "width": 0.5
             },
             "pattern": {
              "fillmode": "overlay",
              "size": 10,
              "solidity": 0.2
             }
            },
            "type": "bar"
           }
          ],
          "barpolar": [
           {
            "marker": {
             "line": {
              "color": "#E5ECF6",
              "width": 0.5
             },
             "pattern": {
              "fillmode": "overlay",
              "size": 10,
              "solidity": 0.2
             }
            },
            "type": "barpolar"
           }
          ],
          "carpet": [
           {
            "aaxis": {
             "endlinecolor": "#2a3f5f",
             "gridcolor": "white",
             "linecolor": "white",
             "minorgridcolor": "white",
             "startlinecolor": "#2a3f5f"
            },
            "baxis": {
             "endlinecolor": "#2a3f5f",
             "gridcolor": "white",
             "linecolor": "white",
             "minorgridcolor": "white",
             "startlinecolor": "#2a3f5f"
            },
            "type": "carpet"
           }
          ],
          "choropleth": [
           {
            "colorbar": {
             "outlinewidth": 0,
             "ticks": ""
            },
            "type": "choropleth"
           }
          ],
          "contour": [
           {
            "colorbar": {
             "outlinewidth": 0,
             "ticks": ""
            },
            "colorscale": [
             [
              0,
              "#0d0887"
             ],
             [
              0.1111111111111111,
              "#46039f"
             ],
             [
              0.2222222222222222,
              "#7201a8"
             ],
             [
              0.3333333333333333,
              "#9c179e"
             ],
             [
              0.4444444444444444,
              "#bd3786"
             ],
             [
              0.5555555555555556,
              "#d8576b"
             ],
             [
              0.6666666666666666,
              "#ed7953"
             ],
             [
              0.7777777777777778,
              "#fb9f3a"
             ],
             [
              0.8888888888888888,
              "#fdca26"
             ],
             [
              1,
              "#f0f921"
             ]
            ],
            "type": "contour"
           }
          ],
          "contourcarpet": [
           {
            "colorbar": {
             "outlinewidth": 0,
             "ticks": ""
            },
            "type": "contourcarpet"
           }
          ],
          "heatmap": [
           {
            "colorbar": {
             "outlinewidth": 0,
             "ticks": ""
            },
            "colorscale": [
             [
              0,
              "#0d0887"
             ],
             [
              0.1111111111111111,
              "#46039f"
             ],
             [
              0.2222222222222222,
              "#7201a8"
             ],
             [
              0.3333333333333333,
              "#9c179e"
             ],
             [
              0.4444444444444444,
              "#bd3786"
             ],
             [
              0.5555555555555556,
              "#d8576b"
             ],
             [
              0.6666666666666666,
              "#ed7953"
             ],
             [
              0.7777777777777778,
              "#fb9f3a"
             ],
             [
              0.8888888888888888,
              "#fdca26"
             ],
             [
              1,
              "#f0f921"
             ]
            ],
            "type": "heatmap"
           }
          ],
          "histogram": [
           {
            "marker": {
             "pattern": {
              "fillmode": "overlay",
              "size": 10,
              "solidity": 0.2
             }
            },
            "type": "histogram"
           }
          ],
          "histogram2d": [
           {
            "colorbar": {
             "outlinewidth": 0,
             "ticks": ""
            },
            "colorscale": [
             [
              0,
              "#0d0887"
             ],
             [
              0.1111111111111111,
              "#46039f"
             ],
             [
              0.2222222222222222,
              "#7201a8"
             ],
             [
              0.3333333333333333,
              "#9c179e"
             ],
             [
              0.4444444444444444,
              "#bd3786"
             ],
             [
              0.5555555555555556,
              "#d8576b"
             ],
             [
              0.6666666666666666,
              "#ed7953"
             ],
             [
              0.7777777777777778,
              "#fb9f3a"
             ],
             [
              0.8888888888888888,
              "#fdca26"
             ],
             [
              1,
              "#f0f921"
             ]
            ],
            "type": "histogram2d"
           }
          ],
          "histogram2dcontour": [
           {
            "colorbar": {
             "outlinewidth": 0,
             "ticks": ""
            },
            "colorscale": [
             [
              0,
              "#0d0887"
             ],
             [
              0.1111111111111111,
              "#46039f"
             ],
             [
              0.2222222222222222,
              "#7201a8"
             ],
             [
              0.3333333333333333,
              "#9c179e"
             ],
             [
              0.4444444444444444,
              "#bd3786"
             ],
             [
              0.5555555555555556,
              "#d8576b"
             ],
             [
              0.6666666666666666,
              "#ed7953"
             ],
             [
              0.7777777777777778,
              "#fb9f3a"
             ],
             [
              0.8888888888888888,
              "#fdca26"
             ],
             [
              1,
              "#f0f921"
             ]
            ],
            "type": "histogram2dcontour"
           }
          ],
          "mesh3d": [
           {
            "colorbar": {
             "outlinewidth": 0,
             "ticks": ""
            },
            "type": "mesh3d"
           }
          ],
          "parcoords": [
           {
            "line": {
             "colorbar": {
              "outlinewidth": 0,
              "ticks": ""
             }
            },
            "type": "parcoords"
           }
          ],
          "pie": [
           {
            "automargin": true,
            "type": "pie"
           }
          ],
          "scatter": [
           {
            "fillpattern": {
             "fillmode": "overlay",
             "size": 10,
             "solidity": 0.2
            },
            "type": "scatter"
           }
          ],
          "scatter3d": [
           {
            "line": {
             "colorbar": {
              "outlinewidth": 0,
              "ticks": ""
             }
            },
            "marker": {
             "colorbar": {
              "outlinewidth": 0,
              "ticks": ""
             }
            },
            "type": "scatter3d"
           }
          ],
          "scattercarpet": [
           {
            "marker": {
             "colorbar": {
              "outlinewidth": 0,
              "ticks": ""
             }
            },
            "type": "scattercarpet"
           }
          ],
          "scattergeo": [
           {
            "marker": {
             "colorbar": {
              "outlinewidth": 0,
              "ticks": ""
             }
            },
            "type": "scattergeo"
           }
          ],
          "scattergl": [
           {
            "marker": {
             "colorbar": {
              "outlinewidth": 0,
              "ticks": ""
             }
            },
            "type": "scattergl"
           }
          ],
          "scattermap": [
           {
            "marker": {
             "colorbar": {
              "outlinewidth": 0,
              "ticks": ""
             }
            },
            "type": "scattermap"
           }
          ],
          "scattermapbox": [
           {
            "marker": {
             "colorbar": {
              "outlinewidth": 0,
              "ticks": ""
             }
            },
            "type": "scattermapbox"
           }
          ],
          "scatterpolar": [
           {
            "marker": {
             "colorbar": {
              "outlinewidth": 0,
              "ticks": ""
             }
            },
            "type": "scatterpolar"
           }
          ],
          "scatterpolargl": [
           {
            "marker": {
             "colorbar": {
              "outlinewidth": 0,
              "ticks": ""
             }
            },
            "type": "scatterpolargl"
           }
          ],
          "scatterternary": [
           {
            "marker": {
             "colorbar": {
              "outlinewidth": 0,
              "ticks": ""
             }
            },
            "type": "scatterternary"
           }
          ],
          "surface": [
           {
            "colorbar": {
             "outlinewidth": 0,
             "ticks": ""
            },
            "colorscale": [
             [
              0,
              "#0d0887"
             ],
             [
              0.1111111111111111,
              "#46039f"
             ],
             [
              0.2222222222222222,
              "#7201a8"
             ],
             [
              0.3333333333333333,
              "#9c179e"
             ],
             [
              0.4444444444444444,
              "#bd3786"
             ],
             [
              0.5555555555555556,
              "#d8576b"
             ],
             [
              0.6666666666666666,
              "#ed7953"
             ],
             [
              0.7777777777777778,
              "#fb9f3a"
             ],
             [
              0.8888888888888888,
              "#fdca26"
             ],
             [
              1,
              "#f0f921"
             ]
            ],
            "type": "surface"
           }
          ],
          "table": [
           {
            "cells": {
             "fill": {
              "color": "#EBF0F8"
             },
             "line": {
              "color": "white"
             }
            },
            "header": {
             "fill": {
              "color": "#C8D4E3"
             },
             "line": {
              "color": "white"
             }
            },
            "type": "table"
           }
          ]
         },
         "layout": {
          "annotationdefaults": {
           "arrowcolor": "#2a3f5f",
           "arrowhead": 0,
           "arrowwidth": 1
          },
          "autotypenumbers": "strict",
          "coloraxis": {
           "colorbar": {
            "outlinewidth": 0,
            "ticks": ""
           }
          },
          "colorscale": {
           "diverging": [
            [
             0,
             "#8e0152"
            ],
            [
             0.1,
             "#c51b7d"
            ],
            [
             0.2,
             "#de77ae"
            ],
            [
             0.3,
             "#f1b6da"
            ],
            [
             0.4,
             "#fde0ef"
            ],
            [
             0.5,
             "#f7f7f7"
            ],
            [
             0.6,
             "#e6f5d0"
            ],
            [
             0.7,
             "#b8e186"
            ],
            [
             0.8,
             "#7fbc41"
            ],
            [
             0.9,
             "#4d9221"
            ],
            [
             1,
             "#276419"
            ]
           ],
           "sequential": [
            [
             0,
             "#0d0887"
            ],
            [
             0.1111111111111111,
             "#46039f"
            ],
            [
             0.2222222222222222,
             "#7201a8"
            ],
            [
             0.3333333333333333,
             "#9c179e"
            ],
            [
             0.4444444444444444,
             "#bd3786"
            ],
            [
             0.5555555555555556,
             "#d8576b"
            ],
            [
             0.6666666666666666,
             "#ed7953"
            ],
            [
             0.7777777777777778,
             "#fb9f3a"
            ],
            [
             0.8888888888888888,
             "#fdca26"
            ],
            [
             1,
             "#f0f921"
            ]
           ],
           "sequentialminus": [
            [
             0,
             "#0d0887"
            ],
            [
             0.1111111111111111,
             "#46039f"
            ],
            [
             0.2222222222222222,
             "#7201a8"
            ],
            [
             0.3333333333333333,
             "#9c179e"
            ],
            [
             0.4444444444444444,
             "#bd3786"
            ],
            [
             0.5555555555555556,
             "#d8576b"
            ],
            [
             0.6666666666666666,
             "#ed7953"
            ],
            [
             0.7777777777777778,
             "#fb9f3a"
            ],
            [
             0.8888888888888888,
             "#fdca26"
            ],
            [
             1,
             "#f0f921"
            ]
           ]
          },
          "colorway": [
           "#636efa",
           "#EF553B",
           "#00cc96",
           "#ab63fa",
           "#FFA15A",
           "#19d3f3",
           "#FF6692",
           "#B6E880",
           "#FF97FF",
           "#FECB52"
          ],
          "font": {
           "color": "#2a3f5f"
          },
          "geo": {
           "bgcolor": "white",
           "lakecolor": "white",
           "landcolor": "#E5ECF6",
           "showlakes": true,
           "showland": true,
           "subunitcolor": "white"
          },
          "hoverlabel": {
           "align": "left"
          },
          "hovermode": "closest",
          "mapbox": {
           "style": "light"
          },
          "paper_bgcolor": "white",
          "plot_bgcolor": "#E5ECF6",
          "polar": {
           "angularaxis": {
            "gridcolor": "white",
            "linecolor": "white",
            "ticks": ""
           },
           "bgcolor": "#E5ECF6",
           "radialaxis": {
            "gridcolor": "white",
            "linecolor": "white",
            "ticks": ""
           }
          },
          "scene": {
           "xaxis": {
            "backgroundcolor": "#E5ECF6",
            "gridcolor": "white",
            "gridwidth": 2,
            "linecolor": "white",
            "showbackground": true,
            "ticks": "",
            "zerolinecolor": "white"
           },
           "yaxis": {
            "backgroundcolor": "#E5ECF6",
            "gridcolor": "white",
            "gridwidth": 2,
            "linecolor": "white",
            "showbackground": true,
            "ticks": "",
            "zerolinecolor": "white"
           },
           "zaxis": {
            "backgroundcolor": "#E5ECF6",
            "gridcolor": "white",
            "gridwidth": 2,
            "linecolor": "white",
            "showbackground": true,
            "ticks": "",
            "zerolinecolor": "white"
           }
          },
          "shapedefaults": {
           "line": {
            "color": "#2a3f5f"
           }
          },
          "ternary": {
           "aaxis": {
            "gridcolor": "white",
            "linecolor": "white",
            "ticks": ""
           },
           "baxis": {
            "gridcolor": "white",
            "linecolor": "white",
            "ticks": ""
           },
           "bgcolor": "#E5ECF6",
           "caxis": {
            "gridcolor": "white",
            "linecolor": "white",
            "ticks": ""
           }
          },
          "title": {
           "x": 0.05
          },
          "xaxis": {
           "automargin": true,
           "gridcolor": "white",
           "linecolor": "white",
           "ticks": "",
           "title": {
            "standoff": 15
           },
           "zerolinecolor": "white",
           "zerolinewidth": 2
          },
          "yaxis": {
           "automargin": true,
           "gridcolor": "white",
           "linecolor": "white",
           "ticks": "",
           "title": {
            "standoff": 15
           },
           "zerolinecolor": "white",
           "zerolinewidth": 2
          }
         }
        },
        "title": {
         "text": "Label distribution"
        },
        "xaxis": {
         "anchor": "y",
         "domain": [
          0,
          1
         ],
         "title": {
          "text": "label"
         }
        },
        "yaxis": {
         "anchor": "x",
         "domain": [
          0,
          1
         ],
         "title": {
          "text": "count"
         }
        }
       }
      }
     },
     "metadata": {},
     "output_type": "display_data"
    },
    {
     "data": {
      "application/vnd.plotly.v1+json": {
       "config": {
        "plotlyServerURL": "https://plot.ly"
       },
       "data": [
        {
         "alignmentgroup": "True",
         "hovertemplate": "variable=-1<br>subreddit=%{x}<br>value=%{y}<extra></extra>",
         "legendgroup": "-1",
         "marker": {
          "color": "#636efa",
          "pattern": {
           "shape": ""
          }
         },
         "name": "-1",
         "offsetgroup": "-1",
         "orientation": "v",
         "showlegend": true,
         "textposition": "auto",
         "type": "bar",
         "x": [
          "StockMarket",
          "stocks",
          "stockstobuytoday",
          "wallstreetbets"
         ],
         "xaxis": "x",
         "y": {
          "bdata": "ggB5AA4AMgA=",
          "dtype": "i2"
         },
         "yaxis": "y"
        },
        {
         "alignmentgroup": "True",
         "hovertemplate": "variable=0<br>subreddit=%{x}<br>value=%{y}<extra></extra>",
         "legendgroup": "0",
         "marker": {
          "color": "#EF553B",
          "pattern": {
           "shape": ""
          }
         },
         "name": "0",
         "offsetgroup": "0",
         "orientation": "v",
         "showlegend": true,
         "textposition": "auto",
         "type": "bar",
         "x": [
          "StockMarket",
          "stocks",
          "stockstobuytoday",
          "wallstreetbets"
         ],
         "xaxis": "x",
         "y": {
          "bdata": "ZXd8Tw==",
          "dtype": "i1"
         },
         "yaxis": "y"
        },
        {
         "alignmentgroup": "True",
         "hovertemplate": "variable=1<br>subreddit=%{x}<br>value=%{y}<extra></extra>",
         "legendgroup": "1",
         "marker": {
          "color": "#00cc96",
          "pattern": {
           "shape": ""
          }
         },
         "name": "1",
         "offsetgroup": "1",
         "orientation": "v",
         "showlegend": true,
         "textposition": "auto",
         "type": "bar",
         "x": [
          "StockMarket",
          "stocks",
          "stockstobuytoday",
          "wallstreetbets"
         ],
         "xaxis": "x",
         "y": {
          "bdata": "EyIkFA==",
          "dtype": "i1"
         },
         "yaxis": "y"
        }
       ],
       "layout": {
        "barmode": "group",
        "legend": {
         "title": {
          "text": "variable"
         },
         "tracegroupgap": 0
        },
        "template": {
         "data": {
          "bar": [
           {
            "error_x": {
             "color": "#2a3f5f"
            },
            "error_y": {
             "color": "#2a3f5f"
            },
            "marker": {
             "line": {
              "color": "#E5ECF6",
              "width": 0.5
             },
             "pattern": {
              "fillmode": "overlay",
              "size": 10,
              "solidity": 0.2
             }
            },
            "type": "bar"
           }
          ],
          "barpolar": [
           {
            "marker": {
             "line": {
              "color": "#E5ECF6",
              "width": 0.5
             },
             "pattern": {
              "fillmode": "overlay",
              "size": 10,
              "solidity": 0.2
             }
            },
            "type": "barpolar"
           }
          ],
          "carpet": [
           {
            "aaxis": {
             "endlinecolor": "#2a3f5f",
             "gridcolor": "white",
             "linecolor": "white",
             "minorgridcolor": "white",
             "startlinecolor": "#2a3f5f"
            },
            "baxis": {
             "endlinecolor": "#2a3f5f",
             "gridcolor": "white",
             "linecolor": "white",
             "minorgridcolor": "white",
             "startlinecolor": "#2a3f5f"
            },
            "type": "carpet"
           }
          ],
          "choropleth": [
           {
            "colorbar": {
             "outlinewidth": 0,
             "ticks": ""
            },
            "type": "choropleth"
           }
          ],
          "contour": [
           {
            "colorbar": {
             "outlinewidth": 0,
             "ticks": ""
            },
            "colorscale": [
             [
              0,
              "#0d0887"
             ],
             [
              0.1111111111111111,
              "#46039f"
             ],
             [
              0.2222222222222222,
              "#7201a8"
             ],
             [
              0.3333333333333333,
              "#9c179e"
             ],
             [
              0.4444444444444444,
              "#bd3786"
             ],
             [
              0.5555555555555556,
              "#d8576b"
             ],
             [
              0.6666666666666666,
              "#ed7953"
             ],
             [
              0.7777777777777778,
              "#fb9f3a"
             ],
             [
              0.8888888888888888,
              "#fdca26"
             ],
             [
              1,
              "#f0f921"
             ]
            ],
            "type": "contour"
           }
          ],
          "contourcarpet": [
           {
            "colorbar": {
             "outlinewidth": 0,
             "ticks": ""
            },
            "type": "contourcarpet"
           }
          ],
          "heatmap": [
           {
            "colorbar": {
             "outlinewidth": 0,
             "ticks": ""
            },
            "colorscale": [
             [
              0,
              "#0d0887"
             ],
             [
              0.1111111111111111,
              "#46039f"
             ],
             [
              0.2222222222222222,
              "#7201a8"
             ],
             [
              0.3333333333333333,
              "#9c179e"
             ],
             [
              0.4444444444444444,
              "#bd3786"
             ],
             [
              0.5555555555555556,
              "#d8576b"
             ],
             [
              0.6666666666666666,
              "#ed7953"
             ],
             [
              0.7777777777777778,
              "#fb9f3a"
             ],
             [
              0.8888888888888888,
              "#fdca26"
             ],
             [
              1,
              "#f0f921"
             ]
            ],
            "type": "heatmap"
           }
          ],
          "histogram": [
           {
            "marker": {
             "pattern": {
              "fillmode": "overlay",
              "size": 10,
              "solidity": 0.2
             }
            },
            "type": "histogram"
           }
          ],
          "histogram2d": [
           {
            "colorbar": {
             "outlinewidth": 0,
             "ticks": ""
            },
            "colorscale": [
             [
              0,
              "#0d0887"
             ],
             [
              0.1111111111111111,
              "#46039f"
             ],
             [
              0.2222222222222222,
              "#7201a8"
             ],
             [
              0.3333333333333333,
              "#9c179e"
             ],
             [
              0.4444444444444444,
              "#bd3786"
             ],
             [
              0.5555555555555556,
              "#d8576b"
             ],
             [
              0.6666666666666666,
              "#ed7953"
             ],
             [
              0.7777777777777778,
              "#fb9f3a"
             ],
             [
              0.8888888888888888,
              "#fdca26"
             ],
             [
              1,
              "#f0f921"
             ]
            ],
            "type": "histogram2d"
           }
          ],
          "histogram2dcontour": [
           {
            "colorbar": {
             "outlinewidth": 0,
             "ticks": ""
            },
            "colorscale": [
             [
              0,
              "#0d0887"
             ],
             [
              0.1111111111111111,
              "#46039f"
             ],
             [
              0.2222222222222222,
              "#7201a8"
             ],
             [
              0.3333333333333333,
              "#9c179e"
             ],
             [
              0.4444444444444444,
              "#bd3786"
             ],
             [
              0.5555555555555556,
              "#d8576b"
             ],
             [
              0.6666666666666666,
              "#ed7953"
             ],
             [
              0.7777777777777778,
              "#fb9f3a"
             ],
             [
              0.8888888888888888,
              "#fdca26"
             ],
             [
              1,
              "#f0f921"
             ]
            ],
            "type": "histogram2dcontour"
           }
          ],
          "mesh3d": [
           {
            "colorbar": {
             "outlinewidth": 0,
             "ticks": ""
            },
            "type": "mesh3d"
           }
          ],
          "parcoords": [
           {
            "line": {
             "colorbar": {
              "outlinewidth": 0,
              "ticks": ""
             }
            },
            "type": "parcoords"
           }
          ],
          "pie": [
           {
            "automargin": true,
            "type": "pie"
           }
          ],
          "scatter": [
           {
            "fillpattern": {
             "fillmode": "overlay",
             "size": 10,
             "solidity": 0.2
            },
            "type": "scatter"
           }
          ],
          "scatter3d": [
           {
            "line": {
             "colorbar": {
              "outlinewidth": 0,
              "ticks": ""
             }
            },
            "marker": {
             "colorbar": {
              "outlinewidth": 0,
              "ticks": ""
             }
            },
            "type": "scatter3d"
           }
          ],
          "scattercarpet": [
           {
            "marker": {
             "colorbar": {
              "outlinewidth": 0,
              "ticks": ""
             }
            },
            "type": "scattercarpet"
           }
          ],
          "scattergeo": [
           {
            "marker": {
             "colorbar": {
              "outlinewidth": 0,
              "ticks": ""
             }
            },
            "type": "scattergeo"
           }
          ],
          "scattergl": [
           {
            "marker": {
             "colorbar": {
              "outlinewidth": 0,
              "ticks": ""
             }
            },
            "type": "scattergl"
           }
          ],
          "scattermap": [
           {
            "marker": {
             "colorbar": {
              "outlinewidth": 0,
              "ticks": ""
             }
            },
            "type": "scattermap"
           }
          ],
          "scattermapbox": [
           {
            "marker": {
             "colorbar": {
              "outlinewidth": 0,
              "ticks": ""
             }
            },
            "type": "scattermapbox"
           }
          ],
          "scatterpolar": [
           {
            "marker": {
             "colorbar": {
              "outlinewidth": 0,
              "ticks": ""
             }
            },
            "type": "scatterpolar"
           }
          ],
          "scatterpolargl": [
           {
            "marker": {
             "colorbar": {
              "outlinewidth": 0,
              "ticks": ""
             }
            },
            "type": "scatterpolargl"
           }
          ],
          "scatterternary": [
           {
            "marker": {
             "colorbar": {
              "outlinewidth": 0,
              "ticks": ""
             }
            },
            "type": "scatterternary"
           }
          ],
          "surface": [
           {
            "colorbar": {
             "outlinewidth": 0,
             "ticks": ""
            },
            "colorscale": [
             [
              0,
              "#0d0887"
             ],
             [
              0.1111111111111111,
              "#46039f"
             ],
             [
              0.2222222222222222,
              "#7201a8"
             ],
             [
              0.3333333333333333,
              "#9c179e"
             ],
             [
              0.4444444444444444,
              "#bd3786"
             ],
             [
              0.5555555555555556,
              "#d8576b"
             ],
             [
              0.6666666666666666,
              "#ed7953"
             ],
             [
              0.7777777777777778,
              "#fb9f3a"
             ],
             [
              0.8888888888888888,
              "#fdca26"
             ],
             [
              1,
              "#f0f921"
             ]
            ],
            "type": "surface"
           }
          ],
          "table": [
           {
            "cells": {
             "fill": {
              "color": "#EBF0F8"
             },
             "line": {
              "color": "white"
             }
            },
            "header": {
             "fill": {
              "color": "#C8D4E3"
             },
             "line": {
              "color": "white"
             }
            },
            "type": "table"
           }
          ]
         },
         "layout": {
          "annotationdefaults": {
           "arrowcolor": "#2a3f5f",
           "arrowhead": 0,
           "arrowwidth": 1
          },
          "autotypenumbers": "strict",
          "coloraxis": {
           "colorbar": {
            "outlinewidth": 0,
            "ticks": ""
           }
          },
          "colorscale": {
           "diverging": [
            [
             0,
             "#8e0152"
            ],
            [
             0.1,
             "#c51b7d"
            ],
            [
             0.2,
             "#de77ae"
            ],
            [
             0.3,
             "#f1b6da"
            ],
            [
             0.4,
             "#fde0ef"
            ],
            [
             0.5,
             "#f7f7f7"
            ],
            [
             0.6,
             "#e6f5d0"
            ],
            [
             0.7,
             "#b8e186"
            ],
            [
             0.8,
             "#7fbc41"
            ],
            [
             0.9,
             "#4d9221"
            ],
            [
             1,
             "#276419"
            ]
           ],
           "sequential": [
            [
             0,
             "#0d0887"
            ],
            [
             0.1111111111111111,
             "#46039f"
            ],
            [
             0.2222222222222222,
             "#7201a8"
            ],
            [
             0.3333333333333333,
             "#9c179e"
            ],
            [
             0.4444444444444444,
             "#bd3786"
            ],
            [
             0.5555555555555556,
             "#d8576b"
            ],
            [
             0.6666666666666666,
             "#ed7953"
            ],
            [
             0.7777777777777778,
             "#fb9f3a"
            ],
            [
             0.8888888888888888,
             "#fdca26"
            ],
            [
             1,
             "#f0f921"
            ]
           ],
           "sequentialminus": [
            [
             0,
             "#0d0887"
            ],
            [
             0.1111111111111111,
             "#46039f"
            ],
            [
             0.2222222222222222,
             "#7201a8"
            ],
            [
             0.3333333333333333,
             "#9c179e"
            ],
            [
             0.4444444444444444,
             "#bd3786"
            ],
            [
             0.5555555555555556,
             "#d8576b"
            ],
            [
             0.6666666666666666,
             "#ed7953"
            ],
            [
             0.7777777777777778,
             "#fb9f3a"
            ],
            [
             0.8888888888888888,
             "#fdca26"
            ],
            [
             1,
             "#f0f921"
            ]
           ]
          },
          "colorway": [
           "#636efa",
           "#EF553B",
           "#00cc96",
           "#ab63fa",
           "#FFA15A",
           "#19d3f3",
           "#FF6692",
           "#B6E880",
           "#FF97FF",
           "#FECB52"
          ],
          "font": {
           "color": "#2a3f5f"
          },
          "geo": {
           "bgcolor": "white",
           "lakecolor": "white",
           "landcolor": "#E5ECF6",
           "showlakes": true,
           "showland": true,
           "subunitcolor": "white"
          },
          "hoverlabel": {
           "align": "left"
          },
          "hovermode": "closest",
          "mapbox": {
           "style": "light"
          },
          "paper_bgcolor": "white",
          "plot_bgcolor": "#E5ECF6",
          "polar": {
           "angularaxis": {
            "gridcolor": "white",
            "linecolor": "white",
            "ticks": ""
           },
           "bgcolor": "#E5ECF6",
           "radialaxis": {
            "gridcolor": "white",
            "linecolor": "white",
            "ticks": ""
           }
          },
          "scene": {
           "xaxis": {
            "backgroundcolor": "#E5ECF6",
            "gridcolor": "white",
            "gridwidth": 2,
            "linecolor": "white",
            "showbackground": true,
            "ticks": "",
            "zerolinecolor": "white"
           },
           "yaxis": {
            "backgroundcolor": "#E5ECF6",
            "gridcolor": "white",
            "gridwidth": 2,
            "linecolor": "white",
            "showbackground": true,
            "ticks": "",
            "zerolinecolor": "white"
           },
           "zaxis": {
            "backgroundcolor": "#E5ECF6",
            "gridcolor": "white",
            "gridwidth": 2,
            "linecolor": "white",
            "showbackground": true,
            "ticks": "",
            "zerolinecolor": "white"
           }
          },
          "shapedefaults": {
           "line": {
            "color": "#2a3f5f"
           }
          },
          "ternary": {
           "aaxis": {
            "gridcolor": "white",
            "linecolor": "white",
            "ticks": ""
           },
           "baxis": {
            "gridcolor": "white",
            "linecolor": "white",
            "ticks": ""
           },
           "bgcolor": "#E5ECF6",
           "caxis": {
            "gridcolor": "white",
            "linecolor": "white",
            "ticks": ""
           }
          },
          "title": {
           "x": 0.05
          },
          "xaxis": {
           "automargin": true,
           "gridcolor": "white",
           "linecolor": "white",
           "ticks": "",
           "title": {
            "standoff": 15
           },
           "zerolinecolor": "white",
           "zerolinewidth": 2
          },
          "yaxis": {
           "automargin": true,
           "gridcolor": "white",
           "linecolor": "white",
           "ticks": "",
           "title": {
            "standoff": 15
           },
           "zerolinecolor": "white",
           "zerolinewidth": 2
          }
         }
        },
        "title": {
         "text": "Subreddit × Label distribution"
        },
        "xaxis": {
         "anchor": "y",
         "domain": [
          0,
          1
         ],
         "title": {
          "text": "subreddit"
         }
        },
        "yaxis": {
         "anchor": "x",
         "domain": [
          0,
          1
         ],
         "range": [
          0,
          304
         ],
         "title": {
          "text": "value"
         }
        }
       }
      }
     },
     "metadata": {},
     "output_type": "display_data"
    },
    {
     "data": {
      "application/vnd.plotly.v1+json": {
       "config": {
        "plotlyServerURL": "https://plot.ly"
       },
       "data": [
        {
         "hovertemplate": "x=%{x}<br>label=%{y}<extra></extra>",
         "legendgroup": "",
         "marker": {
          "color": "#636efa",
          "symbol": "circle"
         },
         "mode": "markers",
         "name": "",
         "orientation": "v",
         "showlegend": false,
         "type": "scatter",
         "x": {
          "bdata": "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",
          "dtype": "i2"
         },
         "xaxis": "x",
         "y": {
          "bdata": "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",
          "dtype": "f8"
         },
         "yaxis": "y"
        }
       ],
       "layout": {
        "legend": {
         "tracegroupgap": 0
        },
        "template": {
         "data": {
          "bar": [
           {
            "error_x": {
             "color": "#2a3f5f"
            },
            "error_y": {
             "color": "#2a3f5f"
            },
            "marker": {
             "line": {
              "color": "#E5ECF6",
              "width": 0.5
             },
             "pattern": {
              "fillmode": "overlay",
              "size": 10,
              "solidity": 0.2
             }
            },
            "type": "bar"
           }
          ],
          "barpolar": [
           {
            "marker": {
             "line": {
              "color": "#E5ECF6",
              "width": 0.5
             },
             "pattern": {
              "fillmode": "overlay",
              "size": 10,
              "solidity": 0.2
             }
            },
            "type": "barpolar"
           }
          ],
          "carpet": [
           {
            "aaxis": {
             "endlinecolor": "#2a3f5f",
             "gridcolor": "white",
             "linecolor": "white",
             "minorgridcolor": "white",
             "startlinecolor": "#2a3f5f"
            },
            "baxis": {
             "endlinecolor": "#2a3f5f",
             "gridcolor": "white",
             "linecolor": "white",
             "minorgridcolor": "white",
             "startlinecolor": "#2a3f5f"
            },
            "type": "carpet"
           }
          ],
          "choropleth": [
           {
            "colorbar": {
             "outlinewidth": 0,
             "ticks": ""
            },
            "type": "choropleth"
           }
          ],
          "contour": [
           {
            "colorbar": {
             "outlinewidth": 0,
             "ticks": ""
            },
            "colorscale": [
             [
              0,
              "#0d0887"
             ],
             [
              0.1111111111111111,
              "#46039f"
             ],
             [
              0.2222222222222222,
              "#7201a8"
             ],
             [
              0.3333333333333333,
              "#9c179e"
             ],
             [
              0.4444444444444444,
              "#bd3786"
             ],
             [
              0.5555555555555556,
              "#d8576b"
             ],
             [
              0.6666666666666666,
              "#ed7953"
             ],
             [
              0.7777777777777778,
              "#fb9f3a"
             ],
             [
              0.8888888888888888,
              "#fdca26"
             ],
             [
              1,
              "#f0f921"
             ]
            ],
            "type": "contour"
           }
          ],
          "contourcarpet": [
           {
            "colorbar": {
             "outlinewidth": 0,
             "ticks": ""
            },
            "type": "contourcarpet"
           }
          ],
          "heatmap": [
           {
            "colorbar": {
             "outlinewidth": 0,
             "ticks": ""
            },
            "colorscale": [
             [
              0,
              "#0d0887"
             ],
             [
              0.1111111111111111,
              "#46039f"
             ],
             [
              0.2222222222222222,
              "#7201a8"
             ],
             [
              0.3333333333333333,
              "#9c179e"
             ],
             [
              0.4444444444444444,
              "#bd3786"
             ],
             [
              0.5555555555555556,
              "#d8576b"
             ],
             [
              0.6666666666666666,
              "#ed7953"
             ],
             [
              0.7777777777777778,
              "#fb9f3a"
             ],
             [
              0.8888888888888888,
              "#fdca26"
             ],
             [
              1,
              "#f0f921"
             ]
            ],
            "type": "heatmap"
           }
          ],
          "histogram": [
           {
            "marker": {
             "pattern": {
              "fillmode": "overlay",
              "size": 10,
              "solidity": 0.2
             }
            },
            "type": "histogram"
           }
          ],
          "histogram2d": [
           {
            "colorbar": {
             "outlinewidth": 0,
             "ticks": ""
            },
            "colorscale": [
             [
              0,
              "#0d0887"
             ],
             [
              0.1111111111111111,
              "#46039f"
             ],
             [
              0.2222222222222222,
              "#7201a8"
             ],
             [
              0.3333333333333333,
              "#9c179e"
             ],
             [
              0.4444444444444444,
              "#bd3786"
             ],
             [
              0.5555555555555556,
              "#d8576b"
             ],
             [
              0.6666666666666666,
              "#ed7953"
             ],
             [
              0.7777777777777778,
              "#fb9f3a"
             ],
             [
              0.8888888888888888,
              "#fdca26"
             ],
             [
              1,
              "#f0f921"
             ]
            ],
            "type": "histogram2d"
           }
          ],
          "histogram2dcontour": [
           {
            "colorbar": {
             "outlinewidth": 0,
             "ticks": ""
            },
            "colorscale": [
             [
              0,
              "#0d0887"
             ],
             [
              0.1111111111111111,
              "#46039f"
             ],
             [
              0.2222222222222222,
              "#7201a8"
             ],
             [
              0.3333333333333333,
              "#9c179e"
             ],
             [
              0.4444444444444444,
              "#bd3786"
             ],
             [
              0.5555555555555556,
              "#d8576b"
             ],
             [
              0.6666666666666666,
              "#ed7953"
             ],
             [
              0.7777777777777778,
              "#fb9f3a"
             ],
             [
              0.8888888888888888,
              "#fdca26"
             ],
             [
              1,
              "#f0f921"
             ]
            ],
            "type": "histogram2dcontour"
           }
          ],
          "mesh3d": [
           {
            "colorbar": {
             "outlinewidth": 0,
             "ticks": ""
            },
            "type": "mesh3d"
           }
          ],
          "parcoords": [
           {
            "line": {
             "colorbar": {
              "outlinewidth": 0,
              "ticks": ""
             }
            },
            "type": "parcoords"
           }
          ],
          "pie": [
           {
            "automargin": true,
            "type": "pie"
           }
          ],
          "scatter": [
           {
            "fillpattern": {
             "fillmode": "overlay",
             "size": 10,
             "solidity": 0.2
            },
            "type": "scatter"
           }
          ],
          "scatter3d": [
           {
            "line": {
             "colorbar": {
              "outlinewidth": 0,
              "ticks": ""
             }
            },
            "marker": {
             "colorbar": {
              "outlinewidth": 0,
              "ticks": ""
             }
            },
            "type": "scatter3d"
           }
          ],
          "scattercarpet": [
           {
            "marker": {
             "colorbar": {
              "outlinewidth": 0,
              "ticks": ""
             }
            },
            "type": "scattercarpet"
           }
          ],
          "scattergeo": [
           {
            "marker": {
             "colorbar": {
              "outlinewidth": 0,
              "ticks": ""
             }
            },
            "type": "scattergeo"
           }
          ],
          "scattergl": [
           {
            "marker": {
             "colorbar": {
              "outlinewidth": 0,
              "ticks": ""
             }
            },
            "type": "scattergl"
           }
          ],
          "scattermap": [
           {
            "marker": {
             "colorbar": {
              "outlinewidth": 0,
              "ticks": ""
             }
            },
            "type": "scattermap"
           }
          ],
          "scattermapbox": [
           {
            "marker": {
             "colorbar": {
              "outlinewidth": 0,
              "ticks": ""
             }
            },
            "type": "scattermapbox"
           }
          ],
          "scatterpolar": [
           {
            "marker": {
             "colorbar": {
              "outlinewidth": 0,
              "ticks": ""
             }
            },
            "type": "scatterpolar"
           }
          ],
          "scatterpolargl": [
           {
            "marker": {
             "colorbar": {
              "outlinewidth": 0,
              "ticks": ""
             }
            },
            "type": "scatterpolargl"
           }
          ],
          "scatterternary": [
           {
            "marker": {
             "colorbar": {
              "outlinewidth": 0,
              "ticks": ""
             }
            },
            "type": "scatterternary"
           }
          ],
          "surface": [
           {
            "colorbar": {
             "outlinewidth": 0,
             "ticks": ""
            },
            "colorscale": [
             [
              0,
              "#0d0887"
             ],
             [
              0.1111111111111111,
              "#46039f"
             ],
             [
              0.2222222222222222,
              "#7201a8"
             ],
             [
              0.3333333333333333,
              "#9c179e"
             ],
             [
              0.4444444444444444,
              "#bd3786"
             ],
             [
              0.5555555555555556,
              "#d8576b"
             ],
             [
              0.6666666666666666,
              "#ed7953"
             ],
             [
              0.7777777777777778,
              "#fb9f3a"
             ],
             [
              0.8888888888888888,
              "#fdca26"
             ],
             [
              1,
              "#f0f921"
             ]
            ],
            "type": "surface"
           }
          ],
          "table": [
           {
            "cells": {
             "fill": {
              "color": "#EBF0F8"
             },
             "line": {
              "color": "white"
             }
            },
            "header": {
             "fill": {
              "color": "#C8D4E3"
             },
             "line": {
              "color": "white"
             }
            },
            "type": "table"
           }
          ]
         },
         "layout": {
          "annotationdefaults": {
           "arrowcolor": "#2a3f5f",
           "arrowhead": 0,
           "arrowwidth": 1
          },
          "autotypenumbers": "strict",
          "coloraxis": {
           "colorbar": {
            "outlinewidth": 0,
            "ticks": ""
           }
          },
          "colorscale": {
           "diverging": [
            [
             0,
             "#8e0152"
            ],
            [
             0.1,
             "#c51b7d"
            ],
            [
             0.2,
             "#de77ae"
            ],
            [
             0.3,
             "#f1b6da"
            ],
            [
             0.4,
             "#fde0ef"
            ],
            [
             0.5,
             "#f7f7f7"
            ],
            [
             0.6,
             "#e6f5d0"
            ],
            [
             0.7,
             "#b8e186"
            ],
            [
             0.8,
             "#7fbc41"
            ],
            [
             0.9,
             "#4d9221"
            ],
            [
             1,
             "#276419"
            ]
           ],
           "sequential": [
            [
             0,
             "#0d0887"
            ],
            [
             0.1111111111111111,
             "#46039f"
            ],
            [
             0.2222222222222222,
             "#7201a8"
            ],
            [
             0.3333333333333333,
             "#9c179e"
            ],
            [
             0.4444444444444444,
             "#bd3786"
            ],
            [
             0.5555555555555556,
             "#d8576b"
            ],
            [
             0.6666666666666666,
             "#ed7953"
            ],
            [
             0.7777777777777778,
             "#fb9f3a"
            ],
            [
             0.8888888888888888,
             "#fdca26"
            ],
            [
             1,
             "#f0f921"
            ]
           ],
           "sequentialminus": [
            [
             0,
             "#0d0887"
            ],
            [
             0.1111111111111111,
             "#46039f"
            ],
            [
             0.2222222222222222,
             "#7201a8"
            ],
            [
             0.3333333333333333,
             "#9c179e"
            ],
            [
             0.4444444444444444,
             "#bd3786"
            ],
            [
             0.5555555555555556,
             "#d8576b"
            ],
            [
             0.6666666666666666,
             "#ed7953"
            ],
            [
             0.7777777777777778,
             "#fb9f3a"
            ],
            [
             0.8888888888888888,
             "#fdca26"
            ],
            [
             1,
             "#f0f921"
            ]
           ]
          },
          "colorway": [
           "#636efa",
           "#EF553B",
           "#00cc96",
           "#ab63fa",
           "#FFA15A",
           "#19d3f3",
           "#FF6692",
           "#B6E880",
           "#FF97FF",
           "#FECB52"
          ],
          "font": {
           "color": "#2a3f5f"
          },
          "geo": {
           "bgcolor": "white",
           "lakecolor": "white",
           "landcolor": "#E5ECF6",
           "showlakes": true,
           "showland": true,
           "subunitcolor": "white"
          },
          "hoverlabel": {
           "align": "left"
          },
          "hovermode": "closest",
          "mapbox": {
           "style": "light"
          },
          "paper_bgcolor": "white",
          "plot_bgcolor": "#E5ECF6",
          "polar": {
           "angularaxis": {
            "gridcolor": "white",
            "linecolor": "white",
            "ticks": ""
           },
           "bgcolor": "#E5ECF6",
           "radialaxis": {
            "gridcolor": "white",
            "linecolor": "white",
            "ticks": ""
           }
          },
          "scene": {
           "xaxis": {
            "backgroundcolor": "#E5ECF6",
            "gridcolor": "white",
            "gridwidth": 2,
            "linecolor": "white",
            "showbackground": true,
            "ticks": "",
            "zerolinecolor": "white"
           },
           "yaxis": {
            "backgroundcolor": "#E5ECF6",
            "gridcolor": "white",
            "gridwidth": 2,
            "linecolor": "white",
            "showbackground": true,
            "ticks": "",
            "zerolinecolor": "white"
           },
           "zaxis": {
            "backgroundcolor": "#E5ECF6",
            "gridcolor": "white",
            "gridwidth": 2,
            "linecolor": "white",
            "showbackground": true,
            "ticks": "",
            "zerolinecolor": "white"
           }
          },
          "shapedefaults": {
           "line": {
            "color": "#2a3f5f"
           }
          },
          "ternary": {
           "aaxis": {
            "gridcolor": "white",
            "linecolor": "white",
            "ticks": ""
           },
           "baxis": {
            "gridcolor": "white",
            "linecolor": "white",
            "ticks": ""
           },
           "bgcolor": "#E5ECF6",
           "caxis": {
            "gridcolor": "white",
            "linecolor": "white",
            "ticks": ""
           }
          },
          "title": {
           "x": 0.05
          },
          "xaxis": {
           "automargin": true,
           "gridcolor": "white",
           "linecolor": "white",
           "ticks": "",
           "title": {
            "standoff": 15
           },
           "zerolinecolor": "white",
           "zerolinewidth": 2
          },
          "yaxis": {
           "automargin": true,
           "gridcolor": "white",
           "linecolor": "white",
           "ticks": "",
           "title": {
            "standoff": 15
           },
           "zerolinecolor": "white",
           "zerolinewidth": 2
          }
         }
        },
        "title": {
         "text": "Label vs. text length"
        },
        "xaxis": {
         "anchor": "y",
         "domain": [
          0,
          1
         ],
         "title": {
          "text": "x"
         }
        },
        "yaxis": {
         "anchor": "x",
         "domain": [
          0,
          1
         ],
         "title": {
          "text": "label"
         }
        }
       }
      }
     },
     "metadata": {},
     "output_type": "display_data"
    },
    {
     "data": {
      "application/vnd.plotly.v1+json": {
       "config": {
        "plotlyServerURL": "https://plot.ly"
       },
       "data": [
        {
         "hovertemplate": "x=%{x}<br>sentiment=%{y}<extra></extra>",
         "legendgroup": "",
         "marker": {
          "color": "#636efa",
          "symbol": "circle"
         },
         "mode": "markers",
         "name": "",
         "orientation": "v",
         "showlegend": false,
         "type": "scatter",
         "x": {
          "bdata": "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",
          "dtype": "i2"
         },
         "xaxis": "x",
         "y": {
          "bdata": "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",
          "dtype": "f8"
         },
         "yaxis": "y"
        }
       ],
       "layout": {
        "legend": {
         "tracegroupgap": 0
        },
        "template": {
         "data": {
          "bar": [
           {
            "error_x": {
             "color": "#2a3f5f"
            },
            "error_y": {
             "color": "#2a3f5f"
            },
            "marker": {
             "line": {
              "color": "#E5ECF6",
              "width": 0.5
             },
             "pattern": {
              "fillmode": "overlay",
              "size": 10,
              "solidity": 0.2
             }
            },
            "type": "bar"
           }
          ],
          "barpolar": [
           {
            "marker": {
             "line": {
              "color": "#E5ECF6",
              "width": 0.5
             },
             "pattern": {
              "fillmode": "overlay",
              "size": 10,
              "solidity": 0.2
             }
            },
            "type": "barpolar"
           }
          ],
          "carpet": [
           {
            "aaxis": {
             "endlinecolor": "#2a3f5f",
             "gridcolor": "white",
             "linecolor": "white",
             "minorgridcolor": "white",
             "startlinecolor": "#2a3f5f"
            },
            "baxis": {
             "endlinecolor": "#2a3f5f",
             "gridcolor": "white",
             "linecolor": "white",
             "minorgridcolor": "white",
             "startlinecolor": "#2a3f5f"
            },
            "type": "carpet"
           }
          ],
          "choropleth": [
           {
            "colorbar": {
             "outlinewidth": 0,
             "ticks": ""
            },
            "type": "choropleth"
           }
          ],
          "contour": [
           {
            "colorbar": {
             "outlinewidth": 0,
             "ticks": ""
            },
            "colorscale": [
             [
              0,
              "#0d0887"
             ],
             [
              0.1111111111111111,
              "#46039f"
             ],
             [
              0.2222222222222222,
              "#7201a8"
             ],
             [
              0.3333333333333333,
              "#9c179e"
             ],
             [
              0.4444444444444444,
              "#bd3786"
             ],
             [
              0.5555555555555556,
              "#d8576b"
             ],
             [
              0.6666666666666666,
              "#ed7953"
             ],
             [
              0.7777777777777778,
              "#fb9f3a"
             ],
             [
              0.8888888888888888,
              "#fdca26"
             ],
             [
              1,
              "#f0f921"
             ]
            ],
            "type": "contour"
           }
          ],
          "contourcarpet": [
           {
            "colorbar": {
             "outlinewidth": 0,
             "ticks": ""
            },
            "type": "contourcarpet"
           }
          ],
          "heatmap": [
           {
            "colorbar": {
             "outlinewidth": 0,
             "ticks": ""
            },
            "colorscale": [
             [
              0,
              "#0d0887"
             ],
             [
              0.1111111111111111,
              "#46039f"
             ],
             [
              0.2222222222222222,
              "#7201a8"
             ],
             [
              0.3333333333333333,
              "#9c179e"
             ],
             [
              0.4444444444444444,
              "#bd3786"
             ],
             [
              0.5555555555555556,
              "#d8576b"
             ],
             [
              0.6666666666666666,
              "#ed7953"
             ],
             [
              0.7777777777777778,
              "#fb9f3a"
             ],
             [
              0.8888888888888888,
              "#fdca26"
             ],
             [
              1,
              "#f0f921"
             ]
            ],
            "type": "heatmap"
           }
          ],
          "histogram": [
           {
            "marker": {
             "pattern": {
              "fillmode": "overlay",
              "size": 10,
              "solidity": 0.2
             }
            },
            "type": "histogram"
           }
          ],
          "histogram2d": [
           {
            "colorbar": {
             "outlinewidth": 0,
             "ticks": ""
            },
            "colorscale": [
             [
              0,
              "#0d0887"
             ],
             [
              0.1111111111111111,
              "#46039f"
             ],
             [
              0.2222222222222222,
              "#7201a8"
             ],
             [
              0.3333333333333333,
              "#9c179e"
             ],
             [
              0.4444444444444444,
              "#bd3786"
             ],
             [
              0.5555555555555556,
              "#d8576b"
             ],
             [
              0.6666666666666666,
              "#ed7953"
             ],
             [
              0.7777777777777778,
              "#fb9f3a"
             ],
             [
              0.8888888888888888,
              "#fdca26"
             ],
             [
              1,
              "#f0f921"
             ]
            ],
            "type": "histogram2d"
           }
          ],
          "histogram2dcontour": [
           {
            "colorbar": {
             "outlinewidth": 0,
             "ticks": ""
            },
            "colorscale": [
             [
              0,
              "#0d0887"
             ],
             [
              0.1111111111111111,
              "#46039f"
             ],
             [
              0.2222222222222222,
              "#7201a8"
             ],
             [
              0.3333333333333333,
              "#9c179e"
             ],
             [
              0.4444444444444444,
              "#bd3786"
             ],
             [
              0.5555555555555556,
              "#d8576b"
             ],
             [
              0.6666666666666666,
              "#ed7953"
             ],
             [
              0.7777777777777778,
              "#fb9f3a"
             ],
             [
              0.8888888888888888,
              "#fdca26"
             ],
             [
              1,
              "#f0f921"
             ]
            ],
            "type": "histogram2dcontour"
           }
          ],
          "mesh3d": [
           {
            "colorbar": {
             "outlinewidth": 0,
             "ticks": ""
            },
            "type": "mesh3d"
           }
          ],
          "parcoords": [
           {
            "line": {
             "colorbar": {
              "outlinewidth": 0,
              "ticks": ""
             }
            },
            "type": "parcoords"
           }
          ],
          "pie": [
           {
            "automargin": true,
            "type": "pie"
           }
          ],
          "scatter": [
           {
            "fillpattern": {
             "fillmode": "overlay",
             "size": 10,
             "solidity": 0.2
            },
            "type": "scatter"
           }
          ],
          "scatter3d": [
           {
            "line": {
             "colorbar": {
              "outlinewidth": 0,
              "ticks": ""
             }
            },
            "marker": {
             "colorbar": {
              "outlinewidth": 0,
              "ticks": ""
             }
            },
            "type": "scatter3d"
           }
          ],
          "scattercarpet": [
           {
            "marker": {
             "colorbar": {
              "outlinewidth": 0,
              "ticks": ""
             }
            },
            "type": "scattercarpet"
           }
          ],
          "scattergeo": [
           {
            "marker": {
             "colorbar": {
              "outlinewidth": 0,
              "ticks": ""
             }
            },
            "type": "scattergeo"
           }
          ],
          "scattergl": [
           {
            "marker": {
             "colorbar": {
              "outlinewidth": 0,
              "ticks": ""
             }
            },
            "type": "scattergl"
           }
          ],
          "scattermap": [
           {
            "marker": {
             "colorbar": {
              "outlinewidth": 0,
              "ticks": ""
             }
            },
            "type": "scattermap"
           }
          ],
          "scattermapbox": [
           {
            "marker": {
             "colorbar": {
              "outlinewidth": 0,
              "ticks": ""
             }
            },
            "type": "scattermapbox"
           }
          ],
          "scatterpolar": [
           {
            "marker": {
             "colorbar": {
              "outlinewidth": 0,
              "ticks": ""
             }
            },
            "type": "scatterpolar"
           }
          ],
          "scatterpolargl": [
           {
            "marker": {
             "colorbar": {
              "outlinewidth": 0,
              "ticks": ""
             }
            },
            "type": "scatterpolargl"
           }
          ],
          "scatterternary": [
           {
            "marker": {
             "colorbar": {
              "outlinewidth": 0,
              "ticks": ""
             }
            },
            "type": "scatterternary"
           }
          ],
          "surface": [
           {
            "colorbar": {
             "outlinewidth": 0,
             "ticks": ""
            },
            "colorscale": [
             [
              0,
              "#0d0887"
             ],
             [
              0.1111111111111111,
              "#46039f"
             ],
             [
              0.2222222222222222,
              "#7201a8"
             ],
             [
              0.3333333333333333,
              "#9c179e"
             ],
             [
              0.4444444444444444,
              "#bd3786"
             ],
             [
              0.5555555555555556,
              "#d8576b"
             ],
             [
              0.6666666666666666,
              "#ed7953"
             ],
             [
              0.7777777777777778,
              "#fb9f3a"
             ],
             [
              0.8888888888888888,
              "#fdca26"
             ],
             [
              1,
              "#f0f921"
             ]
            ],
            "type": "surface"
           }
          ],
          "table": [
           {
            "cells": {
             "fill": {
              "color": "#EBF0F8"
             },
             "line": {
              "color": "white"
             }
            },
            "header": {
             "fill": {
              "color": "#C8D4E3"
             },
             "line": {
              "color": "white"
             }
            },
            "type": "table"
           }
          ]
         },
         "layout": {
          "annotationdefaults": {
           "arrowcolor": "#2a3f5f",
           "arrowhead": 0,
           "arrowwidth": 1
          },
          "autotypenumbers": "strict",
          "coloraxis": {
           "colorbar": {
            "outlinewidth": 0,
            "ticks": ""
           }
          },
          "colorscale": {
           "diverging": [
            [
             0,
             "#8e0152"
            ],
            [
             0.1,
             "#c51b7d"
            ],
            [
             0.2,
             "#de77ae"
            ],
            [
             0.3,
             "#f1b6da"
            ],
            [
             0.4,
             "#fde0ef"
            ],
            [
             0.5,
             "#f7f7f7"
            ],
            [
             0.6,
             "#e6f5d0"
            ],
            [
             0.7,
             "#b8e186"
            ],
            [
             0.8,
             "#7fbc41"
            ],
            [
             0.9,
             "#4d9221"
            ],
            [
             1,
             "#276419"
            ]
           ],
           "sequential": [
            [
             0,
             "#0d0887"
            ],
            [
             0.1111111111111111,
             "#46039f"
            ],
            [
             0.2222222222222222,
             "#7201a8"
            ],
            [
             0.3333333333333333,
             "#9c179e"
            ],
            [
             0.4444444444444444,
             "#bd3786"
            ],
            [
             0.5555555555555556,
             "#d8576b"
            ],
            [
             0.6666666666666666,
             "#ed7953"
            ],
            [
             0.7777777777777778,
             "#fb9f3a"
            ],
            [
             0.8888888888888888,
             "#fdca26"
            ],
            [
             1,
             "#f0f921"
            ]
           ],
           "sequentialminus": [
            [
             0,
             "#0d0887"
            ],
            [
             0.1111111111111111,
             "#46039f"
            ],
            [
             0.2222222222222222,
             "#7201a8"
            ],
            [
             0.3333333333333333,
             "#9c179e"
            ],
            [
             0.4444444444444444,
             "#bd3786"
            ],
            [
             0.5555555555555556,
             "#d8576b"
            ],
            [
             0.6666666666666666,
             "#ed7953"
            ],
            [
             0.7777777777777778,
             "#fb9f3a"
            ],
            [
             0.8888888888888888,
             "#fdca26"
            ],
            [
             1,
             "#f0f921"
            ]
           ]
          },
          "colorway": [
           "#636efa",
           "#EF553B",
           "#00cc96",
           "#ab63fa",
           "#FFA15A",
           "#19d3f3",
           "#FF6692",
           "#B6E880",
           "#FF97FF",
           "#FECB52"
          ],
          "font": {
           "color": "#2a3f5f"
          },
          "geo": {
           "bgcolor": "white",
           "lakecolor": "white",
           "landcolor": "#E5ECF6",
           "showlakes": true,
           "showland": true,
           "subunitcolor": "white"
          },
          "hoverlabel": {
           "align": "left"
          },
          "hovermode": "closest",
          "mapbox": {
           "style": "light"
          },
          "paper_bgcolor": "white",
          "plot_bgcolor": "#E5ECF6",
          "polar": {
           "angularaxis": {
            "gridcolor": "white",
            "linecolor": "white",
            "ticks": ""
           },
           "bgcolor": "#E5ECF6",
           "radialaxis": {
            "gridcolor": "white",
            "linecolor": "white",
            "ticks": ""
           }
          },
          "scene": {
           "xaxis": {
            "backgroundcolor": "#E5ECF6",
            "gridcolor": "white",
            "gridwidth": 2,
            "linecolor": "white",
            "showbackground": true,
            "ticks": "",
            "zerolinecolor": "white"
           },
           "yaxis": {
            "backgroundcolor": "#E5ECF6",
            "gridcolor": "white",
            "gridwidth": 2,
            "linecolor": "white",
            "showbackground": true,
            "ticks": "",
            "zerolinecolor": "white"
           },
           "zaxis": {
            "backgroundcolor": "#E5ECF6",
            "gridcolor": "white",
            "gridwidth": 2,
            "linecolor": "white",
            "showbackground": true,
            "ticks": "",
            "zerolinecolor": "white"
           }
          },
          "shapedefaults": {
           "line": {
            "color": "#2a3f5f"
           }
          },
          "ternary": {
           "aaxis": {
            "gridcolor": "white",
            "linecolor": "white",
            "ticks": ""
           },
           "baxis": {
            "gridcolor": "white",
            "linecolor": "white",
            "ticks": ""
           },
           "bgcolor": "#E5ECF6",
           "caxis": {
            "gridcolor": "white",
            "linecolor": "white",
            "ticks": ""
           }
          },
          "title": {
           "x": 0.05
          },
          "xaxis": {
           "automargin": true,
           "gridcolor": "white",
           "linecolor": "white",
           "ticks": "",
           "title": {
            "standoff": 15
           },
           "zerolinecolor": "white",
           "zerolinewidth": 2
          },
          "yaxis": {
           "automargin": true,
           "gridcolor": "white",
           "linecolor": "white",
           "ticks": "",
           "title": {
            "standoff": 15
           },
           "zerolinecolor": "white",
           "zerolinewidth": 2
          }
         }
        },
        "title": {
         "text": "Sentiment vs. text length"
        },
        "xaxis": {
         "anchor": "y",
         "domain": [
          0,
          1
         ],
         "title": {
          "text": "x"
         }
        },
        "yaxis": {
         "anchor": "x",
         "domain": [
          0,
          1
         ],
         "title": {
          "text": "sentiment"
         }
        }
       }
      }
     },
     "metadata": {},
     "output_type": "display_data"
    },
    {
     "data": {
      "text/plain": [
       "'內容長度在情緒與標籤的反應上不相同，內容越多通常表示情緒越正面，但在標籤上則沒有明顯的關係'"
      ]
     },
     "execution_count": 80,
     "metadata": {},
     "output_type": "execute_result"
    }
   ],
   "source": [
    "#Part 3 : please attempt the following tasks on \"the new dataset\"\n",
    "\n",
    "#取 Top-K 的頻率詞彙並排序\n",
    "K = 50\n",
    "idx = np.argsort(term_frequencies)[::-1][:K]\n",
    "\n",
    "df = pd.DataFrame({\n",
    "    \"term\": count_vect.get_feature_names_out()[idx],\n",
    "    \"frequency\": term_frequencies[idx],\n",
    "    \"rank\": np.arange(1, len(idx)+1)})\n",
    "\n",
    "fig = px.bar(\n",
    "    df.sort_values(\"frequency\", ascending=False),\n",
    "    x=\"term\", y=\"frequency\",\n",
    "    title=f\"Top {K} Term Frequencies\")\n",
    "fig.show()\n",
    "f'頻率最高的都是介係詞'\n",
    "\n",
    "#整體情緒標籤分佈\n",
    "fig2 = px.bar(N[\"label\"].value_counts().reset_index(name=\"count\")\n",
    "       .rename(columns={\"index\":\"label\"}),\n",
    "       x=\"label\", y=\"count\", title=\"Label distribution\")\n",
    "fig2.show()\n",
    "\n",
    "#子版各情緒標籤數量\n",
    "fcount = pd.crosstab(N[\"subreddit\"], N[\"label\"]).reindex(columns=[-1,0,1], fill_value=0)\n",
    "fig3 = px.bar(fcount.reset_index(names=\"subreddit\"), x=\"subreddit\", y=[-1, 0, 1], \n",
    "              barmode=\"group\", title=\"Subreddit × Label distribution\")\n",
    "fig3.update_yaxes(range=[0, counts.to_numpy().max()+30])\n",
    "fig3.show()\n",
    "f'stockmarket版的負面貼文的比例更高'\n",
    "\n",
    "#情緒標籤與內容長度關係\n",
    "fig4 = px.scatter(N, x=N[\"text\"].str.split().str.len(), y=\"label\",\n",
    "           title=\"Label vs. text length\")\n",
    "fig4.show()\n",
    "\n",
    "\n",
    "#情緒與內容長度關係\n",
    "fig5 = px.scatter(N, x=N[\"text\"].str.split().str.len(), y=\"sentiment\",\n",
    "           title=\"Sentiment vs. text length\")\n",
    "fig5.show()\n",
    "f'內容長度在情緒與標籤的反應上不相同，內容越多通常表示情緒越正面，但在標籤上則沒有明顯的關係'\n"
   ]
  },
  {
   "cell_type": "markdown",
   "metadata": {},
   "source": [
    "# Phase 2"
   ]
  },
  {
   "cell_type": "code",
   "execution_count": 15,
   "metadata": {},
   "outputs": [
    {
     "name": "stdout",
     "output_type": "stream",
     "text": [
      "交易檔已建立：C:\\Users\\Jack\\AppData\\Local\\Temp\\reddit_pqav_uoo.tsv\n"
     ]
    },
    {
     "ename": "KeyboardInterrupt",
     "evalue": "",
     "output_type": "error",
     "traceback": [
      "\u001b[31m---------------------------------------------------------------------------\u001b[39m",
      "\u001b[31mKeyboardInterrupt\u001b[39m                         Traceback (most recent call last)",
      "\u001b[36mCell\u001b[39m\u001b[36m \u001b[39m\u001b[32mIn[15]\u001b[39m\u001b[32m, line 38\u001b[39m\n\u001b[32m     36\u001b[39m t0 = perf_counter()\n\u001b[32m     37\u001b[39m model = MaxFPGrowth(iFile=tsv_path, minSup=minsup)\n\u001b[32m---> \u001b[39m\u001b[32m38\u001b[39m \u001b[43mmodel\u001b[49m\u001b[43m.\u001b[49m\u001b[43mmine\u001b[49m\u001b[43m(\u001b[49m\u001b[43m)\u001b[49m\n\u001b[32m     39\u001b[39m patterns = model.getPatterns()\n\u001b[32m     40\u001b[39m t1 = perf_counter()\n",
      "\u001b[36mFile \u001b[39m\u001b[32mc:\\Users\\Jack\\Documents\\DataM\\DM2025Labs\\DM2025-Lab1-Exercise\\.venv\\Lib\\site-packages\\PAMI\\frequentPattern\\maximal\\MaxFPGrowth.py:683\u001b[39m, in \u001b[36mMaxFPGrowth.mine\u001b[39m\u001b[34m(self)\u001b[39m\n\u001b[32m    681\u001b[39m \u001b[38;5;28mself\u001b[39m._maximalTree = _MPTree()\n\u001b[32m    682\u001b[39m Tree = \u001b[38;5;28mself\u001b[39m._buildTree(updatedTransactions, info)\n\u001b[32m--> \u001b[39m\u001b[32m683\u001b[39m \u001b[43mTree\u001b[49m\u001b[43m.\u001b[49m\u001b[43mgeneratePatterns\u001b[49m\u001b[43m(\u001b[49m\u001b[43m[\u001b[49m\u001b[43m]\u001b[49m\u001b[43m,\u001b[49m\u001b[43m \u001b[49m\u001b[43mpatterns\u001b[49m\u001b[43m,\u001b[49m\u001b[43m \u001b[49m\u001b[38;5;28;43mself\u001b[39;49m\u001b[43m.\u001b[49m\u001b[43m_maximalTree\u001b[49m\u001b[43m)\u001b[49m\n\u001b[32m    684\u001b[39m \u001b[38;5;28;01mfor\u001b[39;00m x, y \u001b[38;5;129;01min\u001b[39;00m patterns.items():\n\u001b[32m    685\u001b[39m     pattern = \u001b[38;5;28mstr\u001b[39m()\n",
      "\u001b[36mFile \u001b[39m\u001b[32mc:\\Users\\Jack\\Documents\\DataM\\DM2025Labs\\DM2025-Lab1-Exercise\\.venv\\Lib\\site-packages\\PAMI\\frequentPattern\\maximal\\MaxFPGrowth.py:290\u001b[39m, in \u001b[36m_Tree.generatePatterns\u001b[39m\u001b[34m(self, prefix, patterns, maximalTree)\u001b[39m\n\u001b[32m    288\u001b[39m     conditional_tree.addConditionalTransaction(condPatterns[pat], tids[pat])\n\u001b[32m    289\u001b[39m \u001b[38;5;28;01mif\u001b[39;00m \u001b[38;5;28mlen\u001b[39m(condPatterns) >= \u001b[32m1\u001b[39m:\n\u001b[32m--> \u001b[39m\u001b[32m290\u001b[39m     \u001b[43mconditional_tree\u001b[49m\u001b[43m.\u001b[49m\u001b[43mgeneratePatterns\u001b[49m\u001b[43m(\u001b[49m\u001b[43mpattern\u001b[49m\u001b[43m,\u001b[49m\u001b[43m \u001b[49m\u001b[43mpatterns\u001b[49m\u001b[43m,\u001b[49m\u001b[43m \u001b[49m\u001b[43mmaximalTree\u001b[49m\u001b[43m)\u001b[49m\n\u001b[32m    291\u001b[39m \u001b[38;5;28;01melse\u001b[39;00m:\n\u001b[32m    292\u001b[39m     maximalTree.addTransaction(pattern)\n",
      "\u001b[36mFile \u001b[39m\u001b[32mc:\\Users\\Jack\\Documents\\DataM\\DM2025Labs\\DM2025-Lab1-Exercise\\.venv\\Lib\\site-packages\\PAMI\\frequentPattern\\maximal\\MaxFPGrowth.py:290\u001b[39m, in \u001b[36m_Tree.generatePatterns\u001b[39m\u001b[34m(self, prefix, patterns, maximalTree)\u001b[39m\n\u001b[32m    288\u001b[39m     conditional_tree.addConditionalTransaction(condPatterns[pat], tids[pat])\n\u001b[32m    289\u001b[39m \u001b[38;5;28;01mif\u001b[39;00m \u001b[38;5;28mlen\u001b[39m(condPatterns) >= \u001b[32m1\u001b[39m:\n\u001b[32m--> \u001b[39m\u001b[32m290\u001b[39m     \u001b[43mconditional_tree\u001b[49m\u001b[43m.\u001b[49m\u001b[43mgeneratePatterns\u001b[49m\u001b[43m(\u001b[49m\u001b[43mpattern\u001b[49m\u001b[43m,\u001b[49m\u001b[43m \u001b[49m\u001b[43mpatterns\u001b[49m\u001b[43m,\u001b[49m\u001b[43m \u001b[49m\u001b[43mmaximalTree\u001b[49m\u001b[43m)\u001b[49m\n\u001b[32m    291\u001b[39m \u001b[38;5;28;01melse\u001b[39;00m:\n\u001b[32m    292\u001b[39m     maximalTree.addTransaction(pattern)\n",
      "    \u001b[31m[... skipping similar frames: _Tree.generatePatterns at line 290 (20 times)]\u001b[39m\n",
      "\u001b[36mFile \u001b[39m\u001b[32mc:\\Users\\Jack\\Documents\\DataM\\DM2025Labs\\DM2025-Lab1-Exercise\\.venv\\Lib\\site-packages\\PAMI\\frequentPattern\\maximal\\MaxFPGrowth.py:290\u001b[39m, in \u001b[36m_Tree.generatePatterns\u001b[39m\u001b[34m(self, prefix, patterns, maximalTree)\u001b[39m\n\u001b[32m    288\u001b[39m     conditional_tree.addConditionalTransaction(condPatterns[pat], tids[pat])\n\u001b[32m    289\u001b[39m \u001b[38;5;28;01mif\u001b[39;00m \u001b[38;5;28mlen\u001b[39m(condPatterns) >= \u001b[32m1\u001b[39m:\n\u001b[32m--> \u001b[39m\u001b[32m290\u001b[39m     \u001b[43mconditional_tree\u001b[49m\u001b[43m.\u001b[49m\u001b[43mgeneratePatterns\u001b[49m\u001b[43m(\u001b[49m\u001b[43mpattern\u001b[49m\u001b[43m,\u001b[49m\u001b[43m \u001b[49m\u001b[43mpatterns\u001b[49m\u001b[43m,\u001b[49m\u001b[43m \u001b[49m\u001b[43mmaximalTree\u001b[49m\u001b[43m)\u001b[49m\n\u001b[32m    291\u001b[39m \u001b[38;5;28;01melse\u001b[39;00m:\n\u001b[32m    292\u001b[39m     maximalTree.addTransaction(pattern)\n",
      "\u001b[36mFile \u001b[39m\u001b[32mc:\\Users\\Jack\\Documents\\DataM\\DM2025Labs\\DM2025-Lab1-Exercise\\.venv\\Lib\\site-packages\\PAMI\\frequentPattern\\maximal\\MaxFPGrowth.py:278\u001b[39m, in \u001b[36m_Tree.generatePatterns\u001b[39m\u001b[34m(self, prefix, patterns, maximalTree)\u001b[39m\n\u001b[32m    276\u001b[39m pattern = prefix[:]\n\u001b[32m    277\u001b[39m pattern.append(i)\n\u001b[32m--> \u001b[39m\u001b[32m278\u001b[39m condPatterns, tids, info = \u001b[38;5;28;43mself\u001b[39;49m\u001b[43m.\u001b[49m\u001b[43mgetConditionalPatterns\u001b[49m\u001b[43m(\u001b[49m\u001b[43mi\u001b[49m\u001b[43m)\u001b[49m\n\u001b[32m    279\u001b[39m conditional_tree = _Tree()\n\u001b[32m    280\u001b[39m conditional_tree.info = info.copy()\n",
      "\u001b[36mFile \u001b[39m\u001b[32mc:\\Users\\Jack\\Documents\\DataM\\DM2025Labs\\DM2025-Lab1-Exercise\\.venv\\Lib\\site-packages\\PAMI\\frequentPattern\\maximal\\MaxFPGrowth.py:218\u001b[39m, in \u001b[36m_Tree.getConditionalPatterns\u001b[39m\u001b[34m(self, alpha)\u001b[39m\n\u001b[32m    216\u001b[39m         finalPatterns.append(set2)\n\u001b[32m    217\u001b[39m         finalSets.append(set1)\n\u001b[32m--> \u001b[39m\u001b[32m218\u001b[39m finalPatterns, finalSets, info = \u001b[38;5;28;43mself\u001b[39;49m\u001b[43m.\u001b[49m\u001b[43mconditionalTransactions\u001b[49m\u001b[43m(\u001b[49m\u001b[43mfinalPatterns\u001b[49m\u001b[43m,\u001b[49m\u001b[43m \u001b[49m\u001b[43mfinalSets\u001b[49m\u001b[43m)\u001b[49m\n\u001b[32m    219\u001b[39m \u001b[38;5;28;01mreturn\u001b[39;00m finalPatterns, finalSets, info\n",
      "\u001b[36mFile \u001b[39m\u001b[32mc:\\Users\\Jack\\Documents\\DataM\\DM2025Labs\\DM2025-Lab1-Exercise\\.venv\\Lib\\site-packages\\PAMI\\frequentPattern\\maximal\\MaxFPGrowth.py:239\u001b[39m, in \u001b[36m_Tree.conditionalTransactions\u001b[39m\u001b[34m(self, condPatterns, condFreq)\u001b[39m\n\u001b[32m    237\u001b[39m             data1[j] = condFreq[i]\n\u001b[32m    238\u001b[39m         \u001b[38;5;28;01melse\u001b[39;00m:\n\u001b[32m--> \u001b[39m\u001b[32m239\u001b[39m             data1[j] += condFreq[i]\n\u001b[32m    240\u001b[39m updatedDict = {}\n\u001b[32m    241\u001b[39m updatedDict = {k: v \u001b[38;5;28;01mfor\u001b[39;00m k, v \u001b[38;5;129;01min\u001b[39;00m data1.items() \u001b[38;5;28;01mif\u001b[39;00m v >= _minSup}\n",
      "\u001b[31mKeyboardInterrupt\u001b[39m: "
     ]
    }
   ],
   "source": [
    "# === Finding Frequent Patterns with PAMI (Reddit 簡化版) ===\n",
    "from time import perf_counter\n",
    "import pandas as pd, re, tempfile\n",
    "\n",
    "# 1) 讀取資料\n",
    "df = pd.read_csv(\"newdataset/Reddit-stock-sentiment.csv\")\n",
    "\n",
    "# 偵測文字欄位\n",
    "text_col = next((c for c in [\"clean_text\",\"text\",\"body\",\"selftext\",\"title\"] if c in df.columns), None)\n",
    "if text_col is None:\n",
    "    raise ValueError(f\"找不到文字欄位，現有欄位: {df.columns.tolist()}\")\n",
    "\n",
    "# 2) 簡單斷詞 + 抽樣\n",
    "def tokenize(s):\n",
    "    return re.findall(r\"[a-zA-Z']+\", str(s).lower())\n",
    "\n",
    "sample = df[text_col].dropna().astype(str).head(1000)   # 抽 1000 篇避免過慢\n",
    "tsv_path = tempfile.NamedTemporaryFile(prefix=\"reddit_\", suffix=\".tsv\", delete=False).name\n",
    "\n",
    "with open(tsv_path, \"w\", encoding=\"utf-8\") as f:\n",
    "    for text in sample:\n",
    "        tokens = tokenize(text)\n",
    "        if tokens:\n",
    "            f.write(\"\\t\".join(tokens) + \"\\n\")\n",
    "\n",
    "print(f\"交易檔已建立：{tsv_path}\")\n",
    "\n",
    "# 3) 載入 MaxFPGrowth\n",
    "try:\n",
    "    from PAMI.frequentPattern.maximal.MaxFPGrowth import MaxFPGrowth\n",
    "except:\n",
    "    from PAMI.frequentPattern.maximal.maxfpgrowth import MaxFPGrowth\n",
    "\n",
    "# 4) 採礦：支援度閾值可自行調整\n",
    "for minsup in [3, 6]:\n",
    "    t0 = perf_counter()\n",
    "    model = MaxFPGrowth(iFile=tsv_path, minSup=minsup)\n",
    "    model.mine()\n",
    "    patterns = model.getPatterns()\n",
    "    t1 = perf_counter()\n",
    "\n",
    "    print(f\"\\n=== MaxFPGrowth (minSup={minsup}) ===\")\n",
    "    print(f\"執行時間: {t1 - t0:.3f} 秒, 發現 {len(patterns)} 筆頻繁項集\")\n",
    "    # 顯示前 10 個結果\n",
    "    for i, (it, sup) in enumerate(list(patterns.items())[:10], 1):\n",
    "        print(f\"{i:>3}. {tuple(sorted(map(str, it)))}  sup={sup}\")\n"
   ]
  },
  {
   "cell_type": "code",
   "execution_count": null,
   "metadata": {},
   "outputs": [
    {
     "ename": "NameError",
     "evalue": "name 'X' is not defined",
     "output_type": "error",
     "traceback": [
      "\u001b[31m---------------------------------------------------------------------------\u001b[39m",
      "\u001b[31mNameError\u001b[39m                                 Traceback (most recent call last)",
      "\u001b[36mCell\u001b[39m\u001b[36m \u001b[39m\u001b[32mIn[11]\u001b[39m\u001b[32m, line 11\u001b[39m\n\u001b[32m      8\u001b[39m \u001b[38;5;28;01mfrom\u001b[39;00m\u001b[38;5;250m \u001b[39m\u001b[34;01msklearn\u001b[39;00m\u001b[34;01m.\u001b[39;00m\u001b[34;01mdecomposition\u001b[39;00m\u001b[38;5;250m \u001b[39m\u001b[38;5;28;01mimport\u001b[39;00m PCA\n\u001b[32m      9\u001b[39m \u001b[38;5;28;01mfrom\u001b[39;00m\u001b[38;5;250m \u001b[39m\u001b[34;01msklearn\u001b[39;00m\u001b[34;01m.\u001b[39;00m\u001b[34;01mmanifold\u001b[39;00m\u001b[38;5;250m \u001b[39m\u001b[38;5;28;01mimport\u001b[39;00m TSNE\n\u001b[32m---> \u001b[39m\u001b[32m11\u001b[39m texts = \u001b[43mX\u001b[49m[\u001b[33m'\u001b[39m\u001b[33mtext\u001b[39m\u001b[33m'\u001b[39m].astype(\u001b[38;5;28mstr\u001b[39m).fillna(\u001b[33m\"\u001b[39m\u001b[33m\"\u001b[39m).values\n\u001b[32m     12\u001b[39m labels = X[\u001b[33m'\u001b[39m\u001b[33mcategory_name\u001b[39m\u001b[33m'\u001b[39m].astype(\u001b[38;5;28mstr\u001b[39m).values\n\u001b[32m     13\u001b[39m classes = np.unique(labels)\n",
      "\u001b[31mNameError\u001b[39m: name 'X' is not defined"
     ]
    }
   ],
   "source": [
    "# Exercise 18\n",
    "import numpy as np\n",
    "import pandas as pd\n",
    "import matplotlib.pyplot as plt\n",
    "from mpl_toolkits.mplot3d import Axes3D  # 啟用 3D\n",
    "from sklearn.feature_extraction.text import TfidfVectorizer\n",
    "from sklearn.decomposition import PCA\n",
    "from sklearn.manifold import TSNE\n",
    "\n",
    "texts = X['text'].astype(str).fillna(\"\").values\n",
    "labels = X['category_name'].astype(str).values\n",
    "classes = np.unique(labels)\n",
    "\n",
    "# 1) TF-IDF\n",
    "tfidf = TfidfVectorizer(max_features=5000, min_df=3, stop_words='english')\n",
    "M = tfidf.fit_transform(texts)   # 稀疏矩陣\n",
    "\n",
    "# 2) 優先 UMAP→次選 t-SNE→最後 PCA\n",
    "method = None\n",
    "try:\n",
    "    import umap\n",
    "    reducer = umap.UMAP(n_components=3, n_neighbors=15, min_dist=0.1,\n",
    "                        metric='cosine', random_state=42)\n",
    "    Z = reducer.fit_transform(M)\n",
    "    method = \"UMAP-3D\"\n",
    "except Exception:\n",
    "    try:\n",
    "        P50 = PCA(n_components=min(50, M.shape[1]-1), random_state=42).fit_transform(M.toarray())\n",
    "        tsne = TSNE(n_components=3, perplexity=30, init='pca', random_state=42, n_iter=1000)\n",
    "        Z = tsne.fit_transform(P50)\n",
    "        method = \"t-SNE-3D\"\n",
    "    except Exception:\n",
    "        Z = PCA(n_components=3, random_state=42).fit_transform(M.toarray())\n",
    "        method = \"PCA-3D\"\n",
    "\n",
    "print(f\"{method}  shape={Z.shape}\")\n",
    "\n",
    "# 3) 繪圖：三個視角\n",
    "views = [(20, 30), (20, 120), (60, 30)]\n",
    "\n",
    "def plot_view(elev, azim, title):\n",
    "    fig = plt.figure(figsize=(6,5))\n",
    "    ax = fig.add_subplot(111, projection='3d')\n",
    "    for c in classes:\n",
    "        idx = (labels == c)\n",
    "        ax.scatter(Z[idx,0], Z[idx,1], Z[idx,2], s=10, alpha=0.75, label=c)\n",
    "    ax.set_xlabel('Dim1'); ax.set_ylabel('Dim2'); ax.set_zlabel('Dim3')\n",
    "    ax.view_init(elev=elev, azim=azim)\n",
    "    ax.set_title(f\"{method}  elev={elev}, azim={azim}\")\n",
    "    ax.legend(fontsize=8, loc='best')\n",
    "    plt.tight_layout(); plt.show()\n",
    "\n",
    "for v in views: plot_view(*v, title=\"\")\n"
   ]
  },
  {
   "cell_type": "code",
   "execution_count": 8,
   "metadata": {},
   "outputs": [
    {
     "name": "stdout",
     "output_type": "stream",
     "text": [
      "=== Word Frequency (CountVectorizer + MultinomialNB) ===\n",
      "Accuracy: 0.4980392156862745\n",
      "                  precision    recall  f1-score   support\n",
      "\n",
      "     StockMarket     0.5455    0.5600    0.5526        75\n",
      "          stocks     0.4220    0.5542    0.4792        83\n",
      "stockstobuytoday     0.5882    0.5769    0.5825        52\n",
      "  wallstreetbets     0.5000    0.2000    0.2857        45\n",
      "\n",
      "        accuracy                         0.4980       255\n",
      "       macro avg     0.5139    0.4728    0.4750       255\n",
      "    weighted avg     0.5060    0.4980    0.4877       255\n",
      "\n",
      "\n",
      "=== TF-IDF (TfidfVectorizer + BernoulliNB) ===\n",
      "Accuracy: 0.4666666666666667\n",
      "                  precision    recall  f1-score   support\n",
      "\n",
      "     StockMarket     0.3728    0.8400    0.5164        75\n",
      "          stocks     0.7027    0.3133    0.4333        83\n",
      "stockstobuytoday     0.6667    0.4615    0.5455        52\n",
      "  wallstreetbets     0.4615    0.1333    0.2069        45\n",
      "\n",
      "        accuracy                         0.4667       255\n",
      "       macro avg     0.5509    0.4370    0.4255       255\n",
      "    weighted avg     0.5558    0.4667    0.4407       255\n",
      "\n"
     ]
    }
   ],
   "source": [
    "# Part 3\n",
    "\n",
    "import pandas as pd\n",
    "from sklearn.feature_extraction.text import CountVectorizer, TfidfVectorizer\n",
    "from sklearn.model_selection import train_test_split\n",
    "from sklearn.naive_bayes import MultinomialNB, BernoulliNB\n",
    "from sklearn.metrics import accuracy_score, classification_report\n",
    "\n",
    "# 1) 讀資料\n",
    "df = pd.read_csv(\"newdataset/Reddit-stock-sentiment.csv\")\n",
    "\n",
    "# 偵測文字與類別欄位\n",
    "text_col = next((c for c in [\"clean_text\",\"text\",\"body\",\"selftext\",\"title\"] if c in df.columns), None)\n",
    "cat_col  = next((c for c in [\"subreddit\",\"category\",\"category_name\",\"topic\"] if c in df.columns), None)\n",
    "if text_col is None or cat_col is None:\n",
    "    raise ValueError(f\"找不到 text 或 category 欄位。現有欄位：{df.columns.tolist()}\")\n",
    "\n",
    "# 填空\n",
    "df[text_col] = df[text_col].fillna(\"\")\n",
    "\n",
    "# 2) 訓練/測試分割\n",
    "X_train, X_test, y_train, y_test = train_test_split(\n",
    "    df[text_col], df[cat_col], test_size=0.3, random_state=42, stratify=df[cat_col]\n",
    ")\n",
    "\n",
    "# === (A) Word Frequency features ===\n",
    "count_vect = CountVectorizer(max_features=5000, min_df=3, stop_words=\"english\")\n",
    "X_train_counts = count_vect.fit_transform(X_train)\n",
    "X_test_counts  = count_vect.transform(X_test)\n",
    "\n",
    "nb_count = MultinomialNB()\n",
    "nb_count.fit(X_train_counts, y_train)\n",
    "y_pred_count = nb_count.predict(X_test_counts)\n",
    "\n",
    "print(\"=== Word Frequency (CountVectorizer + MultinomialNB) ===\")\n",
    "print(\"Accuracy:\", accuracy_score(y_test, y_pred_count))\n",
    "print(classification_report(y_test, y_pred_count, digits=4))\n",
    "\n",
    "# === (B) TF-IDF features ===\n",
    "tfidf_vect = TfidfVectorizer(max_features=5000, min_df=3, stop_words=\"english\")\n",
    "X_train_tfidf = tfidf_vect.fit_transform(X_train)\n",
    "X_test_tfidf  = tfidf_vect.transform(X_test)\n",
    "\n",
    "# BernoulliNB 在 TF-IDF（連續權重）上通常表現更穩定，也可用 MultinomialNB 作比較\n",
    "nb_tfidf = BernoulliNB()\n",
    "nb_tfidf.fit(X_train_tfidf > 0, y_train)     # >0 將 TF-IDF 二值化\n",
    "y_pred_tfidf = nb_tfidf.predict(X_test_tfidf > 0)\n",
    "\n",
    "print(\"\\n=== TF-IDF (TfidfVectorizer + BernoulliNB) ===\")\n",
    "print(\"Accuracy:\", accuracy_score(y_test, y_pred_tfidf))\n",
    "print(classification_report(y_test, y_pred_tfidf, digits=4))"
   ]
  },
  {
   "cell_type": "code",
   "execution_count": null,
   "metadata": {},
   "outputs": [],
   "source": [
    "# Part 4\n",
    "\n",
    "# 貼文含網址、表情符號、股票代號未處理。  \n",
    "# 未做詞形還原或移除停用詞。  \n",
    "# 各子版主題相似，詞彙差異小。  \n",
    "# Naive Bayes 未調整超參數。  "
   ]
  }
 ],
 "metadata": {
  "kernelspec": {
   "display_name": ".venv",
   "language": "python",
   "name": "python3"
  },
  "language_info": {
   "codemirror_mode": {
    "name": "ipython",
    "version": 3
   },
   "file_extension": ".py",
   "mimetype": "text/x-python",
   "name": "python",
   "nbconvert_exporter": "python",
   "pygments_lexer": "ipython3",
   "version": "3.11.0"
  }
 },
 "nbformat": 4,
 "nbformat_minor": 4
}
